{
 "cells": [
  {
   "cell_type": "code",
   "execution_count": 1,
   "id": "86faf9e4",
   "metadata": {},
   "outputs": [],
   "source": [
    "import numpy as np\n",
    "import pandas as pd\n",
    "from sklearn.datasets import make_classification"
   ]
  },
  {
   "cell_type": "code",
   "execution_count": 2,
   "id": "373a129d",
   "metadata": {},
   "outputs": [],
   "source": [
    "X,y = make_classification(n_samples=2000,n_features=4,n_classes=2,random_state=0)"
   ]
  },
  {
   "cell_type": "code",
   "execution_count": 3,
   "id": "e5c5bd74",
   "metadata": {},
   "outputs": [
    {
     "data": {
      "text/plain": [
       "(2000, 4)"
      ]
     },
     "execution_count": 3,
     "metadata": {},
     "output_type": "execute_result"
    }
   ],
   "source": [
    "X.shape"
   ]
  },
  {
   "cell_type": "code",
   "execution_count": 4,
   "id": "4f7efaf5",
   "metadata": {},
   "outputs": [
    {
     "data": {
      "text/plain": [
       "array([[-0.21328819,  0.65425764,  0.92983206,  0.00313137],\n",
       "       [-1.69655301, -1.4305697 ,  0.93600596,  0.34480654],\n",
       "       [ 0.31414742,  1.30909882,  0.84340826, -0.11419435],\n",
       "       ...,\n",
       "       [-1.11455053, -1.37786766,  0.1883809 ,  0.24764188],\n",
       "       [-1.13571347, -0.94061429,  0.64318002,  0.23000004],\n",
       "       [-1.3451129 , -1.11997136,  0.75599421,  0.27269265]])"
      ]
     },
     "execution_count": 4,
     "metadata": {},
     "output_type": "execute_result"
    }
   ],
   "source": [
    "X"
   ]
  },
  {
   "cell_type": "code",
   "execution_count": 5,
   "id": "d5334995",
   "metadata": {},
   "outputs": [
    {
     "data": {
      "text/plain": [
       "array([1, 0, 1, ..., 0, 0, 0])"
      ]
     },
     "execution_count": 5,
     "metadata": {},
     "output_type": "execute_result"
    }
   ],
   "source": [
    "y"
   ]
  },
  {
   "cell_type": "code",
   "execution_count": 6,
   "id": "ebb251de",
   "metadata": {},
   "outputs": [],
   "source": [
    "from sklearn.model_selection import train_test_split"
   ]
  },
  {
   "cell_type": "code",
   "execution_count": 7,
   "id": "c3bea6e0",
   "metadata": {},
   "outputs": [],
   "source": [
    "X_train,X_test,y_train,y_test = train_test_split(X,y,test_size=0.2,random_state=0)"
   ]
  },
  {
   "cell_type": "code",
   "execution_count": 8,
   "id": "0c4b217a",
   "metadata": {},
   "outputs": [
    {
     "data": {
      "text/plain": [
       "(1600, 4)"
      ]
     },
     "execution_count": 8,
     "metadata": {},
     "output_type": "execute_result"
    }
   ],
   "source": [
    "X_train.shape"
   ]
  },
  {
   "cell_type": "code",
   "execution_count": 9,
   "id": "db2981e6",
   "metadata": {},
   "outputs": [
    {
     "data": {
      "text/plain": [
       "(400, 4)"
      ]
     },
     "execution_count": 9,
     "metadata": {},
     "output_type": "execute_result"
    }
   ],
   "source": [
    "X_test.shape"
   ]
  },
  {
   "cell_type": "code",
   "execution_count": 10,
   "id": "6ef6299d",
   "metadata": {},
   "outputs": [],
   "source": [
    "from keras.models import Sequential\n",
    "from keras.layers import Dense\n",
    "import keras"
   ]
  },
  {
   "cell_type": "code",
   "execution_count": 11,
   "id": "fbed21f7",
   "metadata": {},
   "outputs": [],
   "source": [
    "model = Sequential()\n",
    "model.add(Dense(8,activation='relu',input_dim=4))\n",
    "model.add(Dense(8,activation='relu'))\n",
    "model.add(Dense(8,activation='relu'))\n",
    "model.add(Dense(1,activation='sigmoid'))"
   ]
  },
  {
   "cell_type": "code",
   "execution_count": 12,
   "id": "de467322",
   "metadata": {},
   "outputs": [
    {
     "name": "stdout",
     "output_type": "stream",
     "text": [
      "Model: \"sequential\"\n",
      "_________________________________________________________________\n",
      "Layer (type)                 Output Shape              Param #   \n",
      "=================================================================\n",
      "dense (Dense)                (None, 8)                 40        \n",
      "_________________________________________________________________\n",
      "dense_1 (Dense)              (None, 8)                 72        \n",
      "_________________________________________________________________\n",
      "dense_2 (Dense)              (None, 8)                 72        \n",
      "_________________________________________________________________\n",
      "dense_3 (Dense)              (None, 1)                 9         \n",
      "=================================================================\n",
      "Total params: 193\n",
      "Trainable params: 193\n",
      "Non-trainable params: 0\n",
      "_________________________________________________________________\n"
     ]
    }
   ],
   "source": [
    "model.summary()"
   ]
  },
  {
   "cell_type": "code",
   "execution_count": 13,
   "id": "7c90aad5",
   "metadata": {},
   "outputs": [],
   "source": [
    "#model = Sequential([\n",
    "#    Dense(8,activation='relu',input_shape=[4]),\n",
    "#    Dense(8,activation='relu'),\n",
    "#    Dense(8,activation='relu'),\n",
    "#    Dense(1,activation='sigmoid')\n",
    "#])"
   ]
  },
  {
   "cell_type": "code",
   "execution_count": 14,
   "id": "0abb4bf3",
   "metadata": {},
   "outputs": [
    {
     "name": "stdout",
     "output_type": "stream",
     "text": [
      "Model: \"sequential\"\n",
      "_________________________________________________________________\n",
      "Layer (type)                 Output Shape              Param #   \n",
      "=================================================================\n",
      "dense (Dense)                (None, 8)                 40        \n",
      "_________________________________________________________________\n",
      "dense_1 (Dense)              (None, 8)                 72        \n",
      "_________________________________________________________________\n",
      "dense_2 (Dense)              (None, 8)                 72        \n",
      "_________________________________________________________________\n",
      "dense_3 (Dense)              (None, 1)                 9         \n",
      "=================================================================\n",
      "Total params: 193\n",
      "Trainable params: 193\n",
      "Non-trainable params: 0\n",
      "_________________________________________________________________\n"
     ]
    }
   ],
   "source": [
    "model.summary()"
   ]
  },
  {
   "cell_type": "code",
   "execution_count": 15,
   "id": "e539991a",
   "metadata": {},
   "outputs": [],
   "source": [
    "model.compile(loss='binary_crossentropy',optimizer='adam',metrics=['accuracy'])"
   ]
  },
  {
   "cell_type": "code",
   "execution_count": 16,
   "id": "ec95f69e",
   "metadata": {},
   "outputs": [
    {
     "name": "stdout",
     "output_type": "stream",
     "text": [
      "Epoch 1/100\n",
      "50/50 [==============================] - 0s 820us/step - loss: 0.6806 - accuracy: 0.5337\n",
      "Epoch 2/100\n",
      "50/50 [==============================] - 0s 929us/step - loss: 0.6210 - accuracy: 0.8669\n",
      "Epoch 3/100\n",
      "50/50 [==============================] - 0s 947us/step - loss: 0.5401 - accuracy: 0.9337\n",
      "Epoch 4/100\n",
      "50/50 [==============================] - 0s 868us/step - loss: 0.4139 - accuracy: 0.9619\n",
      "Epoch 5/100\n",
      "50/50 [==============================] - 0s 755us/step - loss: 0.2507 - accuracy: 0.9812\n",
      "Epoch 6/100\n",
      "50/50 [==============================] - 0s 701us/step - loss: 0.1254 - accuracy: 0.9869\n",
      "Epoch 7/100\n",
      "50/50 [==============================] - 0s 735us/step - loss: 0.0807 - accuracy: 0.9887\n",
      "Epoch 8/100\n",
      "50/50 [==============================] - 0s 878us/step - loss: 0.0667 - accuracy: 0.9875\n",
      "Epoch 9/100\n",
      "50/50 [==============================] - 0s 2ms/step - loss: 0.0627 - accuracy: 0.9875\n",
      "Epoch 10/100\n",
      "50/50 [==============================] - 0s 794us/step - loss: 0.0602 - accuracy: 0.9869\n",
      "Epoch 11/100\n",
      "50/50 [==============================] - 0s 791us/step - loss: 0.0579 - accuracy: 0.9887\n",
      "Epoch 12/100\n",
      "50/50 [==============================] - 0s 1ms/step - loss: 0.0582 - accuracy: 0.9875\n",
      "Epoch 13/100\n",
      "50/50 [==============================] - 0s 895us/step - loss: 0.0566 - accuracy: 0.9887\n",
      "Epoch 14/100\n",
      "50/50 [==============================] - 0s 919us/step - loss: 0.0585 - accuracy: 0.9862\n",
      "Epoch 15/100\n",
      "50/50 [==============================] - 0s 888us/step - loss: 0.0554 - accuracy: 0.9881\n",
      "Epoch 16/100\n",
      "50/50 [==============================] - 0s 866us/step - loss: 0.0552 - accuracy: 0.9894\n",
      "Epoch 17/100\n",
      "50/50 [==============================] - 0s 906us/step - loss: 0.0550 - accuracy: 0.9887\n",
      "Epoch 18/100\n",
      "50/50 [==============================] - 0s 912us/step - loss: 0.0544 - accuracy: 0.9881\n",
      "Epoch 19/100\n",
      "50/50 [==============================] - 0s 1ms/step - loss: 0.0541 - accuracy: 0.9887\n",
      "Epoch 20/100\n",
      "50/50 [==============================] - 0s 998us/step - loss: 0.0538 - accuracy: 0.9881\n",
      "Epoch 21/100\n",
      "50/50 [==============================] - 0s 946us/step - loss: 0.0543 - accuracy: 0.9894\n",
      "Epoch 22/100\n",
      "50/50 [==============================] - 0s 850us/step - loss: 0.0535 - accuracy: 0.9875\n",
      "Epoch 23/100\n",
      "50/50 [==============================] - 0s 858us/step - loss: 0.0536 - accuracy: 0.9887\n",
      "Epoch 24/100\n",
      "50/50 [==============================] - 0s 865us/step - loss: 0.0532 - accuracy: 0.9875\n",
      "Epoch 25/100\n",
      "50/50 [==============================] - 0s 912us/step - loss: 0.0537 - accuracy: 0.9894\n",
      "Epoch 26/100\n",
      "50/50 [==============================] - 0s 874us/step - loss: 0.0529 - accuracy: 0.9881\n",
      "Epoch 27/100\n",
      "50/50 [==============================] - 0s 988us/step - loss: 0.0531 - accuracy: 0.9894\n",
      "Epoch 28/100\n",
      "50/50 [==============================] - 0s 920us/step - loss: 0.0524 - accuracy: 0.9900\n",
      "Epoch 29/100\n",
      "50/50 [==============================] - 0s 930us/step - loss: 0.0527 - accuracy: 0.9887\n",
      "Epoch 30/100\n",
      "50/50 [==============================] - 0s 918us/step - loss: 0.0518 - accuracy: 0.9900\n",
      "Epoch 31/100\n",
      "50/50 [==============================] - 0s 905us/step - loss: 0.0522 - accuracy: 0.9894\n",
      "Epoch 32/100\n",
      "50/50 [==============================] - 0s 862us/step - loss: 0.0517 - accuracy: 0.9881\n",
      "Epoch 33/100\n",
      "50/50 [==============================] - 0s 918us/step - loss: 0.0515 - accuracy: 0.9900\n",
      "Epoch 34/100\n",
      "50/50 [==============================] - 0s 1ms/step - loss: 0.0515 - accuracy: 0.9887\n",
      "Epoch 35/100\n",
      "50/50 [==============================] - 0s 1ms/step - loss: 0.0515 - accuracy: 0.9900\n",
      "Epoch 36/100\n",
      "50/50 [==============================] - 0s 951us/step - loss: 0.0511 - accuracy: 0.9900\n",
      "Epoch 37/100\n",
      "50/50 [==============================] - 0s 937us/step - loss: 0.0511 - accuracy: 0.9887\n",
      "Epoch 38/100\n",
      "50/50 [==============================] - 0s 871us/step - loss: 0.0510 - accuracy: 0.9900\n",
      "Epoch 39/100\n",
      "50/50 [==============================] - 0s 794us/step - loss: 0.0511 - accuracy: 0.9887\n",
      "Epoch 40/100\n",
      "50/50 [==============================] - 0s 839us/step - loss: 0.0509 - accuracy: 0.9887\n",
      "Epoch 41/100\n",
      "50/50 [==============================] - 0s 770us/step - loss: 0.0508 - accuracy: 0.9894\n",
      "Epoch 42/100\n",
      "50/50 [==============================] - 0s 777us/step - loss: 0.0511 - accuracy: 0.9894\n",
      "Epoch 43/100\n",
      "50/50 [==============================] - 0s 755us/step - loss: 0.0505 - accuracy: 0.9900\n",
      "Epoch 44/100\n",
      "50/50 [==============================] - 0s 776us/step - loss: 0.0512 - accuracy: 0.9894\n",
      "Epoch 45/100\n",
      "50/50 [==============================] - 0s 1ms/step - loss: 0.0505 - accuracy: 0.9894\n",
      "Epoch 46/100\n",
      "50/50 [==============================] - 0s 927us/step - loss: 0.0505 - accuracy: 0.9894\n",
      "Epoch 47/100\n",
      "50/50 [==============================] - 0s 911us/step - loss: 0.0502 - accuracy: 0.9894\n",
      "Epoch 48/100\n",
      "50/50 [==============================] - 0s 920us/step - loss: 0.0504 - accuracy: 0.9900\n",
      "Epoch 49/100\n",
      "50/50 [==============================] - 0s 924us/step - loss: 0.0505 - accuracy: 0.9894\n",
      "Epoch 50/100\n",
      "50/50 [==============================] - 0s 924us/step - loss: 0.0500 - accuracy: 0.9900\n",
      "Epoch 51/100\n",
      "50/50 [==============================] - 0s 998us/step - loss: 0.0502 - accuracy: 0.9887\n",
      "Epoch 52/100\n",
      "50/50 [==============================] - 0s 895us/step - loss: 0.0503 - accuracy: 0.9894\n",
      "Epoch 53/100\n",
      "50/50 [==============================] - 0s 1ms/step - loss: 0.0506 - accuracy: 0.9887\n",
      "Epoch 54/100\n",
      "50/50 [==============================] - 0s 1ms/step - loss: 0.0499 - accuracy: 0.9906\n",
      "Epoch 55/100\n",
      "50/50 [==============================] - 0s 1ms/step - loss: 0.0502 - accuracy: 0.9906\n",
      "Epoch 56/100\n",
      "50/50 [==============================] - 0s 1ms/step - loss: 0.0492 - accuracy: 0.9900\n",
      "Epoch 57/100\n",
      "50/50 [==============================] - 0s 1ms/step - loss: 0.0505 - accuracy: 0.9900\n",
      "Epoch 58/100\n",
      "50/50 [==============================] - 0s 1ms/step - loss: 0.0496 - accuracy: 0.9906\n",
      "Epoch 59/100\n",
      "50/50 [==============================] - 0s 1ms/step - loss: 0.0497 - accuracy: 0.9894\n",
      "Epoch 60/100\n",
      "50/50 [==============================] - 0s 1ms/step - loss: 0.0497 - accuracy: 0.9887\n",
      "Epoch 61/100\n",
      "50/50 [==============================] - 0s 1ms/step - loss: 0.0505 - accuracy: 0.9887\n",
      "Epoch 62/100\n",
      "50/50 [==============================] - 0s 1ms/step - loss: 0.0490 - accuracy: 0.9900\n",
      "Epoch 63/100\n",
      "50/50 [==============================] - 0s 1ms/step - loss: 0.0499 - accuracy: 0.9900\n",
      "Epoch 64/100\n",
      "50/50 [==============================] - 0s 1ms/step - loss: 0.0490 - accuracy: 0.9900\n",
      "Epoch 65/100\n",
      "50/50 [==============================] - 0s 1ms/step - loss: 0.0494 - accuracy: 0.9887\n",
      "Epoch 66/100\n",
      "50/50 [==============================] - 0s 1ms/step - loss: 0.0495 - accuracy: 0.9894\n",
      "Epoch 67/100\n",
      "50/50 [==============================] - 0s 1ms/step - loss: 0.0489 - accuracy: 0.9900\n",
      "Epoch 68/100\n",
      "50/50 [==============================] - 0s 1ms/step - loss: 0.0502 - accuracy: 0.9906\n",
      "Epoch 69/100\n",
      "50/50 [==============================] - 0s 1ms/step - loss: 0.0496 - accuracy: 0.9900\n",
      "Epoch 70/100\n",
      "50/50 [==============================] - 0s 1ms/step - loss: 0.0490 - accuracy: 0.9894\n",
      "Epoch 71/100\n",
      "50/50 [==============================] - 0s 1ms/step - loss: 0.0489 - accuracy: 0.9894\n",
      "Epoch 72/100\n",
      "50/50 [==============================] - 0s 1ms/step - loss: 0.0486 - accuracy: 0.9900\n",
      "Epoch 73/100\n",
      "50/50 [==============================] - 0s 1ms/step - loss: 0.0497 - accuracy: 0.9887\n",
      "Epoch 74/100\n",
      "50/50 [==============================] - 0s 1ms/step - loss: 0.0490 - accuracy: 0.9906\n",
      "Epoch 75/100\n",
      "50/50 [==============================] - 0s 2ms/step - loss: 0.0487 - accuracy: 0.9906\n",
      "Epoch 76/100\n",
      "50/50 [==============================] - 0s 1ms/step - loss: 0.0489 - accuracy: 0.9881\n",
      "Epoch 77/100\n",
      "50/50 [==============================] - 0s 1ms/step - loss: 0.0494 - accuracy: 0.9894\n",
      "Epoch 78/100\n",
      "50/50 [==============================] - 0s 1ms/step - loss: 0.0493 - accuracy: 0.9900\n",
      "Epoch 79/100\n",
      "50/50 [==============================] - 0s 1ms/step - loss: 0.0493 - accuracy: 0.9887\n",
      "Epoch 80/100\n",
      "50/50 [==============================] - 0s 1ms/step - loss: 0.0487 - accuracy: 0.9900\n",
      "Epoch 81/100\n",
      "50/50 [==============================] - 0s 1ms/step - loss: 0.0494 - accuracy: 0.9894\n",
      "Epoch 82/100\n"
     ]
    },
    {
     "name": "stdout",
     "output_type": "stream",
     "text": [
      "50/50 [==============================] - 0s 1ms/step - loss: 0.0486 - accuracy: 0.9906\n",
      "Epoch 83/100\n",
      "50/50 [==============================] - 0s 1ms/step - loss: 0.0483 - accuracy: 0.9906\n",
      "Epoch 84/100\n",
      "50/50 [==============================] - 0s 1ms/step - loss: 0.0484 - accuracy: 0.9912\n",
      "Epoch 85/100\n",
      "50/50 [==============================] - 0s 1ms/step - loss: 0.0483 - accuracy: 0.9887\n",
      "Epoch 86/100\n",
      "50/50 [==============================] - 0s 1ms/step - loss: 0.0483 - accuracy: 0.9900\n",
      "Epoch 87/100\n",
      "50/50 [==============================] - 0s 1ms/step - loss: 0.0484 - accuracy: 0.9900\n",
      "Epoch 88/100\n",
      "50/50 [==============================] - 0s 1ms/step - loss: 0.0484 - accuracy: 0.9906\n",
      "Epoch 89/100\n",
      "50/50 [==============================] - 0s 1ms/step - loss: 0.0482 - accuracy: 0.9900\n",
      "Epoch 90/100\n",
      "50/50 [==============================] - 0s 1ms/step - loss: 0.0481 - accuracy: 0.9906\n",
      "Epoch 91/100\n",
      "50/50 [==============================] - 0s 1ms/step - loss: 0.0485 - accuracy: 0.9887\n",
      "Epoch 92/100\n",
      "50/50 [==============================] - 0s 1ms/step - loss: 0.0485 - accuracy: 0.9900\n",
      "Epoch 93/100\n",
      "50/50 [==============================] - 0s 1ms/step - loss: 0.0488 - accuracy: 0.9900\n",
      "Epoch 94/100\n",
      "50/50 [==============================] - 0s 1ms/step - loss: 0.0480 - accuracy: 0.9906\n",
      "Epoch 95/100\n",
      "50/50 [==============================] - 0s 1ms/step - loss: 0.0484 - accuracy: 0.9887\n",
      "Epoch 96/100\n",
      "50/50 [==============================] - 0s 916us/step - loss: 0.0478 - accuracy: 0.9900\n",
      "Epoch 97/100\n",
      "50/50 [==============================] - 0s 1ms/step - loss: 0.0479 - accuracy: 0.9906\n",
      "Epoch 98/100\n",
      "50/50 [==============================] - 0s 1ms/step - loss: 0.0479 - accuracy: 0.9900\n",
      "Epoch 99/100\n",
      "50/50 [==============================] - 0s 1ms/step - loss: 0.0479 - accuracy: 0.9900\n",
      "Epoch 100/100\n",
      "50/50 [==============================] - 0s 1ms/step - loss: 0.0480 - accuracy: 0.9906\n"
     ]
    },
    {
     "data": {
      "text/plain": [
       "<keras.callbacks.History at 0x1ea822f5b00>"
      ]
     },
     "execution_count": 16,
     "metadata": {},
     "output_type": "execute_result"
    }
   ],
   "source": [
    "model.fit(X_train,y_train,epochs=100)"
   ]
  },
  {
   "cell_type": "code",
   "execution_count": 17,
   "id": "0b6ab4f5",
   "metadata": {},
   "outputs": [],
   "source": [
    "# Evaluation"
   ]
  },
  {
   "cell_type": "code",
   "execution_count": 18,
   "id": "aeb73140",
   "metadata": {},
   "outputs": [],
   "source": [
    "y_pred = model.predict(X_test)"
   ]
  },
  {
   "cell_type": "code",
   "execution_count": 19,
   "id": "f6020948",
   "metadata": {},
   "outputs": [
    {
     "data": {
      "text/plain": [
       "array([[0.],\n",
       "       [1.],\n",
       "       [1.],\n",
       "       [0.],\n",
       "       [1.],\n",
       "       [1.],\n",
       "       [0.],\n",
       "       [0.],\n",
       "       [0.],\n",
       "       [0.],\n",
       "       [1.],\n",
       "       [0.],\n",
       "       [1.],\n",
       "       [1.],\n",
       "       [0.],\n",
       "       [0.],\n",
       "       [0.],\n",
       "       [0.],\n",
       "       [1.],\n",
       "       [0.],\n",
       "       [0.],\n",
       "       [0.],\n",
       "       [1.],\n",
       "       [0.],\n",
       "       [1.],\n",
       "       [0.],\n",
       "       [1.],\n",
       "       [0.],\n",
       "       [1.],\n",
       "       [1.],\n",
       "       [1.],\n",
       "       [1.],\n",
       "       [1.],\n",
       "       [1.],\n",
       "       [1.],\n",
       "       [1.],\n",
       "       [1.],\n",
       "       [0.],\n",
       "       [1.],\n",
       "       [1.],\n",
       "       [0.],\n",
       "       [0.],\n",
       "       [0.],\n",
       "       [0.],\n",
       "       [0.],\n",
       "       [0.],\n",
       "       [0.],\n",
       "       [0.],\n",
       "       [0.],\n",
       "       [1.],\n",
       "       [0.],\n",
       "       [0.],\n",
       "       [1.],\n",
       "       [1.],\n",
       "       [0.],\n",
       "       [0.],\n",
       "       [0.],\n",
       "       [0.],\n",
       "       [0.],\n",
       "       [0.],\n",
       "       [1.],\n",
       "       [1.],\n",
       "       [0.],\n",
       "       [1.],\n",
       "       [0.],\n",
       "       [0.],\n",
       "       [0.],\n",
       "       [0.],\n",
       "       [1.],\n",
       "       [0.],\n",
       "       [1.],\n",
       "       [0.],\n",
       "       [1.],\n",
       "       [1.],\n",
       "       [1.],\n",
       "       [0.],\n",
       "       [1.],\n",
       "       [1.],\n",
       "       [1.],\n",
       "       [1.],\n",
       "       [1.],\n",
       "       [0.],\n",
       "       [1.],\n",
       "       [0.],\n",
       "       [0.],\n",
       "       [0.],\n",
       "       [1.],\n",
       "       [0.],\n",
       "       [1.],\n",
       "       [1.],\n",
       "       [1.],\n",
       "       [1.],\n",
       "       [1.],\n",
       "       [1.],\n",
       "       [1.],\n",
       "       [0.],\n",
       "       [1.],\n",
       "       [0.],\n",
       "       [0.],\n",
       "       [0.],\n",
       "       [0.],\n",
       "       [1.],\n",
       "       [0.],\n",
       "       [0.],\n",
       "       [0.],\n",
       "       [1.],\n",
       "       [1.],\n",
       "       [0.],\n",
       "       [0.],\n",
       "       [1.],\n",
       "       [0.],\n",
       "       [0.],\n",
       "       [1.],\n",
       "       [0.],\n",
       "       [1.],\n",
       "       [1.],\n",
       "       [0.],\n",
       "       [0.],\n",
       "       [1.],\n",
       "       [0.],\n",
       "       [0.],\n",
       "       [1.],\n",
       "       [1.],\n",
       "       [0.],\n",
       "       [0.],\n",
       "       [1.],\n",
       "       [0.],\n",
       "       [0.],\n",
       "       [1.],\n",
       "       [1.],\n",
       "       [1.],\n",
       "       [0.],\n",
       "       [0.],\n",
       "       [0.],\n",
       "       [0.],\n",
       "       [0.],\n",
       "       [1.],\n",
       "       [0.],\n",
       "       [0.],\n",
       "       [0.],\n",
       "       [1.],\n",
       "       [1.],\n",
       "       [1.],\n",
       "       [0.],\n",
       "       [0.],\n",
       "       [0.],\n",
       "       [0.],\n",
       "       [1.],\n",
       "       [1.],\n",
       "       [1.],\n",
       "       [1.],\n",
       "       [1.],\n",
       "       [1.],\n",
       "       [0.],\n",
       "       [0.],\n",
       "       [0.],\n",
       "       [0.],\n",
       "       [0.],\n",
       "       [0.],\n",
       "       [0.],\n",
       "       [1.],\n",
       "       [1.],\n",
       "       [1.],\n",
       "       [0.],\n",
       "       [0.],\n",
       "       [1.],\n",
       "       [1.],\n",
       "       [1.],\n",
       "       [1.],\n",
       "       [1.],\n",
       "       [0.],\n",
       "       [0.],\n",
       "       [0.],\n",
       "       [0.],\n",
       "       [0.],\n",
       "       [0.],\n",
       "       [1.],\n",
       "       [1.],\n",
       "       [0.],\n",
       "       [1.],\n",
       "       [0.],\n",
       "       [1.],\n",
       "       [0.],\n",
       "       [1.],\n",
       "       [1.],\n",
       "       [1.],\n",
       "       [0.],\n",
       "       [1.],\n",
       "       [0.],\n",
       "       [0.],\n",
       "       [0.],\n",
       "       [0.],\n",
       "       [0.],\n",
       "       [0.],\n",
       "       [1.],\n",
       "       [0.],\n",
       "       [0.],\n",
       "       [0.],\n",
       "       [0.],\n",
       "       [0.],\n",
       "       [1.],\n",
       "       [0.],\n",
       "       [1.],\n",
       "       [1.],\n",
       "       [1.],\n",
       "       [1.],\n",
       "       [1.],\n",
       "       [1.],\n",
       "       [1.],\n",
       "       [1.],\n",
       "       [1.],\n",
       "       [0.],\n",
       "       [1.],\n",
       "       [1.],\n",
       "       [0.],\n",
       "       [1.],\n",
       "       [1.],\n",
       "       [1.],\n",
       "       [0.],\n",
       "       [0.],\n",
       "       [1.],\n",
       "       [1.],\n",
       "       [1.],\n",
       "       [0.],\n",
       "       [0.],\n",
       "       [1.],\n",
       "       [1.],\n",
       "       [1.],\n",
       "       [0.],\n",
       "       [1.],\n",
       "       [0.],\n",
       "       [0.],\n",
       "       [0.],\n",
       "       [0.],\n",
       "       [1.],\n",
       "       [0.],\n",
       "       [1.],\n",
       "       [1.],\n",
       "       [1.],\n",
       "       [1.],\n",
       "       [1.],\n",
       "       [0.],\n",
       "       [1.],\n",
       "       [0.],\n",
       "       [1.],\n",
       "       [1.],\n",
       "       [0.],\n",
       "       [0.],\n",
       "       [1.],\n",
       "       [0.],\n",
       "       [1.],\n",
       "       [1.],\n",
       "       [1.],\n",
       "       [0.],\n",
       "       [1.],\n",
       "       [1.],\n",
       "       [0.],\n",
       "       [0.],\n",
       "       [0.],\n",
       "       [0.],\n",
       "       [0.],\n",
       "       [1.],\n",
       "       [0.],\n",
       "       [1.],\n",
       "       [1.],\n",
       "       [0.],\n",
       "       [1.],\n",
       "       [0.],\n",
       "       [0.],\n",
       "       [1.],\n",
       "       [1.],\n",
       "       [0.],\n",
       "       [1.],\n",
       "       [0.],\n",
       "       [1.],\n",
       "       [0.],\n",
       "       [0.],\n",
       "       [1.],\n",
       "       [1.],\n",
       "       [0.],\n",
       "       [1.],\n",
       "       [0.],\n",
       "       [1.],\n",
       "       [1.],\n",
       "       [1.],\n",
       "       [1.],\n",
       "       [1.],\n",
       "       [0.],\n",
       "       [0.],\n",
       "       [0.],\n",
       "       [0.],\n",
       "       [0.],\n",
       "       [0.],\n",
       "       [0.],\n",
       "       [0.],\n",
       "       [0.],\n",
       "       [1.],\n",
       "       [1.],\n",
       "       [0.],\n",
       "       [0.],\n",
       "       [1.],\n",
       "       [0.],\n",
       "       [0.],\n",
       "       [0.],\n",
       "       [1.],\n",
       "       [0.],\n",
       "       [1.],\n",
       "       [0.],\n",
       "       [0.],\n",
       "       [1.],\n",
       "       [0.],\n",
       "       [1.],\n",
       "       [0.],\n",
       "       [0.],\n",
       "       [0.],\n",
       "       [1.],\n",
       "       [1.],\n",
       "       [0.],\n",
       "       [0.],\n",
       "       [0.],\n",
       "       [1.],\n",
       "       [0.],\n",
       "       [1.],\n",
       "       [0.],\n",
       "       [0.],\n",
       "       [0.],\n",
       "       [1.],\n",
       "       [1.],\n",
       "       [1.],\n",
       "       [1.],\n",
       "       [1.],\n",
       "       [0.],\n",
       "       [0.],\n",
       "       [0.],\n",
       "       [1.],\n",
       "       [1.],\n",
       "       [0.],\n",
       "       [1.],\n",
       "       [0.],\n",
       "       [0.],\n",
       "       [0.],\n",
       "       [1.],\n",
       "       [0.],\n",
       "       [1.],\n",
       "       [1.],\n",
       "       [1.],\n",
       "       [0.],\n",
       "       [1.],\n",
       "       [0.],\n",
       "       [0.],\n",
       "       [0.],\n",
       "       [1.],\n",
       "       [1.],\n",
       "       [1.],\n",
       "       [1.],\n",
       "       [0.],\n",
       "       [1.],\n",
       "       [0.],\n",
       "       [0.],\n",
       "       [1.],\n",
       "       [1.],\n",
       "       [0.],\n",
       "       [1.],\n",
       "       [1.],\n",
       "       [1.],\n",
       "       [1.],\n",
       "       [1.],\n",
       "       [0.],\n",
       "       [0.],\n",
       "       [1.],\n",
       "       [0.],\n",
       "       [0.],\n",
       "       [0.],\n",
       "       [0.],\n",
       "       [0.],\n",
       "       [0.],\n",
       "       [0.],\n",
       "       [1.],\n",
       "       [0.],\n",
       "       [1.],\n",
       "       [0.],\n",
       "       [1.],\n",
       "       [1.],\n",
       "       [1.],\n",
       "       [0.],\n",
       "       [0.],\n",
       "       [0.],\n",
       "       [0.],\n",
       "       [1.],\n",
       "       [1.],\n",
       "       [1.],\n",
       "       [1.],\n",
       "       [0.],\n",
       "       [0.],\n",
       "       [0.],\n",
       "       [1.],\n",
       "       [0.],\n",
       "       [1.],\n",
       "       [0.],\n",
       "       [1.]], dtype=float32)"
      ]
     },
     "execution_count": 19,
     "metadata": {},
     "output_type": "execute_result"
    }
   ],
   "source": [
    "y_pred = y_pred.round()\n",
    "y_pred"
   ]
  },
  {
   "cell_type": "code",
   "execution_count": 20,
   "id": "93b707fe",
   "metadata": {},
   "outputs": [
    {
     "data": {
      "text/plain": [
       "array([0, 1, 1, 0, 1, 1, 0, 0, 0, 0, 1, 0, 1, 1, 0, 0, 1, 0, 1, 0, 0, 0,\n",
       "       1, 0, 1, 0, 1, 0, 1, 1, 1, 1, 1, 1, 1, 1, 1, 0, 0, 1, 0, 0, 0, 0,\n",
       "       0, 0, 0, 0, 0, 1, 0, 0, 1, 1, 0, 0, 0, 0, 0, 1, 1, 1, 0, 1, 0, 0,\n",
       "       0, 0, 1, 0, 1, 0, 1, 1, 1, 0, 1, 1, 1, 1, 1, 0, 1, 0, 0, 0, 1, 0,\n",
       "       1, 1, 1, 1, 1, 1, 1, 0, 1, 0, 0, 0, 0, 1, 0, 0, 0, 1, 1, 0, 0, 1,\n",
       "       0, 0, 1, 0, 1, 1, 0, 0, 1, 0, 0, 1, 1, 0, 0, 1, 0, 0, 1, 1, 1, 0,\n",
       "       0, 0, 0, 0, 1, 0, 0, 0, 1, 1, 1, 0, 0, 0, 0, 1, 1, 1, 1, 1, 1, 0,\n",
       "       0, 0, 0, 0, 0, 0, 1, 1, 1, 0, 0, 1, 1, 1, 1, 1, 0, 0, 0, 0, 0, 0,\n",
       "       1, 0, 0, 1, 0, 1, 0, 1, 1, 1, 0, 1, 0, 0, 0, 0, 0, 0, 1, 0, 0, 0,\n",
       "       0, 0, 1, 0, 1, 1, 1, 1, 1, 1, 1, 1, 1, 0, 1, 1, 0, 1, 1, 1, 0, 0,\n",
       "       1, 1, 1, 0, 0, 1, 1, 1, 0, 1, 0, 0, 0, 0, 1, 0, 1, 1, 1, 1, 1, 0,\n",
       "       1, 0, 1, 1, 0, 0, 1, 0, 1, 1, 1, 0, 1, 1, 0, 0, 0, 0, 0, 1, 0, 1,\n",
       "       1, 0, 1, 0, 0, 1, 1, 0, 1, 0, 1, 0, 0, 1, 1, 0, 1, 0, 1, 1, 1, 1,\n",
       "       1, 0, 0, 0, 0, 0, 1, 0, 0, 0, 1, 1, 0, 0, 1, 0, 0, 0, 1, 0, 1, 0,\n",
       "       0, 1, 0, 1, 0, 1, 0, 1, 1, 0, 0, 0, 1, 0, 1, 0, 0, 0, 1, 1, 1, 1,\n",
       "       1, 0, 0, 0, 1, 1, 0, 1, 0, 0, 0, 1, 0, 1, 1, 1, 0, 1, 0, 0, 0, 1,\n",
       "       1, 1, 0, 0, 1, 0, 0, 1, 1, 0, 1, 1, 1, 1, 1, 0, 0, 1, 0, 0, 0, 0,\n",
       "       0, 0, 0, 1, 0, 1, 0, 1, 1, 1, 0, 0, 0, 0, 1, 1, 1, 1, 0, 0, 0, 1,\n",
       "       0, 1, 0, 1])"
      ]
     },
     "execution_count": 20,
     "metadata": {},
     "output_type": "execute_result"
    }
   ],
   "source": [
    "y_test"
   ]
  },
  {
   "cell_type": "code",
   "execution_count": 21,
   "id": "e5e8e59c",
   "metadata": {},
   "outputs": [],
   "source": [
    "from sklearn.metrics import confusion_matrix,classification_report"
   ]
  },
  {
   "cell_type": "code",
   "execution_count": 22,
   "id": "9798f386",
   "metadata": {},
   "outputs": [
    {
     "name": "stdout",
     "output_type": "stream",
     "text": [
      "[[205   3]\n",
      " [  4 188]]\n"
     ]
    }
   ],
   "source": [
    "print(confusion_matrix(y_test,y_pred))"
   ]
  },
  {
   "cell_type": "code",
   "execution_count": 23,
   "id": "4a07d559",
   "metadata": {},
   "outputs": [
    {
     "name": "stdout",
     "output_type": "stream",
     "text": [
      "              precision    recall  f1-score   support\n",
      "\n",
      "           0       0.98      0.99      0.98       208\n",
      "           1       0.98      0.98      0.98       192\n",
      "\n",
      "    accuracy                           0.98       400\n",
      "   macro avg       0.98      0.98      0.98       400\n",
      "weighted avg       0.98      0.98      0.98       400\n",
      "\n"
     ]
    }
   ],
   "source": [
    "print(classification_report(y_test,y_pred))"
   ]
  },
  {
   "cell_type": "code",
   "execution_count": 24,
   "id": "4358bbfb",
   "metadata": {},
   "outputs": [
    {
     "name": "stdout",
     "output_type": "stream",
     "text": [
      "13/13 [==============================] - 0s 997us/step - loss: 0.0891 - accuracy: 0.9825\n"
     ]
    },
    {
     "data": {
      "text/plain": [
       "[0.08909303694963455, 0.9825000166893005]"
      ]
     },
     "execution_count": 24,
     "metadata": {},
     "output_type": "execute_result"
    }
   ],
   "source": [
    "model.evaluate(X_test,y_test)"
   ]
  },
  {
   "cell_type": "code",
   "execution_count": null,
   "id": "257ae9ac",
   "metadata": {},
   "outputs": [],
   "source": []
  }
 ],
 "metadata": {
  "kernelspec": {
   "display_name": "Python 3",
   "language": "python",
   "name": "python3"
  },
  "language_info": {
   "codemirror_mode": {
    "name": "ipython",
    "version": 3
   },
   "file_extension": ".py",
   "mimetype": "text/x-python",
   "name": "python",
   "nbconvert_exporter": "python",
   "pygments_lexer": "ipython3",
   "version": "3.6.13"
  }
 },
 "nbformat": 4,
 "nbformat_minor": 5
}
