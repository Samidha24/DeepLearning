{
 "cells": [
  {
   "cell_type": "code",
   "execution_count": 1,
   "id": "731935aa",
   "metadata": {},
   "outputs": [],
   "source": [
    "import numpy as np\n",
    "import pandas as pd\n",
    "from sklearn.datasets import make_classification"
   ]
  },
  {
   "cell_type": "code",
   "execution_count": 2,
   "id": "101e2aef",
   "metadata": {},
   "outputs": [],
   "source": [
    "X,y = make_classification(n_samples=4000,n_features=21,n_informative=4,n_classes=3,random_state=0)"
   ]
  },
  {
   "cell_type": "code",
   "execution_count": 3,
   "id": "3174b563",
   "metadata": {},
   "outputs": [
    {
     "data": {
      "text/plain": [
       "array([[ 1.11618854, -0.77515272, -1.02401743, ..., -2.18550459,\n",
       "        -0.01173131, -0.35948958],\n",
       "       [-0.10744267, -1.18874337, -0.15944638, ..., -0.26527816,\n",
       "        -0.14463475,  0.83361592],\n",
       "       [-0.57364847, -0.53966181,  0.19524704, ...,  0.06998157,\n",
       "         0.39895741,  0.78837482],\n",
       "       ...,\n",
       "       [-1.50392252, -0.0827537 ,  1.00214643, ..., -0.00549623,\n",
       "        -0.10803306, -0.1808804 ],\n",
       "       [ 0.68625613, -0.31703464, -0.41001729, ...,  1.61362406,\n",
       "         0.54960093, -0.61350134],\n",
       "       [ 0.0672496 , -1.03691542,  0.63640417, ...,  0.05555112,\n",
       "        -0.18243124, -0.96500581]])"
      ]
     },
     "execution_count": 3,
     "metadata": {},
     "output_type": "execute_result"
    }
   ],
   "source": [
    "X"
   ]
  },
  {
   "cell_type": "code",
   "execution_count": 4,
   "id": "9a7774fe",
   "metadata": {},
   "outputs": [
    {
     "data": {
      "text/plain": [
       "(4000, 21)"
      ]
     },
     "execution_count": 4,
     "metadata": {},
     "output_type": "execute_result"
    }
   ],
   "source": [
    "X.shape"
   ]
  },
  {
   "cell_type": "code",
   "execution_count": 5,
   "id": "a1b9c7b8",
   "metadata": {},
   "outputs": [
    {
     "data": {
      "text/plain": [
       "array([2, 1, 1, ..., 2, 0, 1])"
      ]
     },
     "execution_count": 5,
     "metadata": {},
     "output_type": "execute_result"
    }
   ],
   "source": [
    "y"
   ]
  },
  {
   "cell_type": "code",
   "execution_count": 6,
   "id": "47d1dd37",
   "metadata": {},
   "outputs": [
    {
     "data": {
      "text/plain": [
       "(4000,)"
      ]
     },
     "execution_count": 6,
     "metadata": {},
     "output_type": "execute_result"
    }
   ],
   "source": [
    "y.shape"
   ]
  },
  {
   "cell_type": "code",
   "execution_count": 7,
   "id": "bbb30e99",
   "metadata": {},
   "outputs": [],
   "source": [
    "from sklearn.model_selection import train_test_split"
   ]
  },
  {
   "cell_type": "code",
   "execution_count": 8,
   "id": "0d480a78",
   "metadata": {},
   "outputs": [],
   "source": [
    "X_train,X_test,y_train,y_test = train_test_split(X,y,test_size=0.2,random_state=0)"
   ]
  },
  {
   "cell_type": "code",
   "execution_count": 9,
   "id": "aa746de2",
   "metadata": {},
   "outputs": [
    {
     "data": {
      "text/plain": [
       "(3200, 21)"
      ]
     },
     "execution_count": 9,
     "metadata": {},
     "output_type": "execute_result"
    }
   ],
   "source": [
    "X_train.shape"
   ]
  },
  {
   "cell_type": "code",
   "execution_count": 10,
   "id": "eb059c0e",
   "metadata": {},
   "outputs": [
    {
     "data": {
      "text/plain": [
       "(800, 21)"
      ]
     },
     "execution_count": 10,
     "metadata": {},
     "output_type": "execute_result"
    }
   ],
   "source": [
    "X_test.shape"
   ]
  },
  {
   "cell_type": "code",
   "execution_count": 11,
   "id": "cb048009",
   "metadata": {},
   "outputs": [],
   "source": [
    "import tensorflow as tf\n",
    "from tensorflow.keras.models import Sequential\n",
    "from tensorflow.keras.layers import Dense"
   ]
  },
  {
   "cell_type": "code",
   "execution_count": 12,
   "id": "d3c323b9",
   "metadata": {},
   "outputs": [],
   "source": [
    "model = Sequential()\n",
    "model.add(Dense(100,activation=tf.nn.relu,input_dim=21))\n",
    "model.add(Dense(100,activation=tf.nn.relu))\n",
    "model.add(Dense(50,activation=tf.nn.relu))\n",
    "model.add(Dense(3,activation=tf.nn.softmax))"
   ]
  },
  {
   "cell_type": "code",
   "execution_count": 13,
   "id": "f777a7d7",
   "metadata": {},
   "outputs": [
    {
     "name": "stdout",
     "output_type": "stream",
     "text": [
      "Model: \"sequential\"\n",
      "_________________________________________________________________\n",
      "Layer (type)                 Output Shape              Param #   \n",
      "=================================================================\n",
      "dense (Dense)                (None, 100)               2200      \n",
      "_________________________________________________________________\n",
      "dense_1 (Dense)              (None, 100)               10100     \n",
      "_________________________________________________________________\n",
      "dense_2 (Dense)              (None, 50)                5050      \n",
      "_________________________________________________________________\n",
      "dense_3 (Dense)              (None, 3)                 153       \n",
      "=================================================================\n",
      "Total params: 17,503\n",
      "Trainable params: 17,503\n",
      "Non-trainable params: 0\n",
      "_________________________________________________________________\n"
     ]
    }
   ],
   "source": [
    "model.summary()"
   ]
  },
  {
   "cell_type": "code",
   "execution_count": 14,
   "id": "8b3ea70f",
   "metadata": {},
   "outputs": [],
   "source": [
    "model.compile(loss='sparse_categorical_crossentropy',optimizer='adam',metrics=['accuracy'])"
   ]
  },
  {
   "cell_type": "code",
   "execution_count": 15,
   "id": "9eb7db69",
   "metadata": {},
   "outputs": [
    {
     "name": "stdout",
     "output_type": "stream",
     "text": [
      "Epoch 1/100\n",
      "100/100 [==============================] - 0s 754us/step - loss: 0.6695 - accuracy: 0.7069\n",
      "Epoch 2/100\n",
      "100/100 [==============================] - 0s 758us/step - loss: 0.4427 - accuracy: 0.8225\n",
      "Epoch 3/100\n",
      "100/100 [==============================] - 0s 687us/step - loss: 0.3776 - accuracy: 0.8519\n",
      "Epoch 4/100\n",
      "100/100 [==============================] - 0s 687us/step - loss: 0.3522 - accuracy: 0.8612\n",
      "Epoch 5/100\n",
      "100/100 [==============================] - 0s 667us/step - loss: 0.3152 - accuracy: 0.8828\n",
      "Epoch 6/100\n",
      "100/100 [==============================] - 0s 721us/step - loss: 0.2960 - accuracy: 0.8859\n",
      "Epoch 7/100\n",
      "100/100 [==============================] - 0s 667us/step - loss: 0.2769 - accuracy: 0.8991\n",
      "Epoch 8/100\n",
      "100/100 [==============================] - 0s 689us/step - loss: 0.2656 - accuracy: 0.9006\n",
      "Epoch 9/100\n",
      "100/100 [==============================] - 0s 657us/step - loss: 0.2437 - accuracy: 0.9078\n",
      "Epoch 10/100\n",
      "100/100 [==============================] - 0s 667us/step - loss: 0.2208 - accuracy: 0.9228\n",
      "Epoch 11/100\n",
      "100/100 [==============================] - 0s 681us/step - loss: 0.2084 - accuracy: 0.9262\n",
      "Epoch 12/100\n",
      "100/100 [==============================] - 0s 677us/step - loss: 0.1919 - accuracy: 0.9347\n",
      "Epoch 13/100\n",
      "100/100 [==============================] - 0s 707us/step - loss: 0.1718 - accuracy: 0.9416\n",
      "Epoch 14/100\n",
      "100/100 [==============================] - 0s 711us/step - loss: 0.1532 - accuracy: 0.9500\n",
      "Epoch 15/100\n",
      "100/100 [==============================] - 0s 677us/step - loss: 0.1375 - accuracy: 0.9566\n",
      "Epoch 16/100\n",
      "100/100 [==============================] - 0s 699us/step - loss: 0.1214 - accuracy: 0.9628\n",
      "Epoch 17/100\n",
      "100/100 [==============================] - 0s 717us/step - loss: 0.1192 - accuracy: 0.9650\n",
      "Epoch 18/100\n",
      "100/100 [==============================] - 0s 717us/step - loss: 0.0954 - accuracy: 0.9719\n",
      "Epoch 19/100\n",
      "100/100 [==============================] - 0s 726us/step - loss: 0.0912 - accuracy: 0.9722\n",
      "Epoch 20/100\n",
      "100/100 [==============================] - 0s 806us/step - loss: 0.0696 - accuracy: 0.9834\n",
      "Epoch 21/100\n",
      "100/100 [==============================] - 0s 726us/step - loss: 0.0574 - accuracy: 0.9869\n",
      "Epoch 22/100\n",
      "100/100 [==============================] - 0s 788us/step - loss: 0.0500 - accuracy: 0.9884\n",
      "Epoch 23/100\n",
      "100/100 [==============================] - 0s 956us/step - loss: 0.0579 - accuracy: 0.9819\n",
      "Epoch 24/100\n",
      "100/100 [==============================] - 0s 1ms/step - loss: 0.0394 - accuracy: 0.9909\n",
      "Epoch 25/100\n",
      "100/100 [==============================] - 0s 1ms/step - loss: 0.0294 - accuracy: 0.9953\n",
      "Epoch 26/100\n",
      "100/100 [==============================] - 0s 945us/step - loss: 0.0241 - accuracy: 0.9972\n",
      "Epoch 27/100\n",
      "100/100 [==============================] - 0s 856us/step - loss: 0.0183 - accuracy: 0.9987\n",
      "Epoch 28/100\n",
      "100/100 [==============================] - 0s 916us/step - loss: 0.0161 - accuracy: 0.9991\n",
      "Epoch 29/100\n",
      "100/100 [==============================] - 0s 1ms/step - loss: 0.0117 - accuracy: 0.9994\n",
      "Epoch 30/100\n",
      "100/100 [==============================] - 0s 1ms/step - loss: 0.0094 - accuracy: 0.9994\n",
      "Epoch 31/100\n",
      "100/100 [==============================] - 0s 2ms/step - loss: 0.0074 - accuracy: 1.0000\n",
      "Epoch 32/100\n",
      "100/100 [==============================] - 0s 1ms/step - loss: 0.0082 - accuracy: 1.0000\n",
      "Epoch 33/100\n",
      "100/100 [==============================] - 0s 1ms/step - loss: 0.0049 - accuracy: 1.0000\n",
      "Epoch 34/100\n",
      "100/100 [==============================] - 0s 869us/step - loss: 0.0041 - accuracy: 1.0000\n",
      "Epoch 35/100\n",
      "100/100 [==============================] - 0s 1ms/step - loss: 0.0034 - accuracy: 1.0000\n",
      "Epoch 36/100\n",
      "100/100 [==============================] - 0s 1ms/step - loss: 0.0028 - accuracy: 1.0000\n",
      "Epoch 37/100\n",
      "100/100 [==============================] - 0s 1ms/step - loss: 0.0024 - accuracy: 1.0000\n",
      "Epoch 38/100\n",
      "100/100 [==============================] - 0s 941us/step - loss: 0.0021 - accuracy: 1.0000\n",
      "Epoch 39/100\n",
      "100/100 [==============================] - 0s 942us/step - loss: 0.0019 - accuracy: 1.0000\n",
      "Epoch 40/100\n",
      "100/100 [==============================] - 0s 912us/step - loss: 0.0016 - accuracy: 1.0000\n",
      "Epoch 41/100\n",
      "100/100 [==============================] - 0s 1ms/step - loss: 0.0015 - accuracy: 1.0000\n",
      "Epoch 42/100\n",
      "100/100 [==============================] - 0s 1ms/step - loss: 0.0013 - accuracy: 1.0000\n",
      "Epoch 43/100\n",
      "100/100 [==============================] - 0s 1ms/step - loss: 0.0012 - accuracy: 1.0000\n",
      "Epoch 44/100\n",
      "100/100 [==============================] - 0s 941us/step - loss: 0.0011 - accuracy: 1.0000\n",
      "Epoch 45/100\n",
      "100/100 [==============================] - 0s 839us/step - loss: 0.0010 - accuracy: 1.0000\n",
      "Epoch 46/100\n",
      "100/100 [==============================] - 0s 842us/step - loss: 9.0067e-04 - accuracy: 1.0000\n",
      "Epoch 47/100\n",
      "100/100 [==============================] - 0s 881us/step - loss: 8.5149e-04 - accuracy: 1.0000\n",
      "Epoch 48/100\n",
      "100/100 [==============================] - 0s 1ms/step - loss: 7.5753e-04 - accuracy: 1.0000\n",
      "Epoch 49/100\n",
      "100/100 [==============================] - 0s 1ms/step - loss: 7.0123e-04 - accuracy: 1.0000\n",
      "Epoch 50/100\n",
      "100/100 [==============================] - 0s 878us/step - loss: 6.2888e-04 - accuracy: 1.0000\n",
      "Epoch 51/100\n",
      "100/100 [==============================] - 0s 845us/step - loss: 5.7149e-04 - accuracy: 1.0000\n",
      "Epoch 52/100\n",
      "100/100 [==============================] - 0s 1ms/step - loss: 5.2580e-04 - accuracy: 1.0000\n",
      "Epoch 53/100\n",
      "100/100 [==============================] - 0s 1ms/step - loss: 4.9167e-04 - accuracy: 1.0000\n",
      "Epoch 54/100\n",
      "100/100 [==============================] - 0s 864us/step - loss: 4.3884e-04 - accuracy: 1.0000\n",
      "Epoch 55/100\n",
      "100/100 [==============================] - 0s 864us/step - loss: 4.1995e-04 - accuracy: 1.0000\n",
      "Epoch 56/100\n",
      "100/100 [==============================] - 0s 1ms/step - loss: 3.8043e-04 - accuracy: 1.0000\n",
      "Epoch 57/100\n",
      "100/100 [==============================] - 0s 967us/step - loss: 3.4726e-04 - accuracy: 1.0000\n",
      "Epoch 58/100\n",
      "100/100 [==============================] - 0s 1ms/step - loss: 3.2375e-04 - accuracy: 1.0000\n",
      "Epoch 59/100\n",
      "100/100 [==============================] - 0s 863us/step - loss: 3.0150e-04 - accuracy: 1.0000\n",
      "Epoch 60/100\n",
      "100/100 [==============================] - 0s 934us/step - loss: 2.7735e-04 - accuracy: 1.0000\n",
      "Epoch 61/100\n",
      "100/100 [==============================] - 0s 755us/step - loss: 2.5681e-04 - accuracy: 1.0000\n",
      "Epoch 62/100\n",
      "100/100 [==============================] - 0s 842us/step - loss: 2.4265e-04 - accuracy: 1.0000\n",
      "Epoch 63/100\n",
      "100/100 [==============================] - 0s 772us/step - loss: 2.2103e-04 - accuracy: 1.0000\n",
      "Epoch 64/100\n",
      "100/100 [==============================] - 0s 758us/step - loss: 2.0451e-04 - accuracy: 1.0000\n",
      "Epoch 65/100\n",
      "100/100 [==============================] - 0s 772us/step - loss: 1.9177e-04 - accuracy: 1.0000\n",
      "Epoch 66/100\n",
      "100/100 [==============================] - 0s 953us/step - loss: 1.7623e-04 - accuracy: 1.0000\n",
      "Epoch 67/100\n",
      "100/100 [==============================] - 0s 797us/step - loss: 1.6494e-04 - accuracy: 1.0000\n",
      "Epoch 68/100\n",
      "100/100 [==============================] - 0s 1ms/step - loss: 1.5491e-04 - accuracy: 1.0000\n",
      "Epoch 69/100\n",
      "100/100 [==============================] - 0s 1ms/step - loss: 1.4213e-04 - accuracy: 1.0000\n",
      "Epoch 70/100\n",
      "100/100 [==============================] - 0s 1ms/step - loss: 1.3546e-04 - accuracy: 1.0000\n",
      "Epoch 71/100\n",
      "100/100 [==============================] - 0s 952us/step - loss: 1.2513e-04 - accuracy: 1.0000\n",
      "Epoch 72/100\n",
      "100/100 [==============================] - 0s 1ms/step - loss: 1.1703e-04 - accuracy: 1.0000\n",
      "Epoch 73/100\n",
      "100/100 [==============================] - 0s 761us/step - loss: 1.0915e-04 - accuracy: 1.0000\n",
      "Epoch 74/100\n",
      "100/100 [==============================] - 0s 1ms/step - loss: 1.0215e-04 - accuracy: 1.0000\n",
      "Epoch 75/100\n",
      "100/100 [==============================] - 0s 787us/step - loss: 9.4704e-05 - accuracy: 1.0000\n",
      "Epoch 76/100\n",
      "100/100 [==============================] - 0s 1ms/step - loss: 8.8861e-05 - accuracy: 1.0000\n",
      "Epoch 77/100\n",
      "100/100 [==============================] - 0s 2ms/step - loss: 8.3033e-05 - accuracy: 1.0000\n",
      "Epoch 78/100\n",
      "100/100 [==============================] - 0s 1ms/step - loss: 7.6800e-05 - accuracy: 1.0000\n",
      "Epoch 79/100\n"
     ]
    },
    {
     "name": "stdout",
     "output_type": "stream",
     "text": [
      "100/100 [==============================] - 0s 1ms/step - loss: 7.2828e-05 - accuracy: 1.0000\n",
      "Epoch 80/100\n",
      "100/100 [==============================] - 0s 2ms/step - loss: 6.6679e-05 - accuracy: 1.0000\n",
      "Epoch 81/100\n",
      "100/100 [==============================] - 0s 2ms/step - loss: 6.3432e-05 - accuracy: 1.0000\n",
      "Epoch 82/100\n",
      "100/100 [==============================] - 0s 1ms/step - loss: 5.9189e-05 - accuracy: 1.0000\n",
      "Epoch 83/100\n",
      "100/100 [==============================] - 0s 1ms/step - loss: 5.5504e-05 - accuracy: 1.0000\n",
      "Epoch 84/100\n",
      "100/100 [==============================] - 0s 2ms/step - loss: 5.1462e-05 - accuracy: 1.0000\n",
      "Epoch 85/100\n",
      "100/100 [==============================] - 0s 2ms/step - loss: 4.9397e-05 - accuracy: 1.0000\n",
      "Epoch 86/100\n",
      "100/100 [==============================] - 0s 1ms/step - loss: 4.5472e-05 - accuracy: 1.0000\n",
      "Epoch 87/100\n",
      "100/100 [==============================] - 0s 1ms/step - loss: 4.3401e-05 - accuracy: 1.0000\n",
      "Epoch 88/100\n",
      "100/100 [==============================] - 0s 1ms/step - loss: 4.0557e-05 - accuracy: 1.0000\n",
      "Epoch 89/100\n",
      "100/100 [==============================] - 0s 838us/step - loss: 3.7730e-05 - accuracy: 1.0000\n",
      "Epoch 90/100\n",
      "100/100 [==============================] - 0s 2ms/step - loss: 3.5359e-05 - accuracy: 1.0000\n",
      "Epoch 91/100\n",
      "100/100 [==============================] - 0s 2ms/step - loss: 3.3375e-05 - accuracy: 1.0000\n",
      "Epoch 92/100\n",
      "100/100 [==============================] - 0s 2ms/step - loss: 3.0997e-05 - accuracy: 1.0000\n",
      "Epoch 93/100\n",
      "100/100 [==============================] - 0s 2ms/step - loss: 2.9539e-05 - accuracy: 1.0000\n",
      "Epoch 94/100\n",
      "100/100 [==============================] - 0s 1ms/step - loss: 2.7450e-05 - accuracy: 1.0000\n",
      "Epoch 95/100\n",
      "100/100 [==============================] - 0s 1ms/step - loss: 2.5674e-05 - accuracy: 1.0000\n",
      "Epoch 96/100\n",
      "100/100 [==============================] - 0s 896us/step - loss: 2.4449e-05 - accuracy: 1.0000\n",
      "Epoch 97/100\n",
      "100/100 [==============================] - 0s 1ms/step - loss: 2.2637e-05 - accuracy: 1.0000\n",
      "Epoch 98/100\n",
      "100/100 [==============================] - 0s 1ms/step - loss: 2.1021e-05 - accuracy: 1.0000\n",
      "Epoch 99/100\n",
      "100/100 [==============================] - 0s 732us/step - loss: 1.9909e-05 - accuracy: 1.0000\n",
      "Epoch 100/100\n",
      "100/100 [==============================] - 0s 1ms/step - loss: 1.8656e-05 - accuracy: 1.0000\n"
     ]
    },
    {
     "data": {
      "text/plain": [
       "<keras.callbacks.History at 0x18c62ecbd30>"
      ]
     },
     "execution_count": 15,
     "metadata": {},
     "output_type": "execute_result"
    }
   ],
   "source": [
    "model.fit(X_train,y_train,epochs=100)"
   ]
  },
  {
   "cell_type": "code",
   "execution_count": 16,
   "id": "90a2cfb1",
   "metadata": {},
   "outputs": [],
   "source": [
    "y_pred = model.predict(X_test)"
   ]
  },
  {
   "cell_type": "code",
   "execution_count": 17,
   "id": "5bbae5a4",
   "metadata": {},
   "outputs": [
    {
     "data": {
      "text/plain": [
       "array([[0., 0., 1.],\n",
       "       [0., 0., 1.],\n",
       "       [0., 1., 0.],\n",
       "       ...,\n",
       "       [0., 1., 0.],\n",
       "       [0., 1., 0.],\n",
       "       [0., 1., 0.]], dtype=float32)"
      ]
     },
     "execution_count": 17,
     "metadata": {},
     "output_type": "execute_result"
    }
   ],
   "source": [
    "y_pred.round()"
   ]
  },
  {
   "cell_type": "code",
   "execution_count": 18,
   "id": "3af4ea02",
   "metadata": {},
   "outputs": [],
   "source": [
    "y_pred = np.argmax(y_pred,axis=1)"
   ]
  },
  {
   "cell_type": "code",
   "execution_count": 19,
   "id": "740518bf",
   "metadata": {},
   "outputs": [
    {
     "data": {
      "text/plain": [
       "array([2, 2, 1, 1, 0, 1, 2, 2, 2, 1, 1, 2, 0, 0, 2, 1, 2, 2, 0, 2, 1, 2,\n",
       "       1, 2, 1, 0, 1, 0, 0, 0, 1, 2, 1, 1, 1, 2, 2, 0, 2, 2, 1, 0, 2, 2,\n",
       "       2, 2, 1, 0, 2, 2, 2, 0, 0, 0, 0, 2, 1, 0, 0, 0, 2, 1, 2, 1, 0, 2,\n",
       "       0, 2, 0, 0, 0, 2, 1, 2, 0, 0, 1, 1, 1, 2, 1, 1, 0, 0, 2, 2, 2, 1,\n",
       "       2, 1, 1, 0, 0, 0, 0, 2, 0, 2, 2, 2, 1, 2, 2, 1, 1, 1, 2, 2, 1, 1,\n",
       "       0, 1, 2, 0, 0, 2, 2, 0, 1, 0, 0, 2, 0, 0, 2, 0, 2, 1, 2, 0, 0, 2,\n",
       "       2, 1, 2, 0, 2, 2, 2, 1, 1, 0, 0, 0, 1, 1, 1, 1, 2, 1, 0, 0, 1, 1,\n",
       "       0, 0, 2, 1, 2, 2, 0, 1, 2, 0, 1, 2, 0, 0, 2, 0, 2, 0, 2, 2, 1, 0,\n",
       "       1, 0, 0, 1, 2, 1, 1, 2, 2, 0, 0, 2, 1, 1, 2, 2, 1, 1, 1, 2, 1, 0,\n",
       "       0, 0, 2, 2, 0, 0, 1, 1, 0, 0, 2, 1, 0, 2, 2, 0, 1, 1, 1, 0, 1, 0,\n",
       "       1, 0, 2, 1, 1, 2, 2, 1, 2, 1, 2, 0, 0, 1, 0, 0, 2, 0, 1, 0, 1, 0,\n",
       "       0, 0, 1, 2, 1, 1, 0, 1, 0, 0, 0, 1, 2, 2, 0, 0, 1, 0, 2, 1, 2, 2,\n",
       "       0, 1, 2, 2, 2, 1, 1, 0, 1, 1, 2, 1, 1, 0, 0, 0, 0, 1, 0, 2, 2, 0,\n",
       "       1, 0, 2, 1, 0, 1, 1, 1, 2, 2, 2, 0, 1, 2, 0, 2, 2, 0, 1, 0, 1, 1,\n",
       "       1, 0, 2, 2, 2, 1, 0, 0, 0, 1, 2, 0, 2, 0, 1, 1, 1, 1, 0, 1, 1, 2,\n",
       "       2, 1, 1, 1, 2, 2, 1, 2, 0, 2, 0, 1, 1, 1, 1, 0, 1, 0, 1, 1, 0, 2,\n",
       "       2, 2, 1, 2, 1, 2, 1, 1, 2, 0, 0, 2, 2, 0, 0, 0, 2, 2, 0, 1, 1, 1,\n",
       "       0, 1, 0, 0, 2, 0, 1, 0, 1, 2, 2, 1, 2, 1, 2, 1, 2, 1, 1, 0, 0, 1,\n",
       "       1, 1, 2, 0, 1, 0, 2, 0, 2, 0, 2, 2, 0, 2, 2, 0, 0, 0, 1, 2, 1, 2,\n",
       "       1, 0, 2, 2, 0, 2, 1, 2, 2, 2, 0, 1, 0, 2, 2, 0, 0, 1, 2, 2, 2, 0,\n",
       "       1, 1, 0, 1, 1, 0, 1, 0, 2, 1, 0, 0, 2, 1, 2, 0, 1, 0, 1, 2, 2, 2,\n",
       "       1, 0, 2, 0, 1, 0, 2, 1, 1, 2, 1, 0, 1, 1, 0, 1, 0, 2, 1, 1, 1, 1,\n",
       "       2, 2, 2, 1, 1, 0, 2, 0, 0, 1, 0, 1, 2, 0, 0, 0, 2, 0, 2, 2, 0, 0,\n",
       "       1, 2, 0, 1, 2, 0, 2, 0, 2, 2, 0, 0, 0, 1, 1, 0, 1, 2, 0, 2, 0, 2,\n",
       "       1, 1, 2, 2, 0, 1, 0, 2, 1, 1, 1, 0, 2, 0, 1, 0, 0, 0, 1, 2, 0, 2,\n",
       "       2, 2, 2, 2, 1, 2, 0, 0, 0, 2, 0, 2, 2, 0, 1, 2, 0, 0, 2, 2, 0, 0,\n",
       "       0, 0, 0, 2, 1, 1, 0, 1, 0, 1, 0, 2, 1, 2, 1, 2, 0, 2, 0, 2, 1, 2,\n",
       "       1, 2, 2, 2, 0, 1, 2, 2, 1, 2, 1, 0, 1, 2, 0, 1, 0, 0, 2, 1, 1, 2,\n",
       "       0, 1, 1, 0, 0, 2, 0, 0, 2, 2, 2, 1, 1, 0, 2, 1, 1, 0, 0, 1, 0, 2,\n",
       "       1, 0, 2, 2, 1, 0, 2, 1, 2, 0, 0, 0, 1, 2, 0, 2, 2, 2, 0, 0, 1, 1,\n",
       "       2, 0, 0, 0, 1, 2, 0, 0, 1, 2, 2, 1, 0, 1, 2, 1, 2, 1, 1, 1, 2, 1,\n",
       "       0, 0, 0, 0, 0, 1, 0, 1, 2, 0, 0, 1, 1, 0, 0, 2, 1, 0, 2, 2, 0, 0,\n",
       "       1, 0, 0, 2, 0, 2, 0, 2, 1, 2, 2, 1, 2, 0, 2, 2, 1, 1, 0, 0, 0, 0,\n",
       "       2, 1, 1, 1, 2, 2, 2, 0, 0, 2, 2, 1, 2, 0, 0, 2, 0, 2, 0, 0, 1, 1,\n",
       "       0, 2, 2, 0, 0, 1, 1, 2, 2, 1, 1, 2, 0, 1, 1, 2, 2, 1, 2, 2, 0, 0,\n",
       "       0, 2, 2, 2, 2, 2, 1, 1, 0, 0, 0, 2, 2, 0, 1, 1, 2, 0, 2, 2, 2, 0,\n",
       "       1, 0, 0, 2, 0, 1, 1, 1], dtype=int64)"
      ]
     },
     "execution_count": 19,
     "metadata": {},
     "output_type": "execute_result"
    }
   ],
   "source": [
    "y_pred"
   ]
  },
  {
   "cell_type": "code",
   "execution_count": 20,
   "id": "12538d82",
   "metadata": {},
   "outputs": [
    {
     "name": "stdout",
     "output_type": "stream",
     "text": [
      "25/25 [==============================] - 0s 1ms/step - loss: 1.9160 - accuracy: 0.8062\n"
     ]
    },
    {
     "data": {
      "text/plain": [
       "[1.9160487651824951, 0.8062499761581421]"
      ]
     },
     "execution_count": 20,
     "metadata": {},
     "output_type": "execute_result"
    }
   ],
   "source": [
    "model.evaluate(X_test,y_test)"
   ]
  },
  {
   "cell_type": "code",
   "execution_count": 21,
   "id": "96288637",
   "metadata": {},
   "outputs": [],
   "source": [
    "from sklearn.metrics import confusion_matrix,classification_report"
   ]
  },
  {
   "cell_type": "code",
   "execution_count": 22,
   "id": "513852c5",
   "metadata": {},
   "outputs": [
    {
     "name": "stdout",
     "output_type": "stream",
     "text": [
      "[[224  16  27]\n",
      " [ 21 202  27]\n",
      " [ 29  35 219]]\n"
     ]
    }
   ],
   "source": [
    "print(confusion_matrix(y_test,y_pred))"
   ]
  },
  {
   "cell_type": "code",
   "execution_count": 23,
   "id": "cc738cc6",
   "metadata": {},
   "outputs": [
    {
     "name": "stdout",
     "output_type": "stream",
     "text": [
      "              precision    recall  f1-score   support\n",
      "\n",
      "           0       0.82      0.84      0.83       267\n",
      "           1       0.80      0.81      0.80       250\n",
      "           2       0.80      0.77      0.79       283\n",
      "\n",
      "    accuracy                           0.81       800\n",
      "   macro avg       0.81      0.81      0.81       800\n",
      "weighted avg       0.81      0.81      0.81       800\n",
      "\n"
     ]
    }
   ],
   "source": [
    "print(classification_report(y_test,y_pred))"
   ]
  },
  {
   "cell_type": "code",
   "execution_count": null,
   "id": "92720926",
   "metadata": {},
   "outputs": [],
   "source": []
  }
 ],
 "metadata": {
  "kernelspec": {
   "display_name": "Python 3",
   "language": "python",
   "name": "python3"
  },
  "language_info": {
   "codemirror_mode": {
    "name": "ipython",
    "version": 3
   },
   "file_extension": ".py",
   "mimetype": "text/x-python",
   "name": "python",
   "nbconvert_exporter": "python",
   "pygments_lexer": "ipython3",
   "version": "3.6.13"
  }
 },
 "nbformat": 4,
 "nbformat_minor": 5
}
