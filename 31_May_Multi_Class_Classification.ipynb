{
 "cells": [
  {
   "cell_type": "code",
   "execution_count": 1,
   "id": "731935aa",
   "metadata": {},
   "outputs": [],
   "source": [
    "import numpy as np\n",
    "import pandas as pd\n",
    "from sklearn.datasets import make_classification"
   ]
  },
  {
   "cell_type": "code",
   "execution_count": 2,
   "id": "101e2aef",
   "metadata": {},
   "outputs": [],
   "source": [
    "X,y = make_classification(n_samples=4000,n_features=21,n_informative=4,n_classes=3,random_state=0)"
   ]
  },
  {
   "cell_type": "code",
   "execution_count": 3,
   "id": "3174b563",
   "metadata": {},
   "outputs": [
    {
     "data": {
      "text/plain": [
       "array([[ 1.11618854, -0.77515272, -1.02401743, ..., -2.18550459,\n",
       "        -0.01173131, -0.35948958],\n",
       "       [-0.10744267, -1.18874337, -0.15944638, ..., -0.26527816,\n",
       "        -0.14463475,  0.83361592],\n",
       "       [-0.57364847, -0.53966181,  0.19524704, ...,  0.06998157,\n",
       "         0.39895741,  0.78837482],\n",
       "       ...,\n",
       "       [-1.50392252, -0.0827537 ,  1.00214643, ..., -0.00549623,\n",
       "        -0.10803306, -0.1808804 ],\n",
       "       [ 0.68625613, -0.31703464, -0.41001729, ...,  1.61362406,\n",
       "         0.54960093, -0.61350134],\n",
       "       [ 0.0672496 , -1.03691542,  0.63640417, ...,  0.05555112,\n",
       "        -0.18243124, -0.96500581]])"
      ]
     },
     "execution_count": 3,
     "metadata": {},
     "output_type": "execute_result"
    }
   ],
   "source": [
    "X"
   ]
  },
  {
   "cell_type": "code",
   "execution_count": 4,
   "id": "9a7774fe",
   "metadata": {},
   "outputs": [
    {
     "data": {
      "text/plain": [
       "(4000, 21)"
      ]
     },
     "execution_count": 4,
     "metadata": {},
     "output_type": "execute_result"
    }
   ],
   "source": [
    "X.shape"
   ]
  },
  {
   "cell_type": "code",
   "execution_count": 5,
   "id": "a1b9c7b8",
   "metadata": {},
   "outputs": [
    {
     "data": {
      "text/plain": [
       "array([2, 1, 1, ..., 2, 0, 1])"
      ]
     },
     "execution_count": 5,
     "metadata": {},
     "output_type": "execute_result"
    }
   ],
   "source": [
    "y"
   ]
  },
  {
   "cell_type": "code",
   "execution_count": 6,
   "id": "47d1dd37",
   "metadata": {},
   "outputs": [
    {
     "data": {
      "text/plain": [
       "(4000,)"
      ]
     },
     "execution_count": 6,
     "metadata": {},
     "output_type": "execute_result"
    }
   ],
   "source": [
    "y.shape"
   ]
  },
  {
   "cell_type": "code",
   "execution_count": 7,
   "id": "bbb30e99",
   "metadata": {},
   "outputs": [],
   "source": [
    "from sklearn.model_selection import train_test_split"
   ]
  },
  {
   "cell_type": "code",
   "execution_count": 8,
   "id": "0d480a78",
   "metadata": {},
   "outputs": [],
   "source": [
    "X_train,X_test,y_train,y_test = train_test_split(X,y,test_size=0.2,random_state=0)"
   ]
  },
  {
   "cell_type": "code",
   "execution_count": 9,
   "id": "aa746de2",
   "metadata": {},
   "outputs": [
    {
     "data": {
      "text/plain": [
       "(3200, 21)"
      ]
     },
     "execution_count": 9,
     "metadata": {},
     "output_type": "execute_result"
    }
   ],
   "source": [
    "X_train.shape"
   ]
  },
  {
   "cell_type": "code",
   "execution_count": 10,
   "id": "eb059c0e",
   "metadata": {},
   "outputs": [
    {
     "data": {
      "text/plain": [
       "(800, 21)"
      ]
     },
     "execution_count": 10,
     "metadata": {},
     "output_type": "execute_result"
    }
   ],
   "source": [
    "X_test.shape"
   ]
  },
  {
   "cell_type": "code",
   "execution_count": 11,
   "id": "cb048009",
   "metadata": {},
   "outputs": [],
   "source": [
    "import tensorflow as tf\n",
    "from tensorflow.keras.models import Sequential\n",
    "from tensorflow.keras.layers import Dense"
   ]
  },
  {
   "cell_type": "code",
   "execution_count": 12,
   "id": "d3c323b9",
   "metadata": {},
   "outputs": [],
   "source": [
    "model = Sequential()\n",
    "model.add(Dense(100,activation=tf.nn.relu,input_dim=21))\n",
    "model.add(Dense(100,activation=tf.nn.relu))\n",
    "model.add(Dense(50,activation=tf.nn.relu))\n",
    "model.add(Dense(3,activation=tf.nn.softmax))"
   ]
  },
  {
   "cell_type": "code",
   "execution_count": 13,
   "id": "f777a7d7",
   "metadata": {},
   "outputs": [
    {
     "name": "stdout",
     "output_type": "stream",
     "text": [
      "Model: \"sequential\"\n",
      "_________________________________________________________________\n",
      "Layer (type)                 Output Shape              Param #   \n",
      "=================================================================\n",
      "dense (Dense)                (None, 100)               2200      \n",
      "_________________________________________________________________\n",
      "dense_1 (Dense)              (None, 100)               10100     \n",
      "_________________________________________________________________\n",
      "dense_2 (Dense)              (None, 50)                5050      \n",
      "_________________________________________________________________\n",
      "dense_3 (Dense)              (None, 3)                 153       \n",
      "=================================================================\n",
      "Total params: 17,503\n",
      "Trainable params: 17,503\n",
      "Non-trainable params: 0\n",
      "_________________________________________________________________\n"
     ]
    }
   ],
   "source": [
    "model.summary()"
   ]
  },
  {
   "cell_type": "code",
   "execution_count": 14,
   "id": "8b3ea70f",
   "metadata": {},
   "outputs": [],
   "source": [
    "model.compile(loss='sparse_categorical_crossentropy',optimizer='adam',metrics=['accuracy'])"
   ]
  },
  {
   "cell_type": "code",
   "execution_count": 15,
   "id": "9eb7db69",
   "metadata": {},
   "outputs": [
    {
     "name": "stdout",
     "output_type": "stream",
     "text": [
      "Epoch 1/100\n",
      "100/100 [==============================] - 0s 907us/step - loss: 0.6557 - accuracy: 0.7297\n",
      "Epoch 2/100\n",
      "100/100 [==============================] - 0s 835us/step - loss: 0.4320 - accuracy: 0.8322\n",
      "Epoch 3/100\n",
      "100/100 [==============================] - 0s 842us/step - loss: 0.3781 - accuracy: 0.8578\n",
      "Epoch 4/100\n",
      "100/100 [==============================] - 0s 947us/step - loss: 0.3506 - accuracy: 0.8606\n",
      "Epoch 5/100\n",
      "100/100 [==============================] - 0s 974us/step - loss: 0.3234 - accuracy: 0.8756\n",
      "Epoch 6/100\n",
      "100/100 [==============================] - 0s 954us/step - loss: 0.3028 - accuracy: 0.8872\n",
      "Epoch 7/100\n",
      "100/100 [==============================] - 0s 1ms/step - loss: 0.2983 - accuracy: 0.8863\n",
      "Epoch 8/100\n",
      "100/100 [==============================] - 0s 2ms/step - loss: 0.2698 - accuracy: 0.9016\n",
      "Epoch 9/100\n",
      "100/100 [==============================] - 0s 1ms/step - loss: 0.2484 - accuracy: 0.9112\n",
      "Epoch 10/100\n",
      "100/100 [==============================] - 0s 2ms/step - loss: 0.2339 - accuracy: 0.9153\n",
      "Epoch 11/100\n",
      "100/100 [==============================] - 0s 2ms/step - loss: 0.2139 - accuracy: 0.9200\n",
      "Epoch 12/100\n",
      "100/100 [==============================] - 0s 2ms/step - loss: 0.2034 - accuracy: 0.9325\n",
      "Epoch 13/100\n",
      "100/100 [==============================] - 0s 1ms/step - loss: 0.1805 - accuracy: 0.9372\n",
      "Epoch 14/100\n",
      "100/100 [==============================] - 0s 1ms/step - loss: 0.1695 - accuracy: 0.9441\n",
      "Epoch 15/100\n",
      "100/100 [==============================] - 0s 2ms/step - loss: 0.1555 - accuracy: 0.9478\n",
      "Epoch 16/100\n",
      "100/100 [==============================] - 0s 1ms/step - loss: 0.1332 - accuracy: 0.9584\n",
      "Epoch 17/100\n",
      "100/100 [==============================] - 0s 2ms/step - loss: 0.1217 - accuracy: 0.9606\n",
      "Epoch 18/100\n",
      "100/100 [==============================] - 0s 1ms/step - loss: 0.1078 - accuracy: 0.9663\n",
      "Epoch 19/100\n",
      "100/100 [==============================] - 0s 1ms/step - loss: 0.1015 - accuracy: 0.9678\n",
      "Epoch 20/100\n",
      "100/100 [==============================] - 0s 1ms/step - loss: 0.0857 - accuracy: 0.9756\n",
      "Epoch 21/100\n",
      "100/100 [==============================] - 0s 1ms/step - loss: 0.0771 - accuracy: 0.9787\n",
      "Epoch 22/100\n",
      "100/100 [==============================] - 0s 1ms/step - loss: 0.0714 - accuracy: 0.9791\n",
      "Epoch 23/100\n",
      "100/100 [==============================] - 0s 1ms/step - loss: 0.0472 - accuracy: 0.9900\n",
      "Epoch 24/100\n",
      "100/100 [==============================] - 0s 2ms/step - loss: 0.0396 - accuracy: 0.9919\n",
      "Epoch 25/100\n",
      "100/100 [==============================] - 0s 1ms/step - loss: 0.0352 - accuracy: 0.9937\n",
      "Epoch 26/100\n",
      "100/100 [==============================] - 0s 2ms/step - loss: 0.0311 - accuracy: 0.9944\n",
      "Epoch 27/100\n",
      "100/100 [==============================] - 0s 1ms/step - loss: 0.0276 - accuracy: 0.9959\n",
      "Epoch 28/100\n",
      "100/100 [==============================] - 0s 1ms/step - loss: 0.0181 - accuracy: 0.9991\n",
      "Epoch 29/100\n",
      "100/100 [==============================] - 0s 1ms/step - loss: 0.0128 - accuracy: 0.9994\n",
      "Epoch 30/100\n",
      "100/100 [==============================] - 0s 1ms/step - loss: 0.0105 - accuracy: 0.9994\n",
      "Epoch 31/100\n",
      "100/100 [==============================] - 0s 1ms/step - loss: 0.0082 - accuracy: 0.9997\n",
      "Epoch 32/100\n",
      "100/100 [==============================] - 0s 1ms/step - loss: 0.0070 - accuracy: 1.0000\n",
      "Epoch 33/100\n",
      "100/100 [==============================] - 0s 1ms/step - loss: 0.0054 - accuracy: 1.0000\n",
      "Epoch 34/100\n",
      "100/100 [==============================] - 0s 1ms/step - loss: 0.0043 - accuracy: 1.0000\n",
      "Epoch 35/100\n",
      "100/100 [==============================] - 0s 1ms/step - loss: 0.0037 - accuracy: 1.0000\n",
      "Epoch 36/100\n",
      "100/100 [==============================] - 0s 1ms/step - loss: 0.0034 - accuracy: 1.0000\n",
      "Epoch 37/100\n",
      "100/100 [==============================] - 0s 1ms/step - loss: 0.0030 - accuracy: 1.0000\n",
      "Epoch 38/100\n",
      "100/100 [==============================] - 0s 2ms/step - loss: 0.0025 - accuracy: 1.0000\n",
      "Epoch 39/100\n",
      "100/100 [==============================] - 0s 1ms/step - loss: 0.0021 - accuracy: 1.0000\n",
      "Epoch 40/100\n",
      "100/100 [==============================] - 0s 789us/step - loss: 0.0020 - accuracy: 1.0000\n",
      "Epoch 41/100\n",
      "100/100 [==============================] - 0s 904us/step - loss: 0.0017 - accuracy: 1.0000\n",
      "Epoch 42/100\n",
      "100/100 [==============================] - 0s 1ms/step - loss: 0.0015 - accuracy: 1.0000\n",
      "Epoch 43/100\n",
      "100/100 [==============================] - 0s 1ms/step - loss: 0.0014 - accuracy: 1.0000\n",
      "Epoch 44/100\n",
      "100/100 [==============================] - 0s 1ms/step - loss: 0.0013 - accuracy: 1.0000\n",
      "Epoch 45/100\n",
      "100/100 [==============================] - 0s 2ms/step - loss: 0.0011 - accuracy: 1.0000\n",
      "Epoch 46/100\n",
      "100/100 [==============================] - 0s 1ms/step - loss: 0.0010 - accuracy: 1.0000\n",
      "Epoch 47/100\n",
      "100/100 [==============================] - 0s 1ms/step - loss: 9.2573e-04 - accuracy: 1.0000\n",
      "Epoch 48/100\n",
      "100/100 [==============================] - 0s 1ms/step - loss: 8.3855e-04 - accuracy: 1.0000\n",
      "Epoch 49/100\n",
      "100/100 [==============================] - 0s 974us/step - loss: 7.4932e-04 - accuracy: 1.0000\n",
      "Epoch 50/100\n",
      "100/100 [==============================] - 0s 1ms/step - loss: 6.9477e-04 - accuracy: 1.0000\n",
      "Epoch 51/100\n",
      "100/100 [==============================] - 0s 1ms/step - loss: 6.3704e-04 - accuracy: 1.0000\n",
      "Epoch 52/100\n",
      "100/100 [==============================] - 0s 1ms/step - loss: 5.9137e-04 - accuracy: 1.0000\n",
      "Epoch 53/100\n",
      "100/100 [==============================] - 0s 1ms/step - loss: 5.3542e-04 - accuracy: 1.0000\n",
      "Epoch 54/100\n",
      "100/100 [==============================] - 0s 749us/step - loss: 4.9791e-04 - accuracy: 1.0000\n",
      "Epoch 55/100\n",
      "100/100 [==============================] - 0s 722us/step - loss: 4.6429e-04 - accuracy: 1.0000\n",
      "Epoch 56/100\n",
      "100/100 [==============================] - 0s 2ms/step - loss: 4.2565e-04 - accuracy: 1.0000\n",
      "Epoch 57/100\n",
      "100/100 [==============================] - 0s 1ms/step - loss: 3.9508e-04 - accuracy: 1.0000\n",
      "Epoch 58/100\n",
      "100/100 [==============================] - 0s 1ms/step - loss: 3.6659e-04 - accuracy: 1.0000\n",
      "Epoch 59/100\n",
      "100/100 [==============================] - 0s 790us/step - loss: 3.4556e-04 - accuracy: 1.0000\n",
      "Epoch 60/100\n",
      "100/100 [==============================] - 0s 796us/step - loss: 3.1299e-04 - accuracy: 1.0000\n",
      "Epoch 61/100\n",
      "100/100 [==============================] - 0s 943us/step - loss: 2.9417e-04 - accuracy: 1.0000\n",
      "Epoch 62/100\n",
      "100/100 [==============================] - 0s 1ms/step - loss: 2.6763e-04 - accuracy: 1.0000\n",
      "Epoch 63/100\n",
      "100/100 [==============================] - 0s 2ms/step - loss: 2.5246e-04 - accuracy: 1.0000\n",
      "Epoch 64/100\n",
      "100/100 [==============================] - 0s 1ms/step - loss: 2.2958e-04 - accuracy: 1.0000\n",
      "Epoch 65/100\n",
      "100/100 [==============================] - 0s 1ms/step - loss: 2.1220e-04 - accuracy: 1.0000\n",
      "Epoch 66/100\n",
      "100/100 [==============================] - 0s 2ms/step - loss: 2.0142e-04 - accuracy: 1.0000\n",
      "Epoch 67/100\n",
      "100/100 [==============================] - 0s 1ms/step - loss: 1.8892e-04 - accuracy: 1.0000\n",
      "Epoch 68/100\n",
      "100/100 [==============================] - 0s 1ms/step - loss: 1.7496e-04 - accuracy: 1.0000\n",
      "Epoch 69/100\n",
      "100/100 [==============================] - 0s 2ms/step - loss: 1.6301e-04 - accuracy: 1.0000\n",
      "Epoch 70/100\n",
      "100/100 [==============================] - 0s 1ms/step - loss: 1.5114e-04 - accuracy: 1.0000\n",
      "Epoch 71/100\n",
      "100/100 [==============================] - 0s 1ms/step - loss: 1.3980e-04 - accuracy: 1.0000\n",
      "Epoch 72/100\n",
      "100/100 [==============================] - 0s 1ms/step - loss: 1.3080e-04 - accuracy: 1.0000\n",
      "Epoch 73/100\n",
      "100/100 [==============================] - 0s 717us/step - loss: 1.2098e-04 - accuracy: 1.0000\n",
      "Epoch 74/100\n",
      "100/100 [==============================] - 0s 1ms/step - loss: 1.1244e-04 - accuracy: 1.0000\n",
      "Epoch 75/100\n",
      "100/100 [==============================] - 0s 985us/step - loss: 1.0546e-04 - accuracy: 1.0000\n",
      "Epoch 76/100\n",
      "100/100 [==============================] - 0s 753us/step - loss: 9.9418e-05 - accuracy: 1.0000\n",
      "Epoch 77/100\n",
      "100/100 [==============================] - 0s 974us/step - loss: 9.2209e-05 - accuracy: 1.0000\n",
      "Epoch 78/100\n",
      "100/100 [==============================] - 0s 728us/step - loss: 8.5191e-05 - accuracy: 1.0000\n",
      "Epoch 79/100\n"
     ]
    },
    {
     "name": "stdout",
     "output_type": "stream",
     "text": [
      "100/100 [==============================] - 0s 752us/step - loss: 8.0794e-05 - accuracy: 1.0000\n",
      "Epoch 80/100\n",
      "100/100 [==============================] - 0s 722us/step - loss: 7.6222e-05 - accuracy: 1.0000\n",
      "Epoch 81/100\n",
      "100/100 [==============================] - 0s 882us/step - loss: 7.1647e-05 - accuracy: 1.0000\n",
      "Epoch 82/100\n",
      "100/100 [==============================] - 0s 1ms/step - loss: 6.6627e-05 - accuracy: 1.0000\n",
      "Epoch 83/100\n",
      "100/100 [==============================] - 0s 1ms/step - loss: 6.1273e-05 - accuracy: 1.0000\n",
      "Epoch 84/100\n",
      "100/100 [==============================] - 0s 1ms/step - loss: 5.8125e-05 - accuracy: 1.0000\n",
      "Epoch 85/100\n",
      "100/100 [==============================] - 0s 748us/step - loss: 5.4381e-05 - accuracy: 1.0000\n",
      "Epoch 86/100\n",
      "100/100 [==============================] - 0s 735us/step - loss: 5.0784e-05 - accuracy: 1.0000\n",
      "Epoch 87/100\n",
      "100/100 [==============================] - 0s 739us/step - loss: 4.7660e-05 - accuracy: 1.0000\n",
      "Epoch 88/100\n",
      "100/100 [==============================] - 0s 1ms/step - loss: 4.4663e-05 - accuracy: 1.0000\n",
      "Epoch 89/100\n",
      "100/100 [==============================] - 0s 802us/step - loss: 4.1751e-05 - accuracy: 1.0000\n",
      "Epoch 90/100\n",
      "100/100 [==============================] - 0s 701us/step - loss: 3.9246e-05 - accuracy: 1.0000\n",
      "Epoch 91/100\n",
      "100/100 [==============================] - 0s 732us/step - loss: 3.7059e-05 - accuracy: 1.0000\n",
      "Epoch 92/100\n",
      "100/100 [==============================] - 0s 819us/step - loss: 3.4595e-05 - accuracy: 1.0000\n",
      "Epoch 93/100\n",
      "100/100 [==============================] - 0s 1ms/step - loss: 3.2818e-05 - accuracy: 1.0000\n",
      "Epoch 94/100\n",
      "100/100 [==============================] - 0s 790us/step - loss: 3.0286e-05 - accuracy: 1.0000\n",
      "Epoch 95/100\n",
      "100/100 [==============================] - 0s 733us/step - loss: 2.8327e-05 - accuracy: 1.0000\n",
      "Epoch 96/100\n",
      "100/100 [==============================] - 0s 717us/step - loss: 2.6950e-05 - accuracy: 1.0000\n",
      "Epoch 97/100\n",
      "100/100 [==============================] - 0s 724us/step - loss: 2.4986e-05 - accuracy: 1.0000\n",
      "Epoch 98/100\n",
      "100/100 [==============================] - 0s 728us/step - loss: 2.3706e-05 - accuracy: 1.0000\n",
      "Epoch 99/100\n",
      "100/100 [==============================] - 0s 727us/step - loss: 2.2352e-05 - accuracy: 1.0000\n",
      "Epoch 100/100\n",
      "100/100 [==============================] - 0s 804us/step - loss: 2.1091e-05 - accuracy: 1.0000\n"
     ]
    },
    {
     "data": {
      "text/plain": [
       "<keras.callbacks.History at 0x215ef507ac8>"
      ]
     },
     "execution_count": 15,
     "metadata": {},
     "output_type": "execute_result"
    }
   ],
   "source": [
    "model.fit(X_train,y_train,epochs=100)"
   ]
  },
  {
   "cell_type": "code",
   "execution_count": 16,
   "id": "90a2cfb1",
   "metadata": {},
   "outputs": [],
   "source": [
    "y_pred = model.predict(X_test)"
   ]
  },
  {
   "cell_type": "code",
   "execution_count": 17,
   "id": "5bbae5a4",
   "metadata": {},
   "outputs": [
    {
     "data": {
      "text/plain": [
       "array([[0., 0., 1.],\n",
       "       [0., 0., 1.],\n",
       "       [0., 1., 0.],\n",
       "       ...,\n",
       "       [0., 1., 0.],\n",
       "       [0., 1., 0.],\n",
       "       [0., 1., 0.]], dtype=float32)"
      ]
     },
     "execution_count": 17,
     "metadata": {},
     "output_type": "execute_result"
    }
   ],
   "source": [
    "y_pred.round()"
   ]
  },
  {
   "cell_type": "code",
   "execution_count": 18,
   "id": "3af4ea02",
   "metadata": {},
   "outputs": [],
   "source": [
    "y_pred = np.argmax(y_pred,axis=1)"
   ]
  },
  {
   "cell_type": "code",
   "execution_count": 19,
   "id": "740518bf",
   "metadata": {},
   "outputs": [
    {
     "data": {
      "text/plain": [
       "array([2, 2, 1, 1, 0, 1, 2, 0, 1, 1, 1, 1, 0, 0, 2, 1, 2, 2, 0, 1, 1, 1,\n",
       "       1, 2, 1, 0, 0, 2, 0, 0, 1, 2, 1, 1, 1, 2, 2, 0, 2, 2, 1, 0, 2, 1,\n",
       "       2, 2, 1, 0, 2, 2, 1, 0, 0, 0, 0, 1, 1, 0, 0, 0, 2, 1, 2, 1, 0, 2,\n",
       "       0, 1, 0, 0, 0, 2, 2, 2, 0, 0, 1, 1, 1, 2, 1, 1, 0, 0, 2, 2, 2, 1,\n",
       "       2, 1, 1, 0, 0, 0, 0, 2, 0, 2, 2, 2, 1, 0, 2, 1, 1, 1, 1, 2, 1, 1,\n",
       "       0, 1, 2, 0, 0, 2, 2, 0, 0, 0, 0, 2, 0, 0, 2, 0, 2, 1, 2, 0, 0, 2,\n",
       "       2, 1, 2, 0, 2, 1, 2, 2, 1, 0, 2, 2, 1, 1, 2, 2, 2, 1, 0, 0, 1, 1,\n",
       "       0, 0, 2, 1, 1, 2, 0, 1, 2, 0, 2, 2, 0, 0, 2, 0, 2, 0, 2, 2, 1, 0,\n",
       "       1, 0, 0, 1, 2, 1, 1, 2, 0, 0, 0, 2, 1, 1, 2, 2, 1, 1, 1, 2, 1, 0,\n",
       "       0, 0, 2, 2, 0, 0, 1, 1, 0, 0, 2, 1, 0, 2, 1, 0, 2, 1, 2, 0, 1, 0,\n",
       "       2, 0, 0, 0, 2, 2, 2, 1, 2, 1, 2, 1, 0, 1, 0, 0, 2, 0, 1, 0, 1, 0,\n",
       "       0, 0, 1, 1, 1, 1, 0, 1, 0, 0, 0, 1, 2, 2, 0, 0, 1, 0, 2, 1, 1, 0,\n",
       "       0, 1, 2, 0, 2, 1, 1, 0, 1, 1, 2, 1, 1, 0, 0, 2, 0, 1, 1, 1, 2, 0,\n",
       "       1, 0, 2, 1, 0, 1, 1, 1, 2, 2, 2, 0, 1, 0, 0, 2, 2, 0, 1, 0, 1, 1,\n",
       "       1, 0, 2, 2, 2, 1, 0, 0, 0, 1, 2, 0, 2, 0, 1, 2, 1, 1, 0, 1, 1, 2,\n",
       "       1, 0, 1, 1, 2, 2, 1, 2, 0, 2, 0, 1, 1, 2, 1, 0, 1, 0, 1, 2, 0, 1,\n",
       "       2, 2, 2, 2, 1, 2, 1, 1, 2, 0, 0, 2, 2, 0, 0, 0, 2, 2, 0, 1, 1, 1,\n",
       "       0, 1, 0, 0, 2, 0, 1, 0, 1, 2, 2, 1, 2, 1, 2, 1, 2, 1, 1, 0, 0, 1,\n",
       "       1, 1, 2, 0, 1, 0, 1, 0, 2, 0, 2, 2, 0, 1, 2, 0, 0, 0, 1, 1, 1, 2,\n",
       "       1, 0, 2, 2, 0, 2, 1, 2, 2, 2, 0, 2, 0, 2, 2, 0, 1, 1, 2, 2, 2, 0,\n",
       "       1, 1, 1, 1, 1, 1, 2, 2, 2, 1, 0, 0, 2, 1, 2, 0, 1, 0, 1, 2, 1, 2,\n",
       "       1, 0, 2, 0, 1, 0, 2, 1, 1, 2, 1, 0, 1, 1, 0, 1, 0, 2, 2, 1, 1, 1,\n",
       "       2, 2, 2, 1, 1, 0, 2, 0, 0, 1, 0, 1, 0, 0, 0, 0, 2, 0, 2, 2, 0, 0,\n",
       "       1, 2, 0, 1, 2, 0, 2, 0, 2, 1, 0, 0, 0, 1, 1, 0, 2, 2, 0, 2, 0, 2,\n",
       "       1, 1, 2, 2, 0, 1, 1, 2, 1, 1, 0, 0, 2, 0, 1, 0, 0, 0, 1, 2, 0, 2,\n",
       "       2, 2, 2, 2, 1, 2, 0, 0, 0, 2, 2, 2, 2, 0, 1, 2, 0, 2, 2, 2, 0, 0,\n",
       "       0, 0, 0, 2, 1, 1, 0, 1, 0, 1, 0, 2, 1, 2, 1, 2, 0, 2, 0, 2, 1, 2,\n",
       "       1, 1, 2, 2, 0, 1, 2, 2, 1, 2, 1, 0, 1, 0, 0, 1, 0, 0, 2, 1, 1, 2,\n",
       "       0, 1, 1, 0, 0, 2, 0, 0, 2, 2, 2, 1, 1, 0, 2, 1, 1, 0, 0, 1, 0, 2,\n",
       "       1, 0, 1, 1, 1, 0, 2, 1, 2, 0, 0, 0, 1, 2, 0, 2, 0, 2, 0, 0, 1, 1,\n",
       "       2, 0, 0, 0, 1, 2, 2, 0, 1, 2, 2, 1, 0, 1, 2, 0, 2, 1, 2, 1, 2, 1,\n",
       "       0, 0, 0, 2, 0, 1, 0, 1, 2, 0, 0, 1, 1, 0, 0, 2, 1, 0, 1, 2, 0, 0,\n",
       "       1, 0, 0, 2, 1, 2, 0, 2, 1, 2, 2, 1, 2, 0, 2, 2, 1, 1, 0, 0, 0, 0,\n",
       "       0, 1, 1, 1, 2, 2, 1, 0, 0, 2, 2, 1, 2, 2, 0, 1, 0, 0, 0, 0, 1, 1,\n",
       "       0, 2, 2, 2, 0, 1, 1, 2, 2, 1, 1, 2, 0, 1, 1, 2, 2, 1, 1, 2, 0, 2,\n",
       "       0, 1, 2, 2, 2, 0, 1, 2, 0, 0, 0, 2, 2, 0, 1, 1, 2, 0, 2, 2, 2, 0,\n",
       "       1, 0, 0, 2, 0, 1, 1, 1], dtype=int64)"
      ]
     },
     "execution_count": 19,
     "metadata": {},
     "output_type": "execute_result"
    }
   ],
   "source": [
    "y_pred"
   ]
  },
  {
   "cell_type": "code",
   "execution_count": 20,
   "id": "12538d82",
   "metadata": {},
   "outputs": [
    {
     "name": "stdout",
     "output_type": "stream",
     "text": [
      "25/25 [==============================] - 0s 908us/step - loss: 1.9785 - accuracy: 0.7950\n"
     ]
    },
    {
     "data": {
      "text/plain": [
       "[1.9784512519836426, 0.7950000166893005]"
      ]
     },
     "execution_count": 20,
     "metadata": {},
     "output_type": "execute_result"
    }
   ],
   "source": [
    "model.evaluate(X_test,y_test)"
   ]
  },
  {
   "cell_type": "code",
   "execution_count": 21,
   "id": "96288637",
   "metadata": {},
   "outputs": [],
   "source": [
    "from sklearn.metrics import confusion_matrix,classification_report"
   ]
  },
  {
   "cell_type": "code",
   "execution_count": 22,
   "id": "513852c5",
   "metadata": {},
   "outputs": [
    {
     "name": "stdout",
     "output_type": "stream",
     "text": [
      "[[220  19  28]\n",
      " [ 21 206  23]\n",
      " [ 33  40 210]]\n"
     ]
    }
   ],
   "source": [
    "print(confusion_matrix(y_test,y_pred))"
   ]
  },
  {
   "cell_type": "code",
   "execution_count": null,
   "id": "cc738cc6",
   "metadata": {},
   "outputs": [],
   "source": [
    "print(classification_report(y_test,y_pred))"
   ]
  },
  {
   "cell_type": "code",
   "execution_count": null,
   "id": "92720926",
   "metadata": {},
   "outputs": [],
   "source": []
  }
 ],
 "metadata": {
  "kernelspec": {
   "display_name": "Python 3",
   "language": "python",
   "name": "python3"
  },
  "language_info": {
   "codemirror_mode": {
    "name": "ipython",
    "version": 3
   },
   "file_extension": ".py",
   "mimetype": "text/x-python",
   "name": "python",
   "nbconvert_exporter": "python",
   "pygments_lexer": "ipython3",
   "version": "3.6.13"
  }
 },
 "nbformat": 4,
 "nbformat_minor": 5
}
