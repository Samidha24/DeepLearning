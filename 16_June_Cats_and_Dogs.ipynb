{
 "cells": [
  {
   "cell_type": "code",
   "execution_count": 1,
   "id": "6b6dab1f",
   "metadata": {},
   "outputs": [],
   "source": [
    "# only for cuda enabled laptop and desktop"
   ]
  },
  {
   "cell_type": "code",
   "execution_count": 2,
   "id": "5fa007da",
   "metadata": {},
   "outputs": [
    {
     "name": "stdout",
     "output_type": "stream",
     "text": [
      "[]\n"
     ]
    }
   ],
   "source": [
    "import tensorflow as tf\n",
    "physical_devices = tf.config.experimental.list_physical_devices('GPU')\n",
    "print(physical_devices)\n",
    "if physical_devices:\n",
    "  tf.config.experimental.set_memory_growth(physical_devices[0], True)"
   ]
  },
  {
   "cell_type": "code",
   "execution_count": 3,
   "id": "b1b31bc8",
   "metadata": {},
   "outputs": [
    {
     "data": {
      "text/plain": [
       "'C:\\\\Users\\\\HP\\\\.keras\\\\datasets\\\\cats_and_dogs_filtered.zip'"
      ]
     },
     "execution_count": 3,
     "metadata": {},
     "output_type": "execute_result"
    }
   ],
   "source": [
    "import tensorflow as tf\n",
    "tf.keras.utils.get_file('cats_and_dogs_filtered.zip',\"https://storage.googleapis.com/mledu-datasets/cats_and_dogs_filtered.zip\")"
   ]
  },
  {
   "cell_type": "code",
   "execution_count": 4,
   "id": "77bc24aa",
   "metadata": {},
   "outputs": [],
   "source": [
    "import os\n",
    "import zipfile #to handle zip file\n",
    "\n",
    "local_zip = 'C:\\\\Users\\\\HP\\\\.keras\\\\datasets\\\\cats_and_dogs_filtered.zip'\n",
    "zip_ref = zipfile.ZipFile(local_zip, 'r')\n",
    "zip_ref.extractall()\n",
    "zip_ref.close()"
   ]
  },
  {
   "cell_type": "code",
   "execution_count": null,
   "id": "8219f663",
   "metadata": {},
   "outputs": [],
   "source": []
  }
 ],
 "metadata": {
  "kernelspec": {
   "display_name": "Python 3",
   "language": "python",
   "name": "python3"
  },
  "language_info": {
   "codemirror_mode": {
    "name": "ipython",
    "version": 3
   },
   "file_extension": ".py",
   "mimetype": "text/x-python",
   "name": "python",
   "nbconvert_exporter": "python",
   "pygments_lexer": "ipython3",
   "version": "3.6.13"
  }
 },
 "nbformat": 4,
 "nbformat_minor": 5
}
