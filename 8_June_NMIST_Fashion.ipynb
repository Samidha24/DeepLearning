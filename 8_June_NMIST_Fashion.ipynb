{
 "cells": [
  {
   "cell_type": "code",
   "execution_count": 1,
   "id": "45f0abce",
   "metadata": {},
   "outputs": [],
   "source": [
    "# only for cuda enabled laptop and desktop"
   ]
  },
  {
   "cell_type": "code",
   "execution_count": 2,
   "id": "06e8ae76",
   "metadata": {},
   "outputs": [
    {
     "name": "stdout",
     "output_type": "stream",
     "text": [
      "[]\n"
     ]
    }
   ],
   "source": [
    "import tensorflow as tf\n",
    "physical_devices = tf.config.experimental.list_physical_devices('GPU')\n",
    "print(physical_devices)\n",
    "if physical_devices:\n",
    "  tf.config.experimental.set_memory_growth(physical_devices[0], True)"
   ]
  },
  {
   "cell_type": "code",
   "execution_count": 3,
   "id": "11dd9d7b",
   "metadata": {},
   "outputs": [],
   "source": [
    "# TensorFlow and tf.keras"
   ]
  },
  {
   "cell_type": "code",
   "execution_count": 4,
   "id": "844cf03a",
   "metadata": {},
   "outputs": [],
   "source": [
    "import tensorflow as tf\n",
    "from tensorflow import keras"
   ]
  },
  {
   "cell_type": "code",
   "execution_count": 5,
   "id": "f7519d1b",
   "metadata": {},
   "outputs": [],
   "source": [
    "# Helper libraries"
   ]
  },
  {
   "cell_type": "code",
   "execution_count": 6,
   "id": "a5628108",
   "metadata": {},
   "outputs": [],
   "source": [
    "import numpy as np\n",
    "import matplotlib.pyplot as plt"
   ]
  },
  {
   "cell_type": "code",
   "execution_count": 7,
   "id": "ddf79c57",
   "metadata": {},
   "outputs": [
    {
     "name": "stdout",
     "output_type": "stream",
     "text": [
      "2.6.2\n",
      "1.19.5\n"
     ]
    }
   ],
   "source": [
    "print(tf.__version__)\n",
    "print(np.__version__)"
   ]
  },
  {
   "cell_type": "code",
   "execution_count": 8,
   "id": "8ed252c6",
   "metadata": {},
   "outputs": [],
   "source": [
    "fashion_mnist = keras.datasets.fashion_mnist"
   ]
  },
  {
   "cell_type": "code",
   "execution_count": 9,
   "id": "bcb5e22c",
   "metadata": {},
   "outputs": [],
   "source": [
    "(train_images, train_labels), (test_images, test_labels) = fashion_mnist.load_data()"
   ]
  },
  {
   "cell_type": "code",
   "execution_count": 10,
   "id": "ad109eed",
   "metadata": {},
   "outputs": [
    {
     "data": {
      "text/plain": [
       "(60000, 28, 28)"
      ]
     },
     "execution_count": 10,
     "metadata": {},
     "output_type": "execute_result"
    }
   ],
   "source": [
    "train_images.shape"
   ]
  },
  {
   "cell_type": "code",
   "execution_count": 11,
   "id": "7763ef97",
   "metadata": {},
   "outputs": [
    {
     "data": {
      "text/plain": [
       "(10000, 28, 28)"
      ]
     },
     "execution_count": 11,
     "metadata": {},
     "output_type": "execute_result"
    }
   ],
   "source": [
    "test_images.shape"
   ]
  },
  {
   "cell_type": "code",
   "execution_count": 12,
   "id": "7f7747a2",
   "metadata": {},
   "outputs": [
    {
     "data": {
      "text/plain": [
       "array([9, 0, 0, ..., 3, 0, 5], dtype=uint8)"
      ]
     },
     "execution_count": 12,
     "metadata": {},
     "output_type": "execute_result"
    }
   ],
   "source": [
    "train_labels"
   ]
  },
  {
   "cell_type": "code",
   "execution_count": 13,
   "id": "244b8885",
   "metadata": {},
   "outputs": [
    {
     "data": {
      "text/plain": [
       "array([[  0,   0,   0,   0,   0,   0,   0,   0,   0,   0,   0,   0,   0,\n",
       "          0,   0,   0,   0,   0,   0,   0,   0,   0,   0,   0,   0,   0,\n",
       "          0,   0],\n",
       "       [  0,   0,   0,   0,   0,   0,   0,   0,   0,   0,   0,   0,   0,\n",
       "          0,   0,   0,   0,   0,   0,   0,   0,   0,   0,   0,   0,   0,\n",
       "          0,   0],\n",
       "       [  0,   0,   0,   0,   0,   0,   0,   0,   0,   0,   0,   0,   0,\n",
       "          0,   0,   0,   0,   0,   0,   0,   0,   0,   0,   0,   0,   0,\n",
       "          0,   0],\n",
       "       [  0,   0,   0,   0,   0,   0,   0,   0,   0,   0,   0,   0,   1,\n",
       "          0,   0,  13,  73,   0,   0,   1,   4,   0,   0,   0,   0,   1,\n",
       "          1,   0],\n",
       "       [  0,   0,   0,   0,   0,   0,   0,   0,   0,   0,   0,   0,   3,\n",
       "          0,  36, 136, 127,  62,  54,   0,   0,   0,   1,   3,   4,   0,\n",
       "          0,   3],\n",
       "       [  0,   0,   0,   0,   0,   0,   0,   0,   0,   0,   0,   0,   6,\n",
       "          0, 102, 204, 176, 134, 144, 123,  23,   0,   0,   0,   0,  12,\n",
       "         10,   0],\n",
       "       [  0,   0,   0,   0,   0,   0,   0,   0,   0,   0,   0,   0,   0,\n",
       "          0, 155, 236, 207, 178, 107, 156, 161, 109,  64,  23,  77, 130,\n",
       "         72,  15],\n",
       "       [  0,   0,   0,   0,   0,   0,   0,   0,   0,   0,   0,   1,   0,\n",
       "         69, 207, 223, 218, 216, 216, 163, 127, 121, 122, 146, 141,  88,\n",
       "        172,  66],\n",
       "       [  0,   0,   0,   0,   0,   0,   0,   0,   0,   1,   1,   1,   0,\n",
       "        200, 232, 232, 233, 229, 223, 223, 215, 213, 164, 127, 123, 196,\n",
       "        229,   0],\n",
       "       [  0,   0,   0,   0,   0,   0,   0,   0,   0,   0,   0,   0,   0,\n",
       "        183, 225, 216, 223, 228, 235, 227, 224, 222, 224, 221, 223, 245,\n",
       "        173,   0],\n",
       "       [  0,   0,   0,   0,   0,   0,   0,   0,   0,   0,   0,   0,   0,\n",
       "        193, 228, 218, 213, 198, 180, 212, 210, 211, 213, 223, 220, 243,\n",
       "        202,   0],\n",
       "       [  0,   0,   0,   0,   0,   0,   0,   0,   0,   1,   3,   0,  12,\n",
       "        219, 220, 212, 218, 192, 169, 227, 208, 218, 224, 212, 226, 197,\n",
       "        209,  52],\n",
       "       [  0,   0,   0,   0,   0,   0,   0,   0,   0,   0,   6,   0,  99,\n",
       "        244, 222, 220, 218, 203, 198, 221, 215, 213, 222, 220, 245, 119,\n",
       "        167,  56],\n",
       "       [  0,   0,   0,   0,   0,   0,   0,   0,   0,   4,   0,   0,  55,\n",
       "        236, 228, 230, 228, 240, 232, 213, 218, 223, 234, 217, 217, 209,\n",
       "         92,   0],\n",
       "       [  0,   0,   1,   4,   6,   7,   2,   0,   0,   0,   0,   0, 237,\n",
       "        226, 217, 223, 222, 219, 222, 221, 216, 223, 229, 215, 218, 255,\n",
       "         77,   0],\n",
       "       [  0,   3,   0,   0,   0,   0,   0,   0,   0,  62, 145, 204, 228,\n",
       "        207, 213, 221, 218, 208, 211, 218, 224, 223, 219, 215, 224, 244,\n",
       "        159,   0],\n",
       "       [  0,   0,   0,   0,  18,  44,  82, 107, 189, 228, 220, 222, 217,\n",
       "        226, 200, 205, 211, 230, 224, 234, 176, 188, 250, 248, 233, 238,\n",
       "        215,   0],\n",
       "       [  0,  57, 187, 208, 224, 221, 224, 208, 204, 214, 208, 209, 200,\n",
       "        159, 245, 193, 206, 223, 255, 255, 221, 234, 221, 211, 220, 232,\n",
       "        246,   0],\n",
       "       [  3, 202, 228, 224, 221, 211, 211, 214, 205, 205, 205, 220, 240,\n",
       "         80, 150, 255, 229, 221, 188, 154, 191, 210, 204, 209, 222, 228,\n",
       "        225,   0],\n",
       "       [ 98, 233, 198, 210, 222, 229, 229, 234, 249, 220, 194, 215, 217,\n",
       "        241,  65,  73, 106, 117, 168, 219, 221, 215, 217, 223, 223, 224,\n",
       "        229,  29],\n",
       "       [ 75, 204, 212, 204, 193, 205, 211, 225, 216, 185, 197, 206, 198,\n",
       "        213, 240, 195, 227, 245, 239, 223, 218, 212, 209, 222, 220, 221,\n",
       "        230,  67],\n",
       "       [ 48, 203, 183, 194, 213, 197, 185, 190, 194, 192, 202, 214, 219,\n",
       "        221, 220, 236, 225, 216, 199, 206, 186, 181, 177, 172, 181, 205,\n",
       "        206, 115],\n",
       "       [  0, 122, 219, 193, 179, 171, 183, 196, 204, 210, 213, 207, 211,\n",
       "        210, 200, 196, 194, 191, 195, 191, 198, 192, 176, 156, 167, 177,\n",
       "        210,  92],\n",
       "       [  0,   0,  74, 189, 212, 191, 175, 172, 175, 181, 185, 188, 189,\n",
       "        188, 193, 198, 204, 209, 210, 210, 211, 188, 188, 194, 192, 216,\n",
       "        170,   0],\n",
       "       [  2,   0,   0,   0,  66, 200, 222, 237, 239, 242, 246, 243, 244,\n",
       "        221, 220, 193, 191, 179, 182, 182, 181, 176, 166, 168,  99,  58,\n",
       "          0,   0],\n",
       "       [  0,   0,   0,   0,   0,   0,   0,  40,  61,  44,  72,  41,  35,\n",
       "          0,   0,   0,   0,   0,   0,   0,   0,   0,   0,   0,   0,   0,\n",
       "          0,   0],\n",
       "       [  0,   0,   0,   0,   0,   0,   0,   0,   0,   0,   0,   0,   0,\n",
       "          0,   0,   0,   0,   0,   0,   0,   0,   0,   0,   0,   0,   0,\n",
       "          0,   0],\n",
       "       [  0,   0,   0,   0,   0,   0,   0,   0,   0,   0,   0,   0,   0,\n",
       "          0,   0,   0,   0,   0,   0,   0,   0,   0,   0,   0,   0,   0,\n",
       "          0,   0]], dtype=uint8)"
      ]
     },
     "execution_count": 13,
     "metadata": {},
     "output_type": "execute_result"
    }
   ],
   "source": [
    "train_images[0]"
   ]
  },
  {
   "cell_type": "code",
   "execution_count": 14,
   "id": "7e32d9c5",
   "metadata": {},
   "outputs": [
    {
     "data": {
      "text/plain": [
       "9"
      ]
     },
     "execution_count": 14,
     "metadata": {},
     "output_type": "execute_result"
    }
   ],
   "source": [
    "train_labels[0]"
   ]
  },
  {
   "cell_type": "code",
   "execution_count": 15,
   "id": "9f011b4d",
   "metadata": {},
   "outputs": [
    {
     "data": {
      "image/png": "[encoded data removed]",
      "text/plain": [
       "<Figure size 432x288 with 1 Axes>"
      ]
     },
     "metadata": {},
     "output_type": "display_data"
    }
   ],
   "source": [
    "plt.imshow(train_images[0],cmap='gray_r')\n",
    "plt.title(train_labels[0])\n",
    "plt.xticks([])\n",
    "plt.yticks([])\n",
    "plt.show()"
   ]
  },
  {
   "cell_type": "code",
   "execution_count": 16,
   "id": "4dce9dc3",
   "metadata": {},
   "outputs": [
    {
     "data": {
      "image/png": "[encoded data removed]",
      "text/plain": [
       "<Figure size 432x288 with 1 Axes>"
      ]
     },
     "metadata": {},
     "output_type": "display_data"
    }
   ],
   "source": [
    "plt.imshow(train_images[100],cmap='gray_r')\n",
    "plt.title(train_labels[100])\n",
    "plt.xticks([])\n",
    "plt.yticks([])\n",
    "plt.show()"
   ]
  },
  {
   "cell_type": "code",
   "execution_count": 17,
   "id": "64f0f1db",
   "metadata": {},
   "outputs": [],
   "source": [
    "class_names = ['T-shirt/top', 'Trouser', 'Pullover', 'Dress', 'Coat',\n",
    "               'Sandal', 'Shirt', 'Sneaker', 'Bag', 'Ankle boot']"
   ]
  },
  {
   "cell_type": "code",
   "execution_count": 18,
   "id": "21e8bbd7",
   "metadata": {},
   "outputs": [
    {
     "data": {
      "text/plain": [
       "['T-shirt/top',\n",
       " 'Trouser',\n",
       " 'Pullover',\n",
       " 'Dress',\n",
       " 'Coat',\n",
       " 'Sandal',\n",
       " 'Shirt',\n",
       " 'Sneaker',\n",
       " 'Bag',\n",
       " 'Ankle boot']"
      ]
     },
     "execution_count": 18,
     "metadata": {},
     "output_type": "execute_result"
    }
   ],
   "source": [
    "class_names"
   ]
  },
  {
   "cell_type": "code",
   "execution_count": 19,
   "id": "5430f7db",
   "metadata": {},
   "outputs": [
    {
     "data": {
      "text/plain": [
       "'T-shirt/top'"
      ]
     },
     "execution_count": 19,
     "metadata": {},
     "output_type": "execute_result"
    }
   ],
   "source": [
    "class_names[0]"
   ]
  },
  {
   "cell_type": "code",
   "execution_count": 20,
   "id": "f646a268",
   "metadata": {},
   "outputs": [
    {
     "data": {
      "text/plain": [
       "9"
      ]
     },
     "execution_count": 20,
     "metadata": {},
     "output_type": "execute_result"
    }
   ],
   "source": [
    "test_labels[0]"
   ]
  },
  {
   "cell_type": "code",
   "execution_count": 21,
   "id": "a9bdd5ee",
   "metadata": {},
   "outputs": [
    {
     "data": {
      "text/plain": [
       "'Ankle boot'"
      ]
     },
     "execution_count": 21,
     "metadata": {},
     "output_type": "execute_result"
    }
   ],
   "source": [
    "class_names[test_labels[0]]"
   ]
  },
  {
   "cell_type": "code",
   "execution_count": 22,
   "id": "148ac9ad",
   "metadata": {},
   "outputs": [
    {
     "data": {
      "image/png": "[encoded data removed]",
      "text/plain": [
       "<Figure size 432x288 with 1 Axes>"
      ]
     },
     "metadata": {},
     "output_type": "display_data"
    }
   ],
   "source": [
    "plt.imshow(train_images[2],cmap='gray_r')\n",
    "plt.title(class_names[train_labels[2]])\n",
    "plt.xticks([])\n",
    "plt.yticks([])\n",
    "plt.show()"
   ]
  },
  {
   "cell_type": "code",
   "execution_count": 23,
   "id": "730e5679",
   "metadata": {},
   "outputs": [
    {
     "data": {
      "image/png": "[encoded data removed]",
      "text/plain": [
       "<Figure size 720x720 with 25 Axes>"
      ]
     },
     "metadata": {},
     "output_type": "display_data"
    }
   ],
   "source": [
    "plt.figure(figsize=(10,10))\n",
    "for i in range(25):\n",
    "    plt.subplot(5,5,i+1)\n",
    "    plt.xticks([])\n",
    "    plt.yticks([])\n",
    "    plt.grid(False)\n",
    "    plt.imshow(train_images[i], cmap=plt.cm.binary)\n",
    "    plt.xlabel(class_names[train_labels[i]])\n",
    "plt.tight_layout()\n",
    "plt.show()"
   ]
  },
  {
   "cell_type": "code",
   "execution_count": 24,
   "id": "2e1345fe",
   "metadata": {},
   "outputs": [],
   "source": [
    "train_images = train_images / 255.0"
   ]
  },
  {
   "cell_type": "code",
   "execution_count": 25,
   "id": "40fecd7a",
   "metadata": {},
   "outputs": [],
   "source": [
    "test_images = test_images / 255.0"
   ]
  },
  {
   "cell_type": "code",
   "execution_count": 26,
   "id": "dc601ac7",
   "metadata": {},
   "outputs": [
    {
     "data": {
      "text/plain": [
       "array([[0.        , 0.        , 0.        , 0.        , 0.        ,\n",
       "        0.        , 0.        , 0.        , 0.        , 0.        ,\n",
       "        0.        , 0.        , 0.        , 0.        , 0.        ,\n",
       "        0.        , 0.        , 0.        , 0.        , 0.        ,\n",
       "        0.        , 0.        , 0.        , 0.        , 0.        ,\n",
       "        0.        , 0.        , 0.        ],\n",
       "       [0.        , 0.        , 0.        , 0.        , 0.        ,\n",
       "        0.        , 0.        , 0.        , 0.        , 0.        ,\n",
       "        0.        , 0.        , 0.        , 0.        , 0.        ,\n",
       "        0.        , 0.        , 0.        , 0.        , 0.        ,\n",
       "        0.        , 0.        , 0.        , 0.        , 0.        ,\n",
       "        0.        , 0.        , 0.        ],\n",
       "       [0.        , 0.        , 0.        , 0.        , 0.        ,\n",
       "        0.        , 0.        , 0.        , 0.        , 0.        ,\n",
       "        0.        , 0.        , 0.        , 0.        , 0.        ,\n",
       "        0.        , 0.        , 0.        , 0.        , 0.        ,\n",
       "        0.        , 0.        , 0.        , 0.        , 0.        ,\n",
       "        0.        , 0.        , 0.        ],\n",
       "       [0.        , 0.        , 0.        , 0.        , 0.        ,\n",
       "        0.        , 0.        , 0.        , 0.        , 0.        ,\n",
       "        0.        , 0.        , 0.00392157, 0.        , 0.        ,\n",
       "        0.05098039, 0.28627451, 0.        , 0.        , 0.00392157,\n",
       "        0.01568627, 0.        , 0.        , 0.        , 0.        ,\n",
       "        0.00392157, 0.00392157, 0.        ],\n",
       "       [0.        , 0.        , 0.        , 0.        , 0.        ,\n",
       "        0.        , 0.        , 0.        , 0.        , 0.        ,\n",
       "        0.        , 0.        , 0.01176471, 0.        , 0.14117647,\n",
       "        0.53333333, 0.49803922, 0.24313725, 0.21176471, 0.        ,\n",
       "        0.        , 0.        , 0.00392157, 0.01176471, 0.01568627,\n",
       "        0.        , 0.        , 0.01176471],\n",
       "       [0.        , 0.        , 0.        , 0.        , 0.        ,\n",
       "        0.        , 0.        , 0.        , 0.        , 0.        ,\n",
       "        0.        , 0.        , 0.02352941, 0.        , 0.4       ,\n",
       "        0.8       , 0.69019608, 0.5254902 , 0.56470588, 0.48235294,\n",
       "        0.09019608, 0.        , 0.        , 0.        , 0.        ,\n",
       "        0.04705882, 0.03921569, 0.        ],\n",
       "       [0.        , 0.        , 0.        , 0.        , 0.        ,\n",
       "        0.        , 0.        , 0.        , 0.        , 0.        ,\n",
       "        0.        , 0.        , 0.        , 0.        , 0.60784314,\n",
       "        0.9254902 , 0.81176471, 0.69803922, 0.41960784, 0.61176471,\n",
       "        0.63137255, 0.42745098, 0.25098039, 0.09019608, 0.30196078,\n",
       "        0.50980392, 0.28235294, 0.05882353],\n",
       "       [0.        , 0.        , 0.        , 0.        , 0.        ,\n",
       "        0.        , 0.        , 0.        , 0.        , 0.        ,\n",
       "        0.        , 0.00392157, 0.        , 0.27058824, 0.81176471,\n",
       "        0.8745098 , 0.85490196, 0.84705882, 0.84705882, 0.63921569,\n",
       "        0.49803922, 0.4745098 , 0.47843137, 0.57254902, 0.55294118,\n",
       "        0.34509804, 0.6745098 , 0.25882353],\n",
       "       [0.        , 0.        , 0.        , 0.        , 0.        ,\n",
       "        0.        , 0.        , 0.        , 0.        , 0.00392157,\n",
       "        0.00392157, 0.00392157, 0.        , 0.78431373, 0.90980392,\n",
       "        0.90980392, 0.91372549, 0.89803922, 0.8745098 , 0.8745098 ,\n",
       "        0.84313725, 0.83529412, 0.64313725, 0.49803922, 0.48235294,\n",
       "        0.76862745, 0.89803922, 0.        ],\n",
       "       [0.        , 0.        , 0.        , 0.        , 0.        ,\n",
       "        0.        , 0.        , 0.        , 0.        , 0.        ,\n",
       "        0.        , 0.        , 0.        , 0.71764706, 0.88235294,\n",
       "        0.84705882, 0.8745098 , 0.89411765, 0.92156863, 0.89019608,\n",
       "        0.87843137, 0.87058824, 0.87843137, 0.86666667, 0.8745098 ,\n",
       "        0.96078431, 0.67843137, 0.        ],\n",
       "       [0.        , 0.        , 0.        , 0.        , 0.        ,\n",
       "        0.        , 0.        , 0.        , 0.        , 0.        ,\n",
       "        0.        , 0.        , 0.        , 0.75686275, 0.89411765,\n",
       "        0.85490196, 0.83529412, 0.77647059, 0.70588235, 0.83137255,\n",
       "        0.82352941, 0.82745098, 0.83529412, 0.8745098 , 0.8627451 ,\n",
       "        0.95294118, 0.79215686, 0.        ],\n",
       "       [0.        , 0.        , 0.        , 0.        , 0.        ,\n",
       "        0.        , 0.        , 0.        , 0.        , 0.00392157,\n",
       "        0.01176471, 0.        , 0.04705882, 0.85882353, 0.8627451 ,\n",
       "        0.83137255, 0.85490196, 0.75294118, 0.6627451 , 0.89019608,\n",
       "        0.81568627, 0.85490196, 0.87843137, 0.83137255, 0.88627451,\n",
       "        0.77254902, 0.81960784, 0.20392157],\n",
       "       [0.        , 0.        , 0.        , 0.        , 0.        ,\n",
       "        0.        , 0.        , 0.        , 0.        , 0.        ,\n",
       "        0.02352941, 0.        , 0.38823529, 0.95686275, 0.87058824,\n",
       "        0.8627451 , 0.85490196, 0.79607843, 0.77647059, 0.86666667,\n",
       "        0.84313725, 0.83529412, 0.87058824, 0.8627451 , 0.96078431,\n",
       "        0.46666667, 0.65490196, 0.21960784],\n",
       "       [0.        , 0.        , 0.        , 0.        , 0.        ,\n",
       "        0.        , 0.        , 0.        , 0.        , 0.01568627,\n",
       "        0.        , 0.        , 0.21568627, 0.9254902 , 0.89411765,\n",
       "        0.90196078, 0.89411765, 0.94117647, 0.90980392, 0.83529412,\n",
       "        0.85490196, 0.8745098 , 0.91764706, 0.85098039, 0.85098039,\n",
       "        0.81960784, 0.36078431, 0.        ],\n",
       "       [0.        , 0.        , 0.00392157, 0.01568627, 0.02352941,\n",
       "        0.02745098, 0.00784314, 0.        , 0.        , 0.        ,\n",
       "        0.        , 0.        , 0.92941176, 0.88627451, 0.85098039,\n",
       "        0.8745098 , 0.87058824, 0.85882353, 0.87058824, 0.86666667,\n",
       "        0.84705882, 0.8745098 , 0.89803922, 0.84313725, 0.85490196,\n",
       "        1.        , 0.30196078, 0.        ],\n",
       "       [0.        , 0.01176471, 0.        , 0.        , 0.        ,\n",
       "        0.        , 0.        , 0.        , 0.        , 0.24313725,\n",
       "        0.56862745, 0.8       , 0.89411765, 0.81176471, 0.83529412,\n",
       "        0.86666667, 0.85490196, 0.81568627, 0.82745098, 0.85490196,\n",
       "        0.87843137, 0.8745098 , 0.85882353, 0.84313725, 0.87843137,\n",
       "        0.95686275, 0.62352941, 0.        ],\n",
       "       [0.        , 0.        , 0.        , 0.        , 0.07058824,\n",
       "        0.17254902, 0.32156863, 0.41960784, 0.74117647, 0.89411765,\n",
       "        0.8627451 , 0.87058824, 0.85098039, 0.88627451, 0.78431373,\n",
       "        0.80392157, 0.82745098, 0.90196078, 0.87843137, 0.91764706,\n",
       "        0.69019608, 0.7372549 , 0.98039216, 0.97254902, 0.91372549,\n",
       "        0.93333333, 0.84313725, 0.        ],\n",
       "       [0.        , 0.22352941, 0.73333333, 0.81568627, 0.87843137,\n",
       "        0.86666667, 0.87843137, 0.81568627, 0.8       , 0.83921569,\n",
       "        0.81568627, 0.81960784, 0.78431373, 0.62352941, 0.96078431,\n",
       "        0.75686275, 0.80784314, 0.8745098 , 1.        , 1.        ,\n",
       "        0.86666667, 0.91764706, 0.86666667, 0.82745098, 0.8627451 ,\n",
       "        0.90980392, 0.96470588, 0.        ],\n",
       "       [0.01176471, 0.79215686, 0.89411765, 0.87843137, 0.86666667,\n",
       "        0.82745098, 0.82745098, 0.83921569, 0.80392157, 0.80392157,\n",
       "        0.80392157, 0.8627451 , 0.94117647, 0.31372549, 0.58823529,\n",
       "        1.        , 0.89803922, 0.86666667, 0.7372549 , 0.60392157,\n",
       "        0.74901961, 0.82352941, 0.8       , 0.81960784, 0.87058824,\n",
       "        0.89411765, 0.88235294, 0.        ],\n",
       "       [0.38431373, 0.91372549, 0.77647059, 0.82352941, 0.87058824,\n",
       "        0.89803922, 0.89803922, 0.91764706, 0.97647059, 0.8627451 ,\n",
       "        0.76078431, 0.84313725, 0.85098039, 0.94509804, 0.25490196,\n",
       "        0.28627451, 0.41568627, 0.45882353, 0.65882353, 0.85882353,\n",
       "        0.86666667, 0.84313725, 0.85098039, 0.8745098 , 0.8745098 ,\n",
       "        0.87843137, 0.89803922, 0.11372549],\n",
       "       [0.29411765, 0.8       , 0.83137255, 0.8       , 0.75686275,\n",
       "        0.80392157, 0.82745098, 0.88235294, 0.84705882, 0.7254902 ,\n",
       "        0.77254902, 0.80784314, 0.77647059, 0.83529412, 0.94117647,\n",
       "        0.76470588, 0.89019608, 0.96078431, 0.9372549 , 0.8745098 ,\n",
       "        0.85490196, 0.83137255, 0.81960784, 0.87058824, 0.8627451 ,\n",
       "        0.86666667, 0.90196078, 0.2627451 ],\n",
       "       [0.18823529, 0.79607843, 0.71764706, 0.76078431, 0.83529412,\n",
       "        0.77254902, 0.7254902 , 0.74509804, 0.76078431, 0.75294118,\n",
       "        0.79215686, 0.83921569, 0.85882353, 0.86666667, 0.8627451 ,\n",
       "        0.9254902 , 0.88235294, 0.84705882, 0.78039216, 0.80784314,\n",
       "        0.72941176, 0.70980392, 0.69411765, 0.6745098 , 0.70980392,\n",
       "        0.80392157, 0.80784314, 0.45098039],\n",
       "       [0.        , 0.47843137, 0.85882353, 0.75686275, 0.70196078,\n",
       "        0.67058824, 0.71764706, 0.76862745, 0.8       , 0.82352941,\n",
       "        0.83529412, 0.81176471, 0.82745098, 0.82352941, 0.78431373,\n",
       "        0.76862745, 0.76078431, 0.74901961, 0.76470588, 0.74901961,\n",
       "        0.77647059, 0.75294118, 0.69019608, 0.61176471, 0.65490196,\n",
       "        0.69411765, 0.82352941, 0.36078431],\n",
       "       [0.        , 0.        , 0.29019608, 0.74117647, 0.83137255,\n",
       "        0.74901961, 0.68627451, 0.6745098 , 0.68627451, 0.70980392,\n",
       "        0.7254902 , 0.7372549 , 0.74117647, 0.7372549 , 0.75686275,\n",
       "        0.77647059, 0.8       , 0.81960784, 0.82352941, 0.82352941,\n",
       "        0.82745098, 0.7372549 , 0.7372549 , 0.76078431, 0.75294118,\n",
       "        0.84705882, 0.66666667, 0.        ],\n",
       "       [0.00784314, 0.        , 0.        , 0.        , 0.25882353,\n",
       "        0.78431373, 0.87058824, 0.92941176, 0.9372549 , 0.94901961,\n",
       "        0.96470588, 0.95294118, 0.95686275, 0.86666667, 0.8627451 ,\n",
       "        0.75686275, 0.74901961, 0.70196078, 0.71372549, 0.71372549,\n",
       "        0.70980392, 0.69019608, 0.65098039, 0.65882353, 0.38823529,\n",
       "        0.22745098, 0.        , 0.        ],\n",
       "       [0.        , 0.        , 0.        , 0.        , 0.        ,\n",
       "        0.        , 0.        , 0.15686275, 0.23921569, 0.17254902,\n",
       "        0.28235294, 0.16078431, 0.1372549 , 0.        , 0.        ,\n",
       "        0.        , 0.        , 0.        , 0.        , 0.        ,\n",
       "        0.        , 0.        , 0.        , 0.        , 0.        ,\n",
       "        0.        , 0.        , 0.        ],\n",
       "       [0.        , 0.        , 0.        , 0.        , 0.        ,\n",
       "        0.        , 0.        , 0.        , 0.        , 0.        ,\n",
       "        0.        , 0.        , 0.        , 0.        , 0.        ,\n",
       "        0.        , 0.        , 0.        , 0.        , 0.        ,\n",
       "        0.        , 0.        , 0.        , 0.        , 0.        ,\n",
       "        0.        , 0.        , 0.        ],\n",
       "       [0.        , 0.        , 0.        , 0.        , 0.        ,\n",
       "        0.        , 0.        , 0.        , 0.        , 0.        ,\n",
       "        0.        , 0.        , 0.        , 0.        , 0.        ,\n",
       "        0.        , 0.        , 0.        , 0.        , 0.        ,\n",
       "        0.        , 0.        , 0.        , 0.        , 0.        ,\n",
       "        0.        , 0.        , 0.        ]])"
      ]
     },
     "execution_count": 26,
     "metadata": {},
     "output_type": "execute_result"
    }
   ],
   "source": [
    "train_images[0]"
   ]
  },
  {
   "cell_type": "code",
   "execution_count": 27,
   "id": "81654619",
   "metadata": {},
   "outputs": [],
   "source": [
    "model = keras.Sequential([\n",
    "    keras.layers.Flatten(input_shape=(28, 28)),\n",
    "    keras.layers.Dense(512, activation='relu'),\n",
    "    keras.layers.Dense(10,'softmax')\n",
    "])"
   ]
  },
  {
   "cell_type": "code",
   "execution_count": 28,
   "id": "9dcc16ae",
   "metadata": {},
   "outputs": [
    {
     "name": "stdout",
     "output_type": "stream",
     "text": [
      "Model: \"sequential\"\n",
      "_________________________________________________________________\n",
      "Layer (type)                 Output Shape              Param #   \n",
      "=================================================================\n",
      "flatten (Flatten)            (None, 784)               0         \n",
      "_________________________________________________________________\n",
      "dense (Dense)                (None, 512)               401920    \n",
      "_________________________________________________________________\n",
      "dense_1 (Dense)              (None, 10)                5130      \n",
      "=================================================================\n",
      "Total params: 407,050\n",
      "Trainable params: 407,050\n",
      "Non-trainable params: 0\n",
      "_________________________________________________________________\n"
     ]
    }
   ],
   "source": [
    "model.summary()"
   ]
  },
  {
   "cell_type": "code",
   "execution_count": 29,
   "id": "80b5d130",
   "metadata": {},
   "outputs": [],
   "source": [
    "model.compile(optimizer='adam',loss='sparse_categorical_crossentropy',metrics=['accuracy'])"
   ]
  },
  {
   "cell_type": "code",
   "execution_count": 30,
   "id": "d7c75c0a",
   "metadata": {},
   "outputs": [
    {
     "name": "stdout",
     "output_type": "stream",
     "text": [
      "Epoch 1/50\n",
      "1500/1500 [==============================] - 6s 4ms/step - loss: 0.4960 - accuracy: 0.8246 - val_loss: 0.4088 - val_accuracy: 0.8523\n",
      "Epoch 2/50\n",
      "1500/1500 [==============================] - 6s 4ms/step - loss: 0.3710 - accuracy: 0.8639 - val_loss: 0.3580 - val_accuracy: 0.8717\n",
      "Epoch 3/50\n",
      "1500/1500 [==============================] - 7s 4ms/step - loss: 0.3273 - accuracy: 0.8797 - val_loss: 0.3448 - val_accuracy: 0.8711\n",
      "Epoch 4/50\n",
      "1500/1500 [==============================] - 7s 4ms/step - loss: 0.3050 - accuracy: 0.8882 - val_loss: 0.3336 - val_accuracy: 0.8783\n",
      "Epoch 5/50\n",
      "1500/1500 [==============================] - 5s 3ms/step - loss: 0.2858 - accuracy: 0.8950 - val_loss: 0.3490 - val_accuracy: 0.8746\n",
      "Epoch 6/50\n",
      "1500/1500 [==============================] - 7s 4ms/step - loss: 0.2698 - accuracy: 0.9001 - val_loss: 0.3154 - val_accuracy: 0.8873\n",
      "Epoch 7/50\n",
      "1500/1500 [==============================] - 6s 4ms/step - loss: 0.2581 - accuracy: 0.9048 - val_loss: 0.3035 - val_accuracy: 0.8906\n",
      "Epoch 8/50\n",
      "1500/1500 [==============================] - 6s 4ms/step - loss: 0.2429 - accuracy: 0.9096 - val_loss: 0.3304 - val_accuracy: 0.8817\n",
      "Epoch 9/50\n",
      "1500/1500 [==============================] - 6s 4ms/step - loss: 0.2336 - accuracy: 0.9122 - val_loss: 0.3235 - val_accuracy: 0.8855\n",
      "Epoch 10/50\n",
      "1500/1500 [==============================] - 8s 5ms/step - loss: 0.2219 - accuracy: 0.9164 - val_loss: 0.3236 - val_accuracy: 0.8862\n",
      "Epoch 11/50\n",
      "1500/1500 [==============================] - 9s 6ms/step - loss: 0.2159 - accuracy: 0.9185 - val_loss: 0.3108 - val_accuracy: 0.8941\n",
      "Epoch 12/50\n",
      "1500/1500 [==============================] - 9s 6ms/step - loss: 0.2055 - accuracy: 0.9225 - val_loss: 0.3355 - val_accuracy: 0.8898\n",
      "Epoch 13/50\n",
      "1500/1500 [==============================] - 9s 6ms/step - loss: 0.1987 - accuracy: 0.9250 - val_loss: 0.3128 - val_accuracy: 0.8944\n",
      "Epoch 14/50\n",
      "1500/1500 [==============================] - 9s 6ms/step - loss: 0.1898 - accuracy: 0.9280 - val_loss: 0.3158 - val_accuracy: 0.8938\n",
      "Epoch 15/50\n",
      "1500/1500 [==============================] - 8s 6ms/step - loss: 0.1832 - accuracy: 0.9311 - val_loss: 0.3228 - val_accuracy: 0.8972\n",
      "Epoch 16/50\n",
      "1500/1500 [==============================] - 7s 5ms/step - loss: 0.1742 - accuracy: 0.9336 - val_loss: 0.3605 - val_accuracy: 0.8878\n",
      "Epoch 17/50\n",
      "1500/1500 [==============================] - 7s 5ms/step - loss: 0.1719 - accuracy: 0.9350 - val_loss: 0.3335 - val_accuracy: 0.8930\n",
      "Epoch 18/50\n",
      "1500/1500 [==============================] - 6s 4ms/step - loss: 0.1645 - accuracy: 0.9390 - val_loss: 0.3500 - val_accuracy: 0.8867\n",
      "Epoch 19/50\n",
      "1500/1500 [==============================] - 6s 4ms/step - loss: 0.1609 - accuracy: 0.9401 - val_loss: 0.3448 - val_accuracy: 0.8946\n",
      "Epoch 20/50\n",
      "1500/1500 [==============================] - 6s 4ms/step - loss: 0.1538 - accuracy: 0.9423 - val_loss: 0.3498 - val_accuracy: 0.8974\n",
      "Epoch 21/50\n",
      "1500/1500 [==============================] - 7s 5ms/step - loss: 0.1484 - accuracy: 0.9446 - val_loss: 0.3637 - val_accuracy: 0.8913\n",
      "Epoch 22/50\n",
      "1500/1500 [==============================] - 7s 5ms/step - loss: 0.1481 - accuracy: 0.9438 - val_loss: 0.3388 - val_accuracy: 0.8988\n",
      "Epoch 23/50\n",
      "1500/1500 [==============================] - 8s 5ms/step - loss: 0.1392 - accuracy: 0.9465 - val_loss: 0.3669 - val_accuracy: 0.8932\n",
      "Epoch 24/50\n",
      "1500/1500 [==============================] - 9s 6ms/step - loss: 0.1357 - accuracy: 0.9489 - val_loss: 0.3705 - val_accuracy: 0.8941\n",
      "Epoch 25/50\n",
      "1500/1500 [==============================] - 9s 6ms/step - loss: 0.1323 - accuracy: 0.9504 - val_loss: 0.3711 - val_accuracy: 0.8926\n",
      "Epoch 26/50\n",
      "1500/1500 [==============================] - 8s 6ms/step - loss: 0.1289 - accuracy: 0.9525 - val_loss: 0.3859 - val_accuracy: 0.8954\n",
      "Epoch 27/50\n",
      "1500/1500 [==============================] - 9s 6ms/step - loss: 0.1272 - accuracy: 0.9512 - val_loss: 0.3771 - val_accuracy: 0.8967\n",
      "Epoch 28/50\n",
      "1500/1500 [==============================] - 8s 6ms/step - loss: 0.1216 - accuracy: 0.9536 - val_loss: 0.3868 - val_accuracy: 0.8958\n",
      "Epoch 29/50\n",
      "1500/1500 [==============================] - 7s 4ms/step - loss: 0.1193 - accuracy: 0.9556 - val_loss: 0.4102 - val_accuracy: 0.8917\n",
      "Epoch 30/50\n",
      "1500/1500 [==============================] - 6s 4ms/step - loss: 0.1157 - accuracy: 0.9563 - val_loss: 0.4067 - val_accuracy: 0.8935\n",
      "Epoch 31/50\n",
      "1500/1500 [==============================] - 7s 5ms/step - loss: 0.1127 - accuracy: 0.9581 - val_loss: 0.4036 - val_accuracy: 0.8947\n",
      "Epoch 32/50\n",
      "1500/1500 [==============================] - 6s 4ms/step - loss: 0.1071 - accuracy: 0.9601 - val_loss: 0.4537 - val_accuracy: 0.8852\n",
      "Epoch 33/50\n",
      "1500/1500 [==============================] - 5s 4ms/step - loss: 0.1063 - accuracy: 0.9589 - val_loss: 0.4546 - val_accuracy: 0.8888\n",
      "Epoch 34/50\n",
      "1500/1500 [==============================] - 7s 4ms/step - loss: 0.1047 - accuracy: 0.9612 - val_loss: 0.4184 - val_accuracy: 0.8979\n",
      "Epoch 35/50\n",
      "1500/1500 [==============================] - 7s 4ms/step - loss: 0.1009 - accuracy: 0.9624 - val_loss: 0.4617 - val_accuracy: 0.8891\n",
      "Epoch 36/50\n",
      "1500/1500 [==============================] - 6s 4ms/step - loss: 0.0993 - accuracy: 0.9629 - val_loss: 0.4210 - val_accuracy: 0.8956\n",
      "Epoch 37/50\n",
      "1500/1500 [==============================] - 6s 4ms/step - loss: 0.0980 - accuracy: 0.9629 - val_loss: 0.4454 - val_accuracy: 0.8972\n",
      "Epoch 38/50\n",
      "1500/1500 [==============================] - 6s 4ms/step - loss: 0.0937 - accuracy: 0.9653 - val_loss: 0.4640 - val_accuracy: 0.8937\n",
      "Epoch 39/50\n",
      "1500/1500 [==============================] - 6s 4ms/step - loss: 0.0972 - accuracy: 0.9644 - val_loss: 0.4638 - val_accuracy: 0.8952\n",
      "Epoch 40/50\n",
      "1500/1500 [==============================] - 6s 4ms/step - loss: 0.0908 - accuracy: 0.9664 - val_loss: 0.5028 - val_accuracy: 0.8865\n",
      "Epoch 41/50\n",
      "1500/1500 [==============================] - 6s 4ms/step - loss: 0.0914 - accuracy: 0.9654 - val_loss: 0.4984 - val_accuracy: 0.8916\n",
      "Epoch 42/50\n",
      "1500/1500 [==============================] - 6s 4ms/step - loss: 0.0839 - accuracy: 0.9682 - val_loss: 0.4962 - val_accuracy: 0.8936\n",
      "Epoch 43/50\n",
      "1500/1500 [==============================] - 6s 4ms/step - loss: 0.0902 - accuracy: 0.9656 - val_loss: 0.4776 - val_accuracy: 0.8973\n",
      "Epoch 44/50\n",
      "1500/1500 [==============================] - 6s 4ms/step - loss: 0.0806 - accuracy: 0.9695 - val_loss: 0.4762 - val_accuracy: 0.8943\n",
      "Epoch 45/50\n",
      "1500/1500 [==============================] - 6s 4ms/step - loss: 0.0825 - accuracy: 0.9697 - val_loss: 0.4870 - val_accuracy: 0.8888\n",
      "Epoch 46/50\n",
      "1500/1500 [==============================] - 6s 4ms/step - loss: 0.0795 - accuracy: 0.9703 - val_loss: 0.4990 - val_accuracy: 0.8917\n",
      "Epoch 47/50\n",
      "1500/1500 [==============================] - 6s 4ms/step - loss: 0.0794 - accuracy: 0.9695 - val_loss: 0.5080 - val_accuracy: 0.8924\n",
      "Epoch 48/50\n",
      "1500/1500 [==============================] - 5s 4ms/step - loss: 0.0775 - accuracy: 0.9704 - val_loss: 0.5627 - val_accuracy: 0.8878\n",
      "Epoch 49/50\n",
      "1500/1500 [==============================] - 6s 4ms/step - loss: 0.0749 - accuracy: 0.9717 - val_loss: 0.5321 - val_accuracy: 0.8954\n",
      "Epoch 50/50\n",
      "1500/1500 [==============================] - 6s 4ms/step - loss: 0.0739 - accuracy: 0.9720 - val_loss: 0.5187 - val_accuracy: 0.8953\n"
     ]
    }
   ],
   "source": [
    "history = model.fit(train_images, train_labels,validation_split=0.2, epochs=50)"
   ]
  },
  {
   "cell_type": "code",
   "execution_count": 31,
   "id": "f3d582ef",
   "metadata": {},
   "outputs": [
    {
     "data": {
      "text/plain": [
       "{'loss': [0.49595823884010315,\n",
       "  0.37097036838531494,\n",
       "  0.3272601366043091,\n",
       "  0.3049536645412445,\n",
       "  0.28579816222190857,\n",
       "  0.26983287930488586,\n",
       "  0.25809019804000854,\n",
       "  0.24285903573036194,\n",
       "  0.23363615572452545,\n",
       "  0.2218800187110901,\n",
       "  0.21594105660915375,\n",
       "  0.2055383026599884,\n",
       "  0.19868771731853485,\n",
       "  0.18977510929107666,\n",
       "  0.18324653804302216,\n",
       "  0.17420563101768494,\n",
       "  0.17193271219730377,\n",
       "  0.16454336047172546,\n",
       "  0.1609240174293518,\n",
       "  0.1537807583808899,\n",
       "  0.14837484061717987,\n",
       "  0.14813362061977386,\n",
       "  0.13915792107582092,\n",
       "  0.13571137189865112,\n",
       "  0.132278174161911,\n",
       "  0.1289026141166687,\n",
       "  0.12721724808216095,\n",
       "  0.12157020717859268,\n",
       "  0.11932724714279175,\n",
       "  0.11573925614356995,\n",
       "  0.11266174167394638,\n",
       "  0.10708043724298477,\n",
       "  0.10628534108400345,\n",
       "  0.10472346097230911,\n",
       "  0.1009104922413826,\n",
       "  0.0992913544178009,\n",
       "  0.09799940139055252,\n",
       "  0.09369976818561554,\n",
       "  0.09717059135437012,\n",
       "  0.09084320068359375,\n",
       "  0.09144041687250137,\n",
       "  0.08385459333658218,\n",
       "  0.09020484238862991,\n",
       "  0.08063265681266785,\n",
       "  0.08253785222768784,\n",
       "  0.07949773967266083,\n",
       "  0.07943373918533325,\n",
       "  0.07747440785169601,\n",
       "  0.07487121224403381,\n",
       "  0.07389499247074127],\n",
       " 'accuracy': [0.8245833516120911,\n",
       "  0.863895833492279,\n",
       "  0.879729151725769,\n",
       "  0.8882291913032532,\n",
       "  0.8949791789054871,\n",
       "  0.9000625014305115,\n",
       "  0.9047916531562805,\n",
       "  0.9096041917800903,\n",
       "  0.9121666550636292,\n",
       "  0.9164166450500488,\n",
       "  0.9185000061988831,\n",
       "  0.9225416779518127,\n",
       "  0.924958348274231,\n",
       "  0.9279999732971191,\n",
       "  0.9311458468437195,\n",
       "  0.9336458444595337,\n",
       "  0.9350416660308838,\n",
       "  0.9389791488647461,\n",
       "  0.9401041865348816,\n",
       "  0.9422916769981384,\n",
       "  0.9446458220481873,\n",
       "  0.9438124895095825,\n",
       "  0.9464791417121887,\n",
       "  0.9489374756813049,\n",
       "  0.9504166841506958,\n",
       "  0.9524999856948853,\n",
       "  0.9511666893959045,\n",
       "  0.9536458253860474,\n",
       "  0.9556249976158142,\n",
       "  0.956291675567627,\n",
       "  0.9580833315849304,\n",
       "  0.9600625038146973,\n",
       "  0.9589166641235352,\n",
       "  0.9611666798591614,\n",
       "  0.9623958468437195,\n",
       "  0.9628958106040955,\n",
       "  0.9628750085830688,\n",
       "  0.9652916789054871,\n",
       "  0.9643750190734863,\n",
       "  0.9663541913032532,\n",
       "  0.9654374718666077,\n",
       "  0.9681875109672546,\n",
       "  0.9655625224113464,\n",
       "  0.9695416688919067,\n",
       "  0.9697083234786987,\n",
       "  0.9703124761581421,\n",
       "  0.9695416688919067,\n",
       "  0.9703750014305115,\n",
       "  0.9717291593551636,\n",
       "  0.972041666507721],\n",
       " 'val_loss': [0.40881526470184326,\n",
       "  0.35804668068885803,\n",
       "  0.34476301074028015,\n",
       "  0.3336317837238312,\n",
       "  0.3490079343318939,\n",
       "  0.31539496779441833,\n",
       "  0.3035145103931427,\n",
       "  0.33042383193969727,\n",
       "  0.32353976368904114,\n",
       "  0.3236139714717865,\n",
       "  0.31076547503471375,\n",
       "  0.3355093002319336,\n",
       "  0.31281259655952454,\n",
       "  0.31576672196388245,\n",
       "  0.3228238523006439,\n",
       "  0.36049917340278625,\n",
       "  0.33348262310028076,\n",
       "  0.3500271737575531,\n",
       "  0.3447993993759155,\n",
       "  0.34981775283813477,\n",
       "  0.3637022376060486,\n",
       "  0.3388349413871765,\n",
       "  0.366872102022171,\n",
       "  0.3704833984375,\n",
       "  0.3711071014404297,\n",
       "  0.38593077659606934,\n",
       "  0.37705299258232117,\n",
       "  0.3867775499820709,\n",
       "  0.4102080166339874,\n",
       "  0.40668684244155884,\n",
       "  0.4035913050174713,\n",
       "  0.45367273688316345,\n",
       "  0.4546205997467041,\n",
       "  0.4183744788169861,\n",
       "  0.46170109510421753,\n",
       "  0.4209609925746918,\n",
       "  0.4454439580440521,\n",
       "  0.4639945924282074,\n",
       "  0.4637795686721802,\n",
       "  0.5028054118156433,\n",
       "  0.49838823080062866,\n",
       "  0.4961880147457123,\n",
       "  0.4775828421115875,\n",
       "  0.4761802852153778,\n",
       "  0.48702383041381836,\n",
       "  0.4989650547504425,\n",
       "  0.5079566240310669,\n",
       "  0.5626557469367981,\n",
       "  0.5321267247200012,\n",
       "  0.5186558365821838],\n",
       " 'val_accuracy': [0.8523333072662354,\n",
       "  0.871666669845581,\n",
       "  0.8710833191871643,\n",
       "  0.878333330154419,\n",
       "  0.8745833039283752,\n",
       "  0.887333333492279,\n",
       "  0.890583336353302,\n",
       "  0.8816666603088379,\n",
       "  0.8855000138282776,\n",
       "  0.8861666917800903,\n",
       "  0.8940833210945129,\n",
       "  0.8897500038146973,\n",
       "  0.8944166898727417,\n",
       "  0.893833339214325,\n",
       "  0.8971666693687439,\n",
       "  0.8878333568572998,\n",
       "  0.8930000066757202,\n",
       "  0.8867499828338623,\n",
       "  0.8945833444595337,\n",
       "  0.8974166512489319,\n",
       "  0.8912500143051147,\n",
       "  0.8987500071525574,\n",
       "  0.8931666612625122,\n",
       "  0.8940833210945129,\n",
       "  0.8925833106040955,\n",
       "  0.8954166769981384,\n",
       "  0.8967499732971191,\n",
       "  0.8958333134651184,\n",
       "  0.8917499780654907,\n",
       "  0.8934999704360962,\n",
       "  0.8946666717529297,\n",
       "  0.8852499723434448,\n",
       "  0.8888333439826965,\n",
       "  0.8979166746139526,\n",
       "  0.8890833258628845,\n",
       "  0.8955833315849304,\n",
       "  0.8972499966621399,\n",
       "  0.893666684627533,\n",
       "  0.8951666951179504,\n",
       "  0.8865000009536743,\n",
       "  0.8915833234786987,\n",
       "  0.893583357334137,\n",
       "  0.8973333239555359,\n",
       "  0.8943333625793457,\n",
       "  0.8888333439826965,\n",
       "  0.8917499780654907,\n",
       "  0.8924166560173035,\n",
       "  0.8877500295639038,\n",
       "  0.8954166769981384,\n",
       "  0.8953333497047424]}"
      ]
     },
     "execution_count": 31,
     "metadata": {},
     "output_type": "execute_result"
    }
   ],
   "source": [
    "history.history"
   ]
  },
  {
   "cell_type": "code",
   "execution_count": 32,
   "id": "9d5bd2d9",
   "metadata": {},
   "outputs": [
    {
     "data": {
      "text/plain": [
       "[0.8523333072662354,\n",
       " 0.871666669845581,\n",
       " 0.8710833191871643,\n",
       " 0.878333330154419,\n",
       " 0.8745833039283752,\n",
       " 0.887333333492279,\n",
       " 0.890583336353302,\n",
       " 0.8816666603088379,\n",
       " 0.8855000138282776,\n",
       " 0.8861666917800903,\n",
       " 0.8940833210945129,\n",
       " 0.8897500038146973,\n",
       " 0.8944166898727417,\n",
       " 0.893833339214325,\n",
       " 0.8971666693687439,\n",
       " 0.8878333568572998,\n",
       " 0.8930000066757202,\n",
       " 0.8867499828338623,\n",
       " 0.8945833444595337,\n",
       " 0.8974166512489319,\n",
       " 0.8912500143051147,\n",
       " 0.8987500071525574,\n",
       " 0.8931666612625122,\n",
       " 0.8940833210945129,\n",
       " 0.8925833106040955,\n",
       " 0.8954166769981384,\n",
       " 0.8967499732971191,\n",
       " 0.8958333134651184,\n",
       " 0.8917499780654907,\n",
       " 0.8934999704360962,\n",
       " 0.8946666717529297,\n",
       " 0.8852499723434448,\n",
       " 0.8888333439826965,\n",
       " 0.8979166746139526,\n",
       " 0.8890833258628845,\n",
       " 0.8955833315849304,\n",
       " 0.8972499966621399,\n",
       " 0.893666684627533,\n",
       " 0.8951666951179504,\n",
       " 0.8865000009536743,\n",
       " 0.8915833234786987,\n",
       " 0.893583357334137,\n",
       " 0.8973333239555359,\n",
       " 0.8943333625793457,\n",
       " 0.8888333439826965,\n",
       " 0.8917499780654907,\n",
       " 0.8924166560173035,\n",
       " 0.8877500295639038,\n",
       " 0.8954166769981384,\n",
       " 0.8953333497047424]"
      ]
     },
     "execution_count": 32,
     "metadata": {},
     "output_type": "execute_result"
    }
   ],
   "source": [
    "history.history['val_accuracy']"
   ]
  },
  {
   "cell_type": "code",
   "execution_count": 33,
   "id": "e34ebf0f",
   "metadata": {},
   "outputs": [],
   "source": [
    "epochs = 50\n",
    "acc = history.history['accuracy']\n",
    "val_acc = history.history['val_accuracy']\n",
    "\n",
    "loss = history.history['loss']\n",
    "val_loss = history.history['val_loss']\n",
    "\n",
    "epochs_range = range(epochs)"
   ]
  },
  {
   "cell_type": "code",
   "execution_count": 34,
   "id": "565d3fb2",
   "metadata": {},
   "outputs": [
    {
     "data": {
      "text/plain": [
       "[0.8245833516120911,\n",
       " 0.863895833492279,\n",
       " 0.879729151725769,\n",
       " 0.8882291913032532,\n",
       " 0.8949791789054871,\n",
       " 0.9000625014305115,\n",
       " 0.9047916531562805,\n",
       " 0.9096041917800903,\n",
       " 0.9121666550636292,\n",
       " 0.9164166450500488,\n",
       " 0.9185000061988831,\n",
       " 0.9225416779518127,\n",
       " 0.924958348274231,\n",
       " 0.9279999732971191,\n",
       " 0.9311458468437195,\n",
       " 0.9336458444595337,\n",
       " 0.9350416660308838,\n",
       " 0.9389791488647461,\n",
       " 0.9401041865348816,\n",
       " 0.9422916769981384,\n",
       " 0.9446458220481873,\n",
       " 0.9438124895095825,\n",
       " 0.9464791417121887,\n",
       " 0.9489374756813049,\n",
       " 0.9504166841506958,\n",
       " 0.9524999856948853,\n",
       " 0.9511666893959045,\n",
       " 0.9536458253860474,\n",
       " 0.9556249976158142,\n",
       " 0.956291675567627,\n",
       " 0.9580833315849304,\n",
       " 0.9600625038146973,\n",
       " 0.9589166641235352,\n",
       " 0.9611666798591614,\n",
       " 0.9623958468437195,\n",
       " 0.9628958106040955,\n",
       " 0.9628750085830688,\n",
       " 0.9652916789054871,\n",
       " 0.9643750190734863,\n",
       " 0.9663541913032532,\n",
       " 0.9654374718666077,\n",
       " 0.9681875109672546,\n",
       " 0.9655625224113464,\n",
       " 0.9695416688919067,\n",
       " 0.9697083234786987,\n",
       " 0.9703124761581421,\n",
       " 0.9695416688919067,\n",
       " 0.9703750014305115,\n",
       " 0.9717291593551636,\n",
       " 0.972041666507721]"
      ]
     },
     "execution_count": 34,
     "metadata": {},
     "output_type": "execute_result"
    }
   ],
   "source": [
    "acc"
   ]
  },
  {
   "cell_type": "code",
   "execution_count": 35,
   "id": "7f595639",
   "metadata": {},
   "outputs": [
    {
     "data": {
      "text/plain": [
       "[0.8523333072662354,\n",
       " 0.871666669845581,\n",
       " 0.8710833191871643,\n",
       " 0.878333330154419,\n",
       " 0.8745833039283752,\n",
       " 0.887333333492279,\n",
       " 0.890583336353302,\n",
       " 0.8816666603088379,\n",
       " 0.8855000138282776,\n",
       " 0.8861666917800903,\n",
       " 0.8940833210945129,\n",
       " 0.8897500038146973,\n",
       " 0.8944166898727417,\n",
       " 0.893833339214325,\n",
       " 0.8971666693687439,\n",
       " 0.8878333568572998,\n",
       " 0.8930000066757202,\n",
       " 0.8867499828338623,\n",
       " 0.8945833444595337,\n",
       " 0.8974166512489319,\n",
       " 0.8912500143051147,\n",
       " 0.8987500071525574,\n",
       " 0.8931666612625122,\n",
       " 0.8940833210945129,\n",
       " 0.8925833106040955,\n",
       " 0.8954166769981384,\n",
       " 0.8967499732971191,\n",
       " 0.8958333134651184,\n",
       " 0.8917499780654907,\n",
       " 0.8934999704360962,\n",
       " 0.8946666717529297,\n",
       " 0.8852499723434448,\n",
       " 0.8888333439826965,\n",
       " 0.8979166746139526,\n",
       " 0.8890833258628845,\n",
       " 0.8955833315849304,\n",
       " 0.8972499966621399,\n",
       " 0.893666684627533,\n",
       " 0.8951666951179504,\n",
       " 0.8865000009536743,\n",
       " 0.8915833234786987,\n",
       " 0.893583357334137,\n",
       " 0.8973333239555359,\n",
       " 0.8943333625793457,\n",
       " 0.8888333439826965,\n",
       " 0.8917499780654907,\n",
       " 0.8924166560173035,\n",
       " 0.8877500295639038,\n",
       " 0.8954166769981384,\n",
       " 0.8953333497047424]"
      ]
     },
     "execution_count": 35,
     "metadata": {},
     "output_type": "execute_result"
    }
   ],
   "source": [
    "val_acc"
   ]
  },
  {
   "cell_type": "code",
   "execution_count": 36,
   "id": "5c0964fd",
   "metadata": {},
   "outputs": [
    {
     "data": {
      "text/plain": [
       "[0.40881526470184326,\n",
       " 0.35804668068885803,\n",
       " 0.34476301074028015,\n",
       " 0.3336317837238312,\n",
       " 0.3490079343318939,\n",
       " 0.31539496779441833,\n",
       " 0.3035145103931427,\n",
       " 0.33042383193969727,\n",
       " 0.32353976368904114,\n",
       " 0.3236139714717865,\n",
       " 0.31076547503471375,\n",
       " 0.3355093002319336,\n",
       " 0.31281259655952454,\n",
       " 0.31576672196388245,\n",
       " 0.3228238523006439,\n",
       " 0.36049917340278625,\n",
       " 0.33348262310028076,\n",
       " 0.3500271737575531,\n",
       " 0.3447993993759155,\n",
       " 0.34981775283813477,\n",
       " 0.3637022376060486,\n",
       " 0.3388349413871765,\n",
       " 0.366872102022171,\n",
       " 0.3704833984375,\n",
       " 0.3711071014404297,\n",
       " 0.38593077659606934,\n",
       " 0.37705299258232117,\n",
       " 0.3867775499820709,\n",
       " 0.4102080166339874,\n",
       " 0.40668684244155884,\n",
       " 0.4035913050174713,\n",
       " 0.45367273688316345,\n",
       " 0.4546205997467041,\n",
       " 0.4183744788169861,\n",
       " 0.46170109510421753,\n",
       " 0.4209609925746918,\n",
       " 0.4454439580440521,\n",
       " 0.4639945924282074,\n",
       " 0.4637795686721802,\n",
       " 0.5028054118156433,\n",
       " 0.49838823080062866,\n",
       " 0.4961880147457123,\n",
       " 0.4775828421115875,\n",
       " 0.4761802852153778,\n",
       " 0.48702383041381836,\n",
       " 0.4989650547504425,\n",
       " 0.5079566240310669,\n",
       " 0.5626557469367981,\n",
       " 0.5321267247200012,\n",
       " 0.5186558365821838]"
      ]
     },
     "execution_count": 36,
     "metadata": {},
     "output_type": "execute_result"
    }
   ],
   "source": [
    "val_loss"
   ]
  },
  {
   "cell_type": "code",
   "execution_count": 37,
   "id": "a007ff40",
   "metadata": {},
   "outputs": [
    {
     "data": {
      "text/plain": [
       "[0.49595823884010315,\n",
       " 0.37097036838531494,\n",
       " 0.3272601366043091,\n",
       " 0.3049536645412445,\n",
       " 0.28579816222190857,\n",
       " 0.26983287930488586,\n",
       " 0.25809019804000854,\n",
       " 0.24285903573036194,\n",
       " 0.23363615572452545,\n",
       " 0.2218800187110901,\n",
       " 0.21594105660915375,\n",
       " 0.2055383026599884,\n",
       " 0.19868771731853485,\n",
       " 0.18977510929107666,\n",
       " 0.18324653804302216,\n",
       " 0.17420563101768494,\n",
       " 0.17193271219730377,\n",
       " 0.16454336047172546,\n",
       " 0.1609240174293518,\n",
       " 0.1537807583808899,\n",
       " 0.14837484061717987,\n",
       " 0.14813362061977386,\n",
       " 0.13915792107582092,\n",
       " 0.13571137189865112,\n",
       " 0.132278174161911,\n",
       " 0.1289026141166687,\n",
       " 0.12721724808216095,\n",
       " 0.12157020717859268,\n",
       " 0.11932724714279175,\n",
       " 0.11573925614356995,\n",
       " 0.11266174167394638,\n",
       " 0.10708043724298477,\n",
       " 0.10628534108400345,\n",
       " 0.10472346097230911,\n",
       " 0.1009104922413826,\n",
       " 0.0992913544178009,\n",
       " 0.09799940139055252,\n",
       " 0.09369976818561554,\n",
       " 0.09717059135437012,\n",
       " 0.09084320068359375,\n",
       " 0.09144041687250137,\n",
       " 0.08385459333658218,\n",
       " 0.09020484238862991,\n",
       " 0.08063265681266785,\n",
       " 0.08253785222768784,\n",
       " 0.07949773967266083,\n",
       " 0.07943373918533325,\n",
       " 0.07747440785169601,\n",
       " 0.07487121224403381,\n",
       " 0.07389499247074127]"
      ]
     },
     "execution_count": 37,
     "metadata": {},
     "output_type": "execute_result"
    }
   ],
   "source": [
    "loss"
   ]
  },
  {
   "cell_type": "code",
   "execution_count": 38,
   "id": "879aac52",
   "metadata": {},
   "outputs": [
    {
     "data": {
      "image/png": "[encoded data removed]",
      "text/plain": [
       "<Figure size 576x288 with 2 Axes>"
      ]
     },
     "metadata": {
      "needs_background": "light"
     },
     "output_type": "display_data"
    }
   ],
   "source": [
    "plt.figure(figsize=(8, 4))\n",
    "plt.subplot(1, 2, 1)\n",
    "plt.plot(epochs_range, acc, label='Training Accuracy')\n",
    "plt.plot(epochs_range, val_acc, label='Validation Accuracy')\n",
    "plt.legend(loc=0)\n",
    "plt.title('Training and Validation Accuracy')\n",
    "\n",
    "plt.subplot(1, 2, 2)\n",
    "plt.plot(epochs_range, loss, label='Training Loss')\n",
    "plt.plot(epochs_range, val_loss, label='Validation Loss')\n",
    "plt.legend(loc=0)\n",
    "plt.title('Training and Validation Loss')\n",
    "plt.show()"
   ]
  },
  {
   "cell_type": "code",
   "execution_count": null,
   "id": "8dacdfc0",
   "metadata": {},
   "outputs": [],
   "source": []
  }
 ],
 "metadata": {
  "kernelspec": {
   "display_name": "Python 3",
   "language": "python",
   "name": "python3"
  },
  "language_info": {
   "codemirror_mode": {
    "name": "ipython",
    "version": 3
   },
   "file_extension": ".py",
   "mimetype": "text/x-python",
   "name": "python",
   "nbconvert_exporter": "python",
   "pygments_lexer": "ipython3",
   "version": "3.6.13"
  }
 },
 "nbformat": 4,
 "nbformat_minor": 5
}
