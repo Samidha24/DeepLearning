{
 "cells": [
  {
   "cell_type": "code",
   "execution_count": 1,
   "id": "45f0abce",
   "metadata": {},
   "outputs": [],
   "source": [
    "# only for cuda enabled laptop and desktop"
   ]
  },
  {
   "cell_type": "code",
   "execution_count": 2,
   "id": "06e8ae76",
   "metadata": {},
   "outputs": [
    {
     "name": "stdout",
     "output_type": "stream",
     "text": [
      "[]\n"
     ]
    }
   ],
   "source": [
    "import tensorflow as tf\n",
    "physical_devices = tf.config.experimental.list_physical_devices('GPU')\n",
    "print(physical_devices)\n",
    "if physical_devices:\n",
    "  tf.config.experimental.set_memory_growth(physical_devices[0], True)"
   ]
  },
  {
   "cell_type": "code",
   "execution_count": 3,
   "id": "11dd9d7b",
   "metadata": {},
   "outputs": [],
   "source": [
    "# TensorFlow and tf.keras"
   ]
  },
  {
   "cell_type": "code",
   "execution_count": 4,
   "id": "844cf03a",
   "metadata": {},
   "outputs": [],
   "source": [
    "import tensorflow as tf\n",
    "from tensorflow import keras"
   ]
  },
  {
   "cell_type": "code",
   "execution_count": 5,
   "id": "f7519d1b",
   "metadata": {},
   "outputs": [],
   "source": [
    "# Helper libraries"
   ]
  },
  {
   "cell_type": "code",
   "execution_count": 6,
   "id": "a5628108",
   "metadata": {},
   "outputs": [],
   "source": [
    "import numpy as np\n",
    "import matplotlib.pyplot as plt"
   ]
  },
  {
   "cell_type": "code",
   "execution_count": 7,
   "id": "ddf79c57",
   "metadata": {},
   "outputs": [
    {
     "name": "stdout",
     "output_type": "stream",
     "text": [
      "2.6.2\n",
      "1.19.5\n"
     ]
    }
   ],
   "source": [
    "print(tf.__version__)\n",
    "print(np.__version__)"
   ]
  },
  {
   "cell_type": "code",
   "execution_count": 8,
   "id": "8ed252c6",
   "metadata": {},
   "outputs": [],
   "source": [
    "fashion_mnist = keras.datasets.fashion_mnist"
   ]
  },
  {
   "cell_type": "code",
   "execution_count": 9,
   "id": "bcb5e22c",
   "metadata": {},
   "outputs": [],
   "source": [
    "(train_images, train_labels), (test_images, test_labels) = fashion_mnist.load_data()"
   ]
  },
  {
   "cell_type": "code",
   "execution_count": 10,
   "id": "ad109eed",
   "metadata": {},
   "outputs": [
    {
     "data": {
      "text/plain": [
       "(60000, 28, 28)"
      ]
     },
     "execution_count": 10,
     "metadata": {},
     "output_type": "execute_result"
    }
   ],
   "source": [
    "train_images.shape"
   ]
  },
  {
   "cell_type": "code",
   "execution_count": 11,
   "id": "7763ef97",
   "metadata": {},
   "outputs": [
    {
     "data": {
      "text/plain": [
       "(10000, 28, 28)"
      ]
     },
     "execution_count": 11,
     "metadata": {},
     "output_type": "execute_result"
    }
   ],
   "source": [
    "test_images.shape"
   ]
  },
  {
   "cell_type": "code",
   "execution_count": 12,
   "id": "7f7747a2",
   "metadata": {},
   "outputs": [
    {
     "data": {
      "text/plain": [
       "array([9, 0, 0, ..., 3, 0, 5], dtype=uint8)"
      ]
     },
     "execution_count": 12,
     "metadata": {},
     "output_type": "execute_result"
    }
   ],
   "source": [
    "train_labels"
   ]
  },
  {
   "cell_type": "code",
   "execution_count": 13,
   "id": "244b8885",
   "metadata": {},
   "outputs": [
    {
     "data": {
      "text/plain": [
       "array([[  0,   0,   0,   0,   0,   0,   0,   0,   0,   0,   0,   0,   0,\n",
       "          0,   0,   0,   0,   0,   0,   0,   0,   0,   0,   0,   0,   0,\n",
       "          0,   0],\n",
       "       [  0,   0,   0,   0,   0,   0,   0,   0,   0,   0,   0,   0,   0,\n",
       "          0,   0,   0,   0,   0,   0,   0,   0,   0,   0,   0,   0,   0,\n",
       "          0,   0],\n",
       "       [  0,   0,   0,   0,   0,   0,   0,   0,   0,   0,   0,   0,   0,\n",
       "          0,   0,   0,   0,   0,   0,   0,   0,   0,   0,   0,   0,   0,\n",
       "          0,   0],\n",
       "       [  0,   0,   0,   0,   0,   0,   0,   0,   0,   0,   0,   0,   1,\n",
       "          0,   0,  13,  73,   0,   0,   1,   4,   0,   0,   0,   0,   1,\n",
       "          1,   0],\n",
       "       [  0,   0,   0,   0,   0,   0,   0,   0,   0,   0,   0,   0,   3,\n",
       "          0,  36, 136, 127,  62,  54,   0,   0,   0,   1,   3,   4,   0,\n",
       "          0,   3],\n",
       "       [  0,   0,   0,   0,   0,   0,   0,   0,   0,   0,   0,   0,   6,\n",
       "          0, 102, 204, 176, 134, 144, 123,  23,   0,   0,   0,   0,  12,\n",
       "         10,   0],\n",
       "       [  0,   0,   0,   0,   0,   0,   0,   0,   0,   0,   0,   0,   0,\n",
       "          0, 155, 236, 207, 178, 107, 156, 161, 109,  64,  23,  77, 130,\n",
       "         72,  15],\n",
       "       [  0,   0,   0,   0,   0,   0,   0,   0,   0,   0,   0,   1,   0,\n",
       "         69, 207, 223, 218, 216, 216, 163, 127, 121, 122, 146, 141,  88,\n",
       "        172,  66],\n",
       "       [  0,   0,   0,   0,   0,   0,   0,   0,   0,   1,   1,   1,   0,\n",
       "        200, 232, 232, 233, 229, 223, 223, 215, 213, 164, 127, 123, 196,\n",
       "        229,   0],\n",
       "       [  0,   0,   0,   0,   0,   0,   0,   0,   0,   0,   0,   0,   0,\n",
       "        183, 225, 216, 223, 228, 235, 227, 224, 222, 224, 221, 223, 245,\n",
       "        173,   0],\n",
       "       [  0,   0,   0,   0,   0,   0,   0,   0,   0,   0,   0,   0,   0,\n",
       "        193, 228, 218, 213, 198, 180, 212, 210, 211, 213, 223, 220, 243,\n",
       "        202,   0],\n",
       "       [  0,   0,   0,   0,   0,   0,   0,   0,   0,   1,   3,   0,  12,\n",
       "        219, 220, 212, 218, 192, 169, 227, 208, 218, 224, 212, 226, 197,\n",
       "        209,  52],\n",
       "       [  0,   0,   0,   0,   0,   0,   0,   0,   0,   0,   6,   0,  99,\n",
       "        244, 222, 220, 218, 203, 198, 221, 215, 213, 222, 220, 245, 119,\n",
       "        167,  56],\n",
       "       [  0,   0,   0,   0,   0,   0,   0,   0,   0,   4,   0,   0,  55,\n",
       "        236, 228, 230, 228, 240, 232, 213, 218, 223, 234, 217, 217, 209,\n",
       "         92,   0],\n",
       "       [  0,   0,   1,   4,   6,   7,   2,   0,   0,   0,   0,   0, 237,\n",
       "        226, 217, 223, 222, 219, 222, 221, 216, 223, 229, 215, 218, 255,\n",
       "         77,   0],\n",
       "       [  0,   3,   0,   0,   0,   0,   0,   0,   0,  62, 145, 204, 228,\n",
       "        207, 213, 221, 218, 208, 211, 218, 224, 223, 219, 215, 224, 244,\n",
       "        159,   0],\n",
       "       [  0,   0,   0,   0,  18,  44,  82, 107, 189, 228, 220, 222, 217,\n",
       "        226, 200, 205, 211, 230, 224, 234, 176, 188, 250, 248, 233, 238,\n",
       "        215,   0],\n",
       "       [  0,  57, 187, 208, 224, 221, 224, 208, 204, 214, 208, 209, 200,\n",
       "        159, 245, 193, 206, 223, 255, 255, 221, 234, 221, 211, 220, 232,\n",
       "        246,   0],\n",
       "       [  3, 202, 228, 224, 221, 211, 211, 214, 205, 205, 205, 220, 240,\n",
       "         80, 150, 255, 229, 221, 188, 154, 191, 210, 204, 209, 222, 228,\n",
       "        225,   0],\n",
       "       [ 98, 233, 198, 210, 222, 229, 229, 234, 249, 220, 194, 215, 217,\n",
       "        241,  65,  73, 106, 117, 168, 219, 221, 215, 217, 223, 223, 224,\n",
       "        229,  29],\n",
       "       [ 75, 204, 212, 204, 193, 205, 211, 225, 216, 185, 197, 206, 198,\n",
       "        213, 240, 195, 227, 245, 239, 223, 218, 212, 209, 222, 220, 221,\n",
       "        230,  67],\n",
       "       [ 48, 203, 183, 194, 213, 197, 185, 190, 194, 192, 202, 214, 219,\n",
       "        221, 220, 236, 225, 216, 199, 206, 186, 181, 177, 172, 181, 205,\n",
       "        206, 115],\n",
       "       [  0, 122, 219, 193, 179, 171, 183, 196, 204, 210, 213, 207, 211,\n",
       "        210, 200, 196, 194, 191, 195, 191, 198, 192, 176, 156, 167, 177,\n",
       "        210,  92],\n",
       "       [  0,   0,  74, 189, 212, 191, 175, 172, 175, 181, 185, 188, 189,\n",
       "        188, 193, 198, 204, 209, 210, 210, 211, 188, 188, 194, 192, 216,\n",
       "        170,   0],\n",
       "       [  2,   0,   0,   0,  66, 200, 222, 237, 239, 242, 246, 243, 244,\n",
       "        221, 220, 193, 191, 179, 182, 182, 181, 176, 166, 168,  99,  58,\n",
       "          0,   0],\n",
       "       [  0,   0,   0,   0,   0,   0,   0,  40,  61,  44,  72,  41,  35,\n",
       "          0,   0,   0,   0,   0,   0,   0,   0,   0,   0,   0,   0,   0,\n",
       "          0,   0],\n",
       "       [  0,   0,   0,   0,   0,   0,   0,   0,   0,   0,   0,   0,   0,\n",
       "          0,   0,   0,   0,   0,   0,   0,   0,   0,   0,   0,   0,   0,\n",
       "          0,   0],\n",
       "       [  0,   0,   0,   0,   0,   0,   0,   0,   0,   0,   0,   0,   0,\n",
       "          0,   0,   0,   0,   0,   0,   0,   0,   0,   0,   0,   0,   0,\n",
       "          0,   0]], dtype=uint8)"
      ]
     },
     "execution_count": 13,
     "metadata": {},
     "output_type": "execute_result"
    }
   ],
   "source": [
    "train_images[0]"
   ]
  },
  {
   "cell_type": "code",
   "execution_count": 14,
   "id": "7e32d9c5",
   "metadata": {},
   "outputs": [
    {
     "data": {
      "text/plain": [
       "9"
      ]
     },
     "execution_count": 14,
     "metadata": {},
     "output_type": "execute_result"
    }
   ],
   "source": [
    "train_labels[0]"
   ]
  },
  {
   "cell_type": "code",
   "execution_count": 15,
   "id": "9f011b4d",
   "metadata": {},
   "outputs": [
    {
     "data": {
      "image/png": "[encoded data removed]",
      "text/plain": [
       "<Figure size 432x288 with 1 Axes>"
      ]
     },
     "metadata": {},
     "output_type": "display_data"
    }
   ],
   "source": [
    "plt.imshow(train_images[0],cmap='gray_r')\n",
    "plt.title(train_labels[0])\n",
    "plt.xticks([])\n",
    "plt.yticks([])\n",
    "plt.show()"
   ]
  },
  {
   "cell_type": "code",
   "execution_count": 16,
   "id": "4dce9dc3",
   "metadata": {},
   "outputs": [
    {
     "data": {
      "image/png": "[encoded data removed]",
      "text/plain": [
       "<Figure size 432x288 with 1 Axes>"
      ]
     },
     "metadata": {},
     "output_type": "display_data"
    }
   ],
   "source": [
    "plt.imshow(train_images[100],cmap='gray_r')\n",
    "plt.title(train_labels[100])\n",
    "plt.xticks([])\n",
    "plt.yticks([])\n",
    "plt.show()"
   ]
  },
  {
   "cell_type": "code",
   "execution_count": 17,
   "id": "64f0f1db",
   "metadata": {},
   "outputs": [],
   "source": [
    "class_names = ['T-shirt/top', 'Trouser', 'Pullover', 'Dress', 'Coat',\n",
    "               'Sandal', 'Shirt', 'Sneaker', 'Bag', 'Ankle boot']"
   ]
  },
  {
   "cell_type": "code",
   "execution_count": 18,
   "id": "21e8bbd7",
   "metadata": {},
   "outputs": [
    {
     "data": {
      "text/plain": [
       "['T-shirt/top',\n",
       " 'Trouser',\n",
       " 'Pullover',\n",
       " 'Dress',\n",
       " 'Coat',\n",
       " 'Sandal',\n",
       " 'Shirt',\n",
       " 'Sneaker',\n",
       " 'Bag',\n",
       " 'Ankle boot']"
      ]
     },
     "execution_count": 18,
     "metadata": {},
     "output_type": "execute_result"
    }
   ],
   "source": [
    "class_names"
   ]
  },
  {
   "cell_type": "code",
   "execution_count": 19,
   "id": "5430f7db",
   "metadata": {},
   "outputs": [
    {
     "data": {
      "text/plain": [
       "'T-shirt/top'"
      ]
     },
     "execution_count": 19,
     "metadata": {},
     "output_type": "execute_result"
    }
   ],
   "source": [
    "class_names[0]"
   ]
  },
  {
   "cell_type": "code",
   "execution_count": 20,
   "id": "f646a268",
   "metadata": {},
   "outputs": [
    {
     "data": {
      "text/plain": [
       "9"
      ]
     },
     "execution_count": 20,
     "metadata": {},
     "output_type": "execute_result"
    }
   ],
   "source": [
    "test_labels[0]"
   ]
  },
  {
   "cell_type": "code",
   "execution_count": 21,
   "id": "a9bdd5ee",
   "metadata": {},
   "outputs": [
    {
     "data": {
      "text/plain": [
       "'Ankle boot'"
      ]
     },
     "execution_count": 21,
     "metadata": {},
     "output_type": "execute_result"
    }
   ],
   "source": [
    "class_names[test_labels[0]]"
   ]
  },
  {
   "cell_type": "code",
   "execution_count": 22,
   "id": "148ac9ad",
   "metadata": {},
   "outputs": [
    {
     "data": {
      "image/png": "[encoded data removed]",
      "text/plain": [
       "<Figure size 432x288 with 1 Axes>"
      ]
     },
     "metadata": {},
     "output_type": "display_data"
    }
   ],
   "source": [
    "plt.imshow(train_images[2],cmap='gray_r')\n",
    "plt.title(class_names[train_labels[2]])\n",
    "plt.xticks([])\n",
    "plt.yticks([])\n",
    "plt.show()"
   ]
  },
  {
   "cell_type": "code",
   "execution_count": 23,
   "id": "730e5679",
   "metadata": {},
   "outputs": [
    {
     "data": {
      "image/png": "[encoded data removed]",
      "text/plain": [
       "<Figure size 720x720 with 25 Axes>"
      ]
     },
     "metadata": {},
     "output_type": "display_data"
    }
   ],
   "source": [
    "plt.figure(figsize=(10,10))\n",
    "for i in range(25):\n",
    "    plt.subplot(5,5,i+1)\n",
    "    plt.xticks([])\n",
    "    plt.yticks([])\n",
    "    plt.grid(False)\n",
    "    plt.imshow(train_images[i], cmap=plt.cm.binary)\n",
    "    plt.xlabel(class_names[train_labels[i]])\n",
    "plt.tight_layout()\n",
    "plt.show()"
   ]
  },
  {
   "cell_type": "code",
   "execution_count": 24,
   "id": "2e1345fe",
   "metadata": {},
   "outputs": [],
   "source": [
    "train_images = train_images / 255.0"
   ]
  },
  {
   "cell_type": "code",
   "execution_count": 25,
   "id": "40fecd7a",
   "metadata": {},
   "outputs": [],
   "source": [
    "test_images = test_images / 255.0"
   ]
  },
  {
   "cell_type": "code",
   "execution_count": 26,
   "id": "dc601ac7",
   "metadata": {},
   "outputs": [
    {
     "data": {
      "text/plain": [
       "array([[0.        , 0.        , 0.        , 0.        , 0.        ,\n",
       "        0.        , 0.        , 0.        , 0.        , 0.        ,\n",
       "        0.        , 0.        , 0.        , 0.        , 0.        ,\n",
       "        0.        , 0.        , 0.        , 0.        , 0.        ,\n",
       "        0.        , 0.        , 0.        , 0.        , 0.        ,\n",
       "        0.        , 0.        , 0.        ],\n",
       "       [0.        , 0.        , 0.        , 0.        , 0.        ,\n",
       "        0.        , 0.        , 0.        , 0.        , 0.        ,\n",
       "        0.        , 0.        , 0.        , 0.        , 0.        ,\n",
       "        0.        , 0.        , 0.        , 0.        , 0.        ,\n",
       "        0.        , 0.        , 0.        , 0.        , 0.        ,\n",
       "        0.        , 0.        , 0.        ],\n",
       "       [0.        , 0.        , 0.        , 0.        , 0.        ,\n",
       "        0.        , 0.        , 0.        , 0.        , 0.        ,\n",
       "        0.        , 0.        , 0.        , 0.        , 0.        ,\n",
       "        0.        , 0.        , 0.        , 0.        , 0.        ,\n",
       "        0.        , 0.        , 0.        , 0.        , 0.        ,\n",
       "        0.        , 0.        , 0.        ],\n",
       "       [0.        , 0.        , 0.        , 0.        , 0.        ,\n",
       "        0.        , 0.        , 0.        , 0.        , 0.        ,\n",
       "        0.        , 0.        , 0.00392157, 0.        , 0.        ,\n",
       "        0.05098039, 0.28627451, 0.        , 0.        , 0.00392157,\n",
       "        0.01568627, 0.        , 0.        , 0.        , 0.        ,\n",
       "        0.00392157, 0.00392157, 0.        ],\n",
       "       [0.        , 0.        , 0.        , 0.        , 0.        ,\n",
       "        0.        , 0.        , 0.        , 0.        , 0.        ,\n",
       "        0.        , 0.        , 0.01176471, 0.        , 0.14117647,\n",
       "        0.53333333, 0.49803922, 0.24313725, 0.21176471, 0.        ,\n",
       "        0.        , 0.        , 0.00392157, 0.01176471, 0.01568627,\n",
       "        0.        , 0.        , 0.01176471],\n",
       "       [0.        , 0.        , 0.        , 0.        , 0.        ,\n",
       "        0.        , 0.        , 0.        , 0.        , 0.        ,\n",
       "        0.        , 0.        , 0.02352941, 0.        , 0.4       ,\n",
       "        0.8       , 0.69019608, 0.5254902 , 0.56470588, 0.48235294,\n",
       "        0.09019608, 0.        , 0.        , 0.        , 0.        ,\n",
       "        0.04705882, 0.03921569, 0.        ],\n",
       "       [0.        , 0.        , 0.        , 0.        , 0.        ,\n",
       "        0.        , 0.        , 0.        , 0.        , 0.        ,\n",
       "        0.        , 0.        , 0.        , 0.        , 0.60784314,\n",
       "        0.9254902 , 0.81176471, 0.69803922, 0.41960784, 0.61176471,\n",
       "        0.63137255, 0.42745098, 0.25098039, 0.09019608, 0.30196078,\n",
       "        0.50980392, 0.28235294, 0.05882353],\n",
       "       [0.        , 0.        , 0.        , 0.        , 0.        ,\n",
       "        0.        , 0.        , 0.        , 0.        , 0.        ,\n",
       "        0.        , 0.00392157, 0.        , 0.27058824, 0.81176471,\n",
       "        0.8745098 , 0.85490196, 0.84705882, 0.84705882, 0.63921569,\n",
       "        0.49803922, 0.4745098 , 0.47843137, 0.57254902, 0.55294118,\n",
       "        0.34509804, 0.6745098 , 0.25882353],\n",
       "       [0.        , 0.        , 0.        , 0.        , 0.        ,\n",
       "        0.        , 0.        , 0.        , 0.        , 0.00392157,\n",
       "        0.00392157, 0.00392157, 0.        , 0.78431373, 0.90980392,\n",
       "        0.90980392, 0.91372549, 0.89803922, 0.8745098 , 0.8745098 ,\n",
       "        0.84313725, 0.83529412, 0.64313725, 0.49803922, 0.48235294,\n",
       "        0.76862745, 0.89803922, 0.        ],\n",
       "       [0.        , 0.        , 0.        , 0.        , 0.        ,\n",
       "        0.        , 0.        , 0.        , 0.        , 0.        ,\n",
       "        0.        , 0.        , 0.        , 0.71764706, 0.88235294,\n",
       "        0.84705882, 0.8745098 , 0.89411765, 0.92156863, 0.89019608,\n",
       "        0.87843137, 0.87058824, 0.87843137, 0.86666667, 0.8745098 ,\n",
       "        0.96078431, 0.67843137, 0.        ],\n",
       "       [0.        , 0.        , 0.        , 0.        , 0.        ,\n",
       "        0.        , 0.        , 0.        , 0.        , 0.        ,\n",
       "        0.        , 0.        , 0.        , 0.75686275, 0.89411765,\n",
       "        0.85490196, 0.83529412, 0.77647059, 0.70588235, 0.83137255,\n",
       "        0.82352941, 0.82745098, 0.83529412, 0.8745098 , 0.8627451 ,\n",
       "        0.95294118, 0.79215686, 0.        ],\n",
       "       [0.        , 0.        , 0.        , 0.        , 0.        ,\n",
       "        0.        , 0.        , 0.        , 0.        , 0.00392157,\n",
       "        0.01176471, 0.        , 0.04705882, 0.85882353, 0.8627451 ,\n",
       "        0.83137255, 0.85490196, 0.75294118, 0.6627451 , 0.89019608,\n",
       "        0.81568627, 0.85490196, 0.87843137, 0.83137255, 0.88627451,\n",
       "        0.77254902, 0.81960784, 0.20392157],\n",
       "       [0.        , 0.        , 0.        , 0.        , 0.        ,\n",
       "        0.        , 0.        , 0.        , 0.        , 0.        ,\n",
       "        0.02352941, 0.        , 0.38823529, 0.95686275, 0.87058824,\n",
       "        0.8627451 , 0.85490196, 0.79607843, 0.77647059, 0.86666667,\n",
       "        0.84313725, 0.83529412, 0.87058824, 0.8627451 , 0.96078431,\n",
       "        0.46666667, 0.65490196, 0.21960784],\n",
       "       [0.        , 0.        , 0.        , 0.        , 0.        ,\n",
       "        0.        , 0.        , 0.        , 0.        , 0.01568627,\n",
       "        0.        , 0.        , 0.21568627, 0.9254902 , 0.89411765,\n",
       "        0.90196078, 0.89411765, 0.94117647, 0.90980392, 0.83529412,\n",
       "        0.85490196, 0.8745098 , 0.91764706, 0.85098039, 0.85098039,\n",
       "        0.81960784, 0.36078431, 0.        ],\n",
       "       [0.        , 0.        , 0.00392157, 0.01568627, 0.02352941,\n",
       "        0.02745098, 0.00784314, 0.        , 0.        , 0.        ,\n",
       "        0.        , 0.        , 0.92941176, 0.88627451, 0.85098039,\n",
       "        0.8745098 , 0.87058824, 0.85882353, 0.87058824, 0.86666667,\n",
       "        0.84705882, 0.8745098 , 0.89803922, 0.84313725, 0.85490196,\n",
       "        1.        , 0.30196078, 0.        ],\n",
       "       [0.        , 0.01176471, 0.        , 0.        , 0.        ,\n",
       "        0.        , 0.        , 0.        , 0.        , 0.24313725,\n",
       "        0.56862745, 0.8       , 0.89411765, 0.81176471, 0.83529412,\n",
       "        0.86666667, 0.85490196, 0.81568627, 0.82745098, 0.85490196,\n",
       "        0.87843137, 0.8745098 , 0.85882353, 0.84313725, 0.87843137,\n",
       "        0.95686275, 0.62352941, 0.        ],\n",
       "       [0.        , 0.        , 0.        , 0.        , 0.07058824,\n",
       "        0.17254902, 0.32156863, 0.41960784, 0.74117647, 0.89411765,\n",
       "        0.8627451 , 0.87058824, 0.85098039, 0.88627451, 0.78431373,\n",
       "        0.80392157, 0.82745098, 0.90196078, 0.87843137, 0.91764706,\n",
       "        0.69019608, 0.7372549 , 0.98039216, 0.97254902, 0.91372549,\n",
       "        0.93333333, 0.84313725, 0.        ],\n",
       "       [0.        , 0.22352941, 0.73333333, 0.81568627, 0.87843137,\n",
       "        0.86666667, 0.87843137, 0.81568627, 0.8       , 0.83921569,\n",
       "        0.81568627, 0.81960784, 0.78431373, 0.62352941, 0.96078431,\n",
       "        0.75686275, 0.80784314, 0.8745098 , 1.        , 1.        ,\n",
       "        0.86666667, 0.91764706, 0.86666667, 0.82745098, 0.8627451 ,\n",
       "        0.90980392, 0.96470588, 0.        ],\n",
       "       [0.01176471, 0.79215686, 0.89411765, 0.87843137, 0.86666667,\n",
       "        0.82745098, 0.82745098, 0.83921569, 0.80392157, 0.80392157,\n",
       "        0.80392157, 0.8627451 , 0.94117647, 0.31372549, 0.58823529,\n",
       "        1.        , 0.89803922, 0.86666667, 0.7372549 , 0.60392157,\n",
       "        0.74901961, 0.82352941, 0.8       , 0.81960784, 0.87058824,\n",
       "        0.89411765, 0.88235294, 0.        ],\n",
       "       [0.38431373, 0.91372549, 0.77647059, 0.82352941, 0.87058824,\n",
       "        0.89803922, 0.89803922, 0.91764706, 0.97647059, 0.8627451 ,\n",
       "        0.76078431, 0.84313725, 0.85098039, 0.94509804, 0.25490196,\n",
       "        0.28627451, 0.41568627, 0.45882353, 0.65882353, 0.85882353,\n",
       "        0.86666667, 0.84313725, 0.85098039, 0.8745098 , 0.8745098 ,\n",
       "        0.87843137, 0.89803922, 0.11372549],\n",
       "       [0.29411765, 0.8       , 0.83137255, 0.8       , 0.75686275,\n",
       "        0.80392157, 0.82745098, 0.88235294, 0.84705882, 0.7254902 ,\n",
       "        0.77254902, 0.80784314, 0.77647059, 0.83529412, 0.94117647,\n",
       "        0.76470588, 0.89019608, 0.96078431, 0.9372549 , 0.8745098 ,\n",
       "        0.85490196, 0.83137255, 0.81960784, 0.87058824, 0.8627451 ,\n",
       "        0.86666667, 0.90196078, 0.2627451 ],\n",
       "       [0.18823529, 0.79607843, 0.71764706, 0.76078431, 0.83529412,\n",
       "        0.77254902, 0.7254902 , 0.74509804, 0.76078431, 0.75294118,\n",
       "        0.79215686, 0.83921569, 0.85882353, 0.86666667, 0.8627451 ,\n",
       "        0.9254902 , 0.88235294, 0.84705882, 0.78039216, 0.80784314,\n",
       "        0.72941176, 0.70980392, 0.69411765, 0.6745098 , 0.70980392,\n",
       "        0.80392157, 0.80784314, 0.45098039],\n",
       "       [0.        , 0.47843137, 0.85882353, 0.75686275, 0.70196078,\n",
       "        0.67058824, 0.71764706, 0.76862745, 0.8       , 0.82352941,\n",
       "        0.83529412, 0.81176471, 0.82745098, 0.82352941, 0.78431373,\n",
       "        0.76862745, 0.76078431, 0.74901961, 0.76470588, 0.74901961,\n",
       "        0.77647059, 0.75294118, 0.69019608, 0.61176471, 0.65490196,\n",
       "        0.69411765, 0.82352941, 0.36078431],\n",
       "       [0.        , 0.        , 0.29019608, 0.74117647, 0.83137255,\n",
       "        0.74901961, 0.68627451, 0.6745098 , 0.68627451, 0.70980392,\n",
       "        0.7254902 , 0.7372549 , 0.74117647, 0.7372549 , 0.75686275,\n",
       "        0.77647059, 0.8       , 0.81960784, 0.82352941, 0.82352941,\n",
       "        0.82745098, 0.7372549 , 0.7372549 , 0.76078431, 0.75294118,\n",
       "        0.84705882, 0.66666667, 0.        ],\n",
       "       [0.00784314, 0.        , 0.        , 0.        , 0.25882353,\n",
       "        0.78431373, 0.87058824, 0.92941176, 0.9372549 , 0.94901961,\n",
       "        0.96470588, 0.95294118, 0.95686275, 0.86666667, 0.8627451 ,\n",
       "        0.75686275, 0.74901961, 0.70196078, 0.71372549, 0.71372549,\n",
       "        0.70980392, 0.69019608, 0.65098039, 0.65882353, 0.38823529,\n",
       "        0.22745098, 0.        , 0.        ],\n",
       "       [0.        , 0.        , 0.        , 0.        , 0.        ,\n",
       "        0.        , 0.        , 0.15686275, 0.23921569, 0.17254902,\n",
       "        0.28235294, 0.16078431, 0.1372549 , 0.        , 0.        ,\n",
       "        0.        , 0.        , 0.        , 0.        , 0.        ,\n",
       "        0.        , 0.        , 0.        , 0.        , 0.        ,\n",
       "        0.        , 0.        , 0.        ],\n",
       "       [0.        , 0.        , 0.        , 0.        , 0.        ,\n",
       "        0.        , 0.        , 0.        , 0.        , 0.        ,\n",
       "        0.        , 0.        , 0.        , 0.        , 0.        ,\n",
       "        0.        , 0.        , 0.        , 0.        , 0.        ,\n",
       "        0.        , 0.        , 0.        , 0.        , 0.        ,\n",
       "        0.        , 0.        , 0.        ],\n",
       "       [0.        , 0.        , 0.        , 0.        , 0.        ,\n",
       "        0.        , 0.        , 0.        , 0.        , 0.        ,\n",
       "        0.        , 0.        , 0.        , 0.        , 0.        ,\n",
       "        0.        , 0.        , 0.        , 0.        , 0.        ,\n",
       "        0.        , 0.        , 0.        , 0.        , 0.        ,\n",
       "        0.        , 0.        , 0.        ]])"
      ]
     },
     "execution_count": 26,
     "metadata": {},
     "output_type": "execute_result"
    }
   ],
   "source": [
    "train_images[0]"
   ]
  },
  {
   "cell_type": "code",
   "execution_count": 27,
   "id": "81654619",
   "metadata": {},
   "outputs": [],
   "source": [
    "model = keras.Sequential([\n",
    "    keras.layers.Flatten(input_shape=(28, 28)),\n",
    "    keras.layers.Dense(512, activation='relu'),\n",
    "    keras.layers.Dense(10,'softmax')\n",
    "])"
   ]
  },
  {
   "cell_type": "code",
   "execution_count": 28,
   "id": "9dcc16ae",
   "metadata": {},
   "outputs": [
    {
     "name": "stdout",
     "output_type": "stream",
     "text": [
      "Model: \"sequential\"\n",
      "_________________________________________________________________\n",
      "Layer (type)                 Output Shape              Param #   \n",
      "=================================================================\n",
      "flatten (Flatten)            (None, 784)               0         \n",
      "_________________________________________________________________\n",
      "dense (Dense)                (None, 512)               401920    \n",
      "_________________________________________________________________\n",
      "dense_1 (Dense)              (None, 10)                5130      \n",
      "=================================================================\n",
      "Total params: 407,050\n",
      "Trainable params: 407,050\n",
      "Non-trainable params: 0\n",
      "_________________________________________________________________\n"
     ]
    }
   ],
   "source": [
    "model.summary()"
   ]
  },
  {
   "cell_type": "code",
   "execution_count": 29,
   "id": "80b5d130",
   "metadata": {},
   "outputs": [],
   "source": [
    "model.compile(optimizer='adam',loss='sparse_categorical_crossentropy',metrics=['accuracy'])"
   ]
  },
  {
   "cell_type": "code",
   "execution_count": 30,
   "id": "d7c75c0a",
   "metadata": {},
   "outputs": [
    {
     "name": "stdout",
     "output_type": "stream",
     "text": [
      "Epoch 1/50\n",
      "1500/1500 [==============================] - 5s 3ms/step - loss: 0.4903 - accuracy: 0.8238 - val_loss: 0.3989 - val_accuracy: 0.8579\n",
      "Epoch 2/50\n",
      "1500/1500 [==============================] - 5s 3ms/step - loss: 0.3677 - accuracy: 0.8660 - val_loss: 0.3568 - val_accuracy: 0.8708\n",
      "Epoch 3/50\n",
      "1500/1500 [==============================] - 4s 3ms/step - loss: 0.3301 - accuracy: 0.8790 - val_loss: 0.3405 - val_accuracy: 0.8780\n",
      "Epoch 4/50\n",
      "1500/1500 [==============================] - 4s 3ms/step - loss: 0.3032 - accuracy: 0.8874 - val_loss: 0.3427 - val_accuracy: 0.8754\n",
      "Epoch 5/50\n",
      "1500/1500 [==============================] - 6s 4ms/step - loss: 0.2860 - accuracy: 0.8942 - val_loss: 0.3430 - val_accuracy: 0.8738\n",
      "Epoch 6/50\n",
      "1500/1500 [==============================] - 5s 4ms/step - loss: 0.2694 - accuracy: 0.9005 - val_loss: 0.3200 - val_accuracy: 0.8867\n",
      "Epoch 7/50\n",
      "1500/1500 [==============================] - 5s 3ms/step - loss: 0.2574 - accuracy: 0.9044 - val_loss: 0.3312 - val_accuracy: 0.8828\n",
      "Epoch 8/50\n",
      "1500/1500 [==============================] - 5s 4ms/step - loss: 0.2444 - accuracy: 0.9058 - val_loss: 0.3146 - val_accuracy: 0.8897\n",
      "Epoch 9/50\n",
      "1500/1500 [==============================] - 5s 4ms/step - loss: 0.2344 - accuracy: 0.9121 - val_loss: 0.3141 - val_accuracy: 0.8923\n",
      "Epoch 10/50\n",
      "1500/1500 [==============================] - 5s 3ms/step - loss: 0.2239 - accuracy: 0.9156 - val_loss: 0.3268 - val_accuracy: 0.8869\n",
      "Epoch 11/50\n",
      "1500/1500 [==============================] - 5s 3ms/step - loss: 0.2143 - accuracy: 0.9206 - val_loss: 0.3494 - val_accuracy: 0.8852\n",
      "Epoch 12/50\n",
      "1500/1500 [==============================] - 5s 3ms/step - loss: 0.2067 - accuracy: 0.9226 - val_loss: 0.3097 - val_accuracy: 0.8935\n",
      "Epoch 13/50\n",
      "1500/1500 [==============================] - 4s 3ms/step - loss: 0.1995 - accuracy: 0.9262 - val_loss: 0.3283 - val_accuracy: 0.8920\n",
      "Epoch 14/50\n",
      "1500/1500 [==============================] - 5s 3ms/step - loss: 0.1899 - accuracy: 0.9297 - val_loss: 0.3371 - val_accuracy: 0.8863\n",
      "Epoch 15/50\n",
      "1500/1500 [==============================] - 5s 4ms/step - loss: 0.1857 - accuracy: 0.9296 - val_loss: 0.3251 - val_accuracy: 0.8938\n",
      "Epoch 16/50\n",
      "1500/1500 [==============================] - 5s 3ms/step - loss: 0.1775 - accuracy: 0.9332 - val_loss: 0.3320 - val_accuracy: 0.8915\n",
      "Epoch 17/50\n",
      "1500/1500 [==============================] - 5s 3ms/step - loss: 0.1711 - accuracy: 0.9350 - val_loss: 0.3480 - val_accuracy: 0.8911\n",
      "Epoch 18/50\n",
      "1500/1500 [==============================] - 5s 4ms/step - loss: 0.1669 - accuracy: 0.9366 - val_loss: 0.3492 - val_accuracy: 0.8894\n",
      "Epoch 19/50\n",
      "1500/1500 [==============================] - 5s 3ms/step - loss: 0.1592 - accuracy: 0.9408 - val_loss: 0.3394 - val_accuracy: 0.8938\n",
      "Epoch 20/50\n",
      "1500/1500 [==============================] - 5s 3ms/step - loss: 0.1541 - accuracy: 0.9421 - val_loss: 0.3761 - val_accuracy: 0.8877\n",
      "Epoch 21/50\n",
      "1500/1500 [==============================] - 5s 3ms/step - loss: 0.1508 - accuracy: 0.9427 - val_loss: 0.3943 - val_accuracy: 0.8892\n",
      "Epoch 22/50\n",
      "1500/1500 [==============================] - 5s 3ms/step - loss: 0.1473 - accuracy: 0.9439 - val_loss: 0.3821 - val_accuracy: 0.8906\n",
      "Epoch 23/50\n",
      "1500/1500 [==============================] - 5s 3ms/step - loss: 0.1408 - accuracy: 0.9472 - val_loss: 0.3710 - val_accuracy: 0.8953\n",
      "Epoch 24/50\n",
      "1500/1500 [==============================] - 5s 3ms/step - loss: 0.1364 - accuracy: 0.9489 - val_loss: 0.3760 - val_accuracy: 0.8955\n",
      "Epoch 25/50\n",
      "1500/1500 [==============================] - 5s 4ms/step - loss: 0.1335 - accuracy: 0.9493 - val_loss: 0.4163 - val_accuracy: 0.8874\n",
      "Epoch 26/50\n",
      "1500/1500 [==============================] - 5s 3ms/step - loss: 0.1307 - accuracy: 0.9510 - val_loss: 0.3608 - val_accuracy: 0.8947\n",
      "Epoch 27/50\n",
      "1500/1500 [==============================] - 5s 3ms/step - loss: 0.1260 - accuracy: 0.9527 - val_loss: 0.4205 - val_accuracy: 0.8905\n",
      "Epoch 28/50\n",
      "1500/1500 [==============================] - 5s 4ms/step - loss: 0.1244 - accuracy: 0.9539 - val_loss: 0.4109 - val_accuracy: 0.8955\n",
      "Epoch 29/50\n",
      "1500/1500 [==============================] - 5s 3ms/step - loss: 0.1201 - accuracy: 0.9551 - val_loss: 0.3984 - val_accuracy: 0.8972\n",
      "Epoch 30/50\n",
      "1500/1500 [==============================] - 5s 3ms/step - loss: 0.1152 - accuracy: 0.9569 - val_loss: 0.4526 - val_accuracy: 0.8847\n",
      "Epoch 31/50\n",
      "1500/1500 [==============================] - 5s 4ms/step - loss: 0.1131 - accuracy: 0.9567 - val_loss: 0.4256 - val_accuracy: 0.8947\n",
      "Epoch 32/50\n",
      "1500/1500 [==============================] - 5s 3ms/step - loss: 0.1095 - accuracy: 0.9586 - val_loss: 0.4041 - val_accuracy: 0.8982\n",
      "Epoch 33/50\n",
      "1500/1500 [==============================] - 5s 3ms/step - loss: 0.1078 - accuracy: 0.9599 - val_loss: 0.4111 - val_accuracy: 0.8957\n",
      "Epoch 34/50\n",
      "1500/1500 [==============================] - 5s 3ms/step - loss: 0.1053 - accuracy: 0.9601 - val_loss: 0.4267 - val_accuracy: 0.8932\n",
      "Epoch 35/50\n",
      "1500/1500 [==============================] - 5s 4ms/step - loss: 0.1016 - accuracy: 0.9614 - val_loss: 0.4060 - val_accuracy: 0.8969\n",
      "Epoch 36/50\n",
      "1500/1500 [==============================] - 5s 3ms/step - loss: 0.0993 - accuracy: 0.9621 - val_loss: 0.4728 - val_accuracy: 0.8863\n",
      "Epoch 37/50\n",
      "1500/1500 [==============================] - 5s 4ms/step - loss: 0.1012 - accuracy: 0.9623 - val_loss: 0.4732 - val_accuracy: 0.8883\n",
      "Epoch 38/50\n",
      "1500/1500 [==============================] - 5s 4ms/step - loss: 0.0931 - accuracy: 0.9655 - val_loss: 0.4555 - val_accuracy: 0.8942\n",
      "Epoch 39/50\n",
      "1500/1500 [==============================] - 5s 3ms/step - loss: 0.0919 - accuracy: 0.9650 - val_loss: 0.4843 - val_accuracy: 0.8912\n",
      "Epoch 40/50\n",
      "1500/1500 [==============================] - 6s 4ms/step - loss: 0.0932 - accuracy: 0.9653 - val_loss: 0.5155 - val_accuracy: 0.8872\n",
      "Epoch 41/50\n",
      "1500/1500 [==============================] - 6s 4ms/step - loss: 0.0884 - accuracy: 0.9667 - val_loss: 0.4879 - val_accuracy: 0.8912\n",
      "Epoch 42/50\n",
      "1500/1500 [==============================] - 5s 4ms/step - loss: 0.0868 - accuracy: 0.9677 - val_loss: 0.4674 - val_accuracy: 0.8982\n",
      "Epoch 43/50\n",
      "1500/1500 [==============================] - 6s 4ms/step - loss: 0.0865 - accuracy: 0.9675 - val_loss: 0.4479 - val_accuracy: 0.8938\n",
      "Epoch 44/50\n",
      "1500/1500 [==============================] - 5s 3ms/step - loss: 0.0810 - accuracy: 0.9692 - val_loss: 0.4984 - val_accuracy: 0.8855\n",
      "Epoch 45/50\n",
      "1500/1500 [==============================] - 5s 3ms/step - loss: 0.0879 - accuracy: 0.9672 - val_loss: 0.5419 - val_accuracy: 0.8913\n",
      "Epoch 46/50\n",
      "1500/1500 [==============================] - 6s 4ms/step - loss: 0.0783 - accuracy: 0.9710 - val_loss: 0.4783 - val_accuracy: 0.8985\n",
      "Epoch 47/50\n",
      "1500/1500 [==============================] - 5s 3ms/step - loss: 0.0766 - accuracy: 0.9708 - val_loss: 0.5481 - val_accuracy: 0.8912\n",
      "Epoch 48/50\n",
      "1500/1500 [==============================] - 5s 3ms/step - loss: 0.0773 - accuracy: 0.9710 - val_loss: 0.5204 - val_accuracy: 0.8915\n",
      "Epoch 49/50\n",
      "1500/1500 [==============================] - 6s 4ms/step - loss: 0.0753 - accuracy: 0.9712 - val_loss: 0.5114 - val_accuracy: 0.8934\n",
      "Epoch 50/50\n",
      "1500/1500 [==============================] - 6s 4ms/step - loss: 0.0725 - accuracy: 0.9728 - val_loss: 0.5550 - val_accuracy: 0.8910\n"
     ]
    }
   ],
   "source": [
    "history = model.fit(train_images, train_labels,validation_split=0.2, epochs=50)"
   ]
  },
  {
   "cell_type": "code",
   "execution_count": 31,
   "id": "f3d582ef",
   "metadata": {},
   "outputs": [
    {
     "data": {
      "text/plain": [
       "{'loss': [0.49029844999313354,\n",
       "  0.3677425682544708,\n",
       "  0.3300666809082031,\n",
       "  0.3031657338142395,\n",
       "  0.2859671711921692,\n",
       "  0.2693937122821808,\n",
       "  0.25742170214653015,\n",
       "  0.2444440722465515,\n",
       "  0.2344147115945816,\n",
       "  0.2239285111427307,\n",
       "  0.21433955430984497,\n",
       "  0.20668596029281616,\n",
       "  0.1994834542274475,\n",
       "  0.18992847204208374,\n",
       "  0.1856784224510193,\n",
       "  0.17748472094535828,\n",
       "  0.17106610536575317,\n",
       "  0.16693145036697388,\n",
       "  0.1592044085264206,\n",
       "  0.15407682955265045,\n",
       "  0.15084734559059143,\n",
       "  0.14730839431285858,\n",
       "  0.1407671570777893,\n",
       "  0.13644427061080933,\n",
       "  0.1334553062915802,\n",
       "  0.1306653469800949,\n",
       "  0.12603887915611267,\n",
       "  0.12443297356367111,\n",
       "  0.12007183581590652,\n",
       "  0.11520889401435852,\n",
       "  0.11311700195074081,\n",
       "  0.10948406159877777,\n",
       "  0.10781314224004745,\n",
       "  0.1053139716386795,\n",
       "  0.10159645229578018,\n",
       "  0.0992843359708786,\n",
       "  0.10118331015110016,\n",
       "  0.09313101321458817,\n",
       "  0.09190646559000015,\n",
       "  0.09320449829101562,\n",
       "  0.08842766284942627,\n",
       "  0.08681462705135345,\n",
       "  0.08647329360246658,\n",
       "  0.08104054629802704,\n",
       "  0.08792676776647568,\n",
       "  0.0782824456691742,\n",
       "  0.0766003429889679,\n",
       "  0.07732842862606049,\n",
       "  0.07532552629709244,\n",
       "  0.07252327352762222],\n",
       " 'accuracy': [0.8237500190734863,\n",
       "  0.8659583330154419,\n",
       "  0.8790208101272583,\n",
       "  0.8873958587646484,\n",
       "  0.8942291736602783,\n",
       "  0.9004999995231628,\n",
       "  0.9043958187103271,\n",
       "  0.9057708382606506,\n",
       "  0.9120625257492065,\n",
       "  0.9156041741371155,\n",
       "  0.9206458330154419,\n",
       "  0.9226041436195374,\n",
       "  0.9261875152587891,\n",
       "  0.9297083616256714,\n",
       "  0.929604172706604,\n",
       "  0.9331874847412109,\n",
       "  0.9350416660308838,\n",
       "  0.9366250038146973,\n",
       "  0.9407708048820496,\n",
       "  0.942062497138977,\n",
       "  0.9426666498184204,\n",
       "  0.9438750147819519,\n",
       "  0.9472291469573975,\n",
       "  0.9489374756813049,\n",
       "  0.9492708444595337,\n",
       "  0.9510208368301392,\n",
       "  0.9527291655540466,\n",
       "  0.9538958072662354,\n",
       "  0.9550625085830688,\n",
       "  0.9569166898727417,\n",
       "  0.9566666483879089,\n",
       "  0.9586041569709778,\n",
       "  0.9598749876022339,\n",
       "  0.9601041674613953,\n",
       "  0.9614166617393494,\n",
       "  0.9621250033378601,\n",
       "  0.9622916579246521,\n",
       "  0.9654791951179504,\n",
       "  0.9650208353996277,\n",
       "  0.9653333425521851,\n",
       "  0.9667083621025085,\n",
       "  0.9677083492279053,\n",
       "  0.9674999713897705,\n",
       "  0.9691874980926514,\n",
       "  0.9672291874885559,\n",
       "  0.9709791541099548,\n",
       "  0.9708124995231628,\n",
       "  0.9709583520889282,\n",
       "  0.9712291955947876,\n",
       "  0.9727500081062317],\n",
       " 'val_loss': [0.39889079332351685,\n",
       "  0.35684239864349365,\n",
       "  0.34053245186805725,\n",
       "  0.3426623046398163,\n",
       "  0.3430025577545166,\n",
       "  0.3200274109840393,\n",
       "  0.33122119307518005,\n",
       "  0.3146451711654663,\n",
       "  0.3141431212425232,\n",
       "  0.3267621695995331,\n",
       "  0.34942367672920227,\n",
       "  0.3096587359905243,\n",
       "  0.3283497393131256,\n",
       "  0.33713293075561523,\n",
       "  0.325051486492157,\n",
       "  0.3320142924785614,\n",
       "  0.3480415940284729,\n",
       "  0.3492014706134796,\n",
       "  0.339386910200119,\n",
       "  0.37611857056617737,\n",
       "  0.3942514657974243,\n",
       "  0.3820769190788269,\n",
       "  0.3709757626056671,\n",
       "  0.3760470747947693,\n",
       "  0.41626712679862976,\n",
       "  0.3608217239379883,\n",
       "  0.42052286863327026,\n",
       "  0.4109242260456085,\n",
       "  0.3983616232872009,\n",
       "  0.45257821679115295,\n",
       "  0.42558902502059937,\n",
       "  0.4041326940059662,\n",
       "  0.4110991954803467,\n",
       "  0.4266507029533386,\n",
       "  0.4060135781764984,\n",
       "  0.4727703332901001,\n",
       "  0.4732142388820648,\n",
       "  0.4554688334465027,\n",
       "  0.4842629134654999,\n",
       "  0.5155125856399536,\n",
       "  0.4879268407821655,\n",
       "  0.4673539102077484,\n",
       "  0.44789811968803406,\n",
       "  0.49842342734336853,\n",
       "  0.5419256687164307,\n",
       "  0.47825244069099426,\n",
       "  0.5480782389640808,\n",
       "  0.5204490423202515,\n",
       "  0.5114346742630005,\n",
       "  0.554967999458313],\n",
       " 'val_accuracy': [0.8579166531562805,\n",
       "  0.8707500100135803,\n",
       "  0.878000020980835,\n",
       "  0.8754166960716248,\n",
       "  0.8738333582878113,\n",
       "  0.8866666555404663,\n",
       "  0.8828333616256714,\n",
       "  0.8896666765213013,\n",
       "  0.8922500014305115,\n",
       "  0.8869166374206543,\n",
       "  0.8852499723434448,\n",
       "  0.8934999704360962,\n",
       "  0.8920000195503235,\n",
       "  0.8863333463668823,\n",
       "  0.893833339214325,\n",
       "  0.8914999961853027,\n",
       "  0.8910833597183228,\n",
       "  0.8894166946411133,\n",
       "  0.893750011920929,\n",
       "  0.887666642665863,\n",
       "  0.8892499804496765,\n",
       "  0.890583336353302,\n",
       "  0.8952500224113464,\n",
       "  0.8955000042915344,\n",
       "  0.887416660785675,\n",
       "  0.8946666717529297,\n",
       "  0.890500009059906,\n",
       "  0.8955000042915344,\n",
       "  0.8972499966621399,\n",
       "  0.8846666812896729,\n",
       "  0.8946666717529297,\n",
       "  0.8982499837875366,\n",
       "  0.8957499861717224,\n",
       "  0.8931666612625122,\n",
       "  0.8969166874885559,\n",
       "  0.8863333463668823,\n",
       "  0.8883333206176758,\n",
       "  0.8942499756813049,\n",
       "  0.8911666870117188,\n",
       "  0.8871666789054871,\n",
       "  0.8911666870117188,\n",
       "  0.8982499837875366,\n",
       "  0.893833339214325,\n",
       "  0.8855000138282776,\n",
       "  0.8912500143051147,\n",
       "  0.8985000252723694,\n",
       "  0.8911666870117188,\n",
       "  0.8914999961853027,\n",
       "  0.8934166431427002,\n",
       "  0.890999972820282]}"
      ]
     },
     "execution_count": 31,
     "metadata": {},
     "output_type": "execute_result"
    }
   ],
   "source": [
    "history.history"
   ]
  },
  {
   "cell_type": "code",
   "execution_count": 32,
   "id": "9d5bd2d9",
   "metadata": {},
   "outputs": [
    {
     "data": {
      "text/plain": [
       "[0.8579166531562805,\n",
       " 0.8707500100135803,\n",
       " 0.878000020980835,\n",
       " 0.8754166960716248,\n",
       " 0.8738333582878113,\n",
       " 0.8866666555404663,\n",
       " 0.8828333616256714,\n",
       " 0.8896666765213013,\n",
       " 0.8922500014305115,\n",
       " 0.8869166374206543,\n",
       " 0.8852499723434448,\n",
       " 0.8934999704360962,\n",
       " 0.8920000195503235,\n",
       " 0.8863333463668823,\n",
       " 0.893833339214325,\n",
       " 0.8914999961853027,\n",
       " 0.8910833597183228,\n",
       " 0.8894166946411133,\n",
       " 0.893750011920929,\n",
       " 0.887666642665863,\n",
       " 0.8892499804496765,\n",
       " 0.890583336353302,\n",
       " 0.8952500224113464,\n",
       " 0.8955000042915344,\n",
       " 0.887416660785675,\n",
       " 0.8946666717529297,\n",
       " 0.890500009059906,\n",
       " 0.8955000042915344,\n",
       " 0.8972499966621399,\n",
       " 0.8846666812896729,\n",
       " 0.8946666717529297,\n",
       " 0.8982499837875366,\n",
       " 0.8957499861717224,\n",
       " 0.8931666612625122,\n",
       " 0.8969166874885559,\n",
       " 0.8863333463668823,\n",
       " 0.8883333206176758,\n",
       " 0.8942499756813049,\n",
       " 0.8911666870117188,\n",
       " 0.8871666789054871,\n",
       " 0.8911666870117188,\n",
       " 0.8982499837875366,\n",
       " 0.893833339214325,\n",
       " 0.8855000138282776,\n",
       " 0.8912500143051147,\n",
       " 0.8985000252723694,\n",
       " 0.8911666870117188,\n",
       " 0.8914999961853027,\n",
       " 0.8934166431427002,\n",
       " 0.890999972820282]"
      ]
     },
     "execution_count": 32,
     "metadata": {},
     "output_type": "execute_result"
    }
   ],
   "source": [
    "history.history['val_accuracy']"
   ]
  },
  {
   "cell_type": "code",
   "execution_count": 33,
   "id": "e34ebf0f",
   "metadata": {},
   "outputs": [],
   "source": [
    "epochs = 50\n",
    "acc = history.history['accuracy']\n",
    "val_acc = history.history['val_accuracy']\n",
    "\n",
    "loss = history.history['loss']\n",
    "val_loss = history.history['val_loss']\n",
    "\n",
    "epochs_range = range(epochs)"
   ]
  },
  {
   "cell_type": "code",
   "execution_count": 34,
   "id": "565d3fb2",
   "metadata": {},
   "outputs": [
    {
     "data": {
      "text/plain": [
       "[0.8237500190734863,\n",
       " 0.8659583330154419,\n",
       " 0.8790208101272583,\n",
       " 0.8873958587646484,\n",
       " 0.8942291736602783,\n",
       " 0.9004999995231628,\n",
       " 0.9043958187103271,\n",
       " 0.9057708382606506,\n",
       " 0.9120625257492065,\n",
       " 0.9156041741371155,\n",
       " 0.9206458330154419,\n",
       " 0.9226041436195374,\n",
       " 0.9261875152587891,\n",
       " 0.9297083616256714,\n",
       " 0.929604172706604,\n",
       " 0.9331874847412109,\n",
       " 0.9350416660308838,\n",
       " 0.9366250038146973,\n",
       " 0.9407708048820496,\n",
       " 0.942062497138977,\n",
       " 0.9426666498184204,\n",
       " 0.9438750147819519,\n",
       " 0.9472291469573975,\n",
       " 0.9489374756813049,\n",
       " 0.9492708444595337,\n",
       " 0.9510208368301392,\n",
       " 0.9527291655540466,\n",
       " 0.9538958072662354,\n",
       " 0.9550625085830688,\n",
       " 0.9569166898727417,\n",
       " 0.9566666483879089,\n",
       " 0.9586041569709778,\n",
       " 0.9598749876022339,\n",
       " 0.9601041674613953,\n",
       " 0.9614166617393494,\n",
       " 0.9621250033378601,\n",
       " 0.9622916579246521,\n",
       " 0.9654791951179504,\n",
       " 0.9650208353996277,\n",
       " 0.9653333425521851,\n",
       " 0.9667083621025085,\n",
       " 0.9677083492279053,\n",
       " 0.9674999713897705,\n",
       " 0.9691874980926514,\n",
       " 0.9672291874885559,\n",
       " 0.9709791541099548,\n",
       " 0.9708124995231628,\n",
       " 0.9709583520889282,\n",
       " 0.9712291955947876,\n",
       " 0.9727500081062317]"
      ]
     },
     "execution_count": 34,
     "metadata": {},
     "output_type": "execute_result"
    }
   ],
   "source": [
    "acc"
   ]
  },
  {
   "cell_type": "code",
   "execution_count": 35,
   "id": "7f595639",
   "metadata": {},
   "outputs": [
    {
     "data": {
      "text/plain": [
       "[0.8579166531562805,\n",
       " 0.8707500100135803,\n",
       " 0.878000020980835,\n",
       " 0.8754166960716248,\n",
       " 0.8738333582878113,\n",
       " 0.8866666555404663,\n",
       " 0.8828333616256714,\n",
       " 0.8896666765213013,\n",
       " 0.8922500014305115,\n",
       " 0.8869166374206543,\n",
       " 0.8852499723434448,\n",
       " 0.8934999704360962,\n",
       " 0.8920000195503235,\n",
       " 0.8863333463668823,\n",
       " 0.893833339214325,\n",
       " 0.8914999961853027,\n",
       " 0.8910833597183228,\n",
       " 0.8894166946411133,\n",
       " 0.893750011920929,\n",
       " 0.887666642665863,\n",
       " 0.8892499804496765,\n",
       " 0.890583336353302,\n",
       " 0.8952500224113464,\n",
       " 0.8955000042915344,\n",
       " 0.887416660785675,\n",
       " 0.8946666717529297,\n",
       " 0.890500009059906,\n",
       " 0.8955000042915344,\n",
       " 0.8972499966621399,\n",
       " 0.8846666812896729,\n",
       " 0.8946666717529297,\n",
       " 0.8982499837875366,\n",
       " 0.8957499861717224,\n",
       " 0.8931666612625122,\n",
       " 0.8969166874885559,\n",
       " 0.8863333463668823,\n",
       " 0.8883333206176758,\n",
       " 0.8942499756813049,\n",
       " 0.8911666870117188,\n",
       " 0.8871666789054871,\n",
       " 0.8911666870117188,\n",
       " 0.8982499837875366,\n",
       " 0.893833339214325,\n",
       " 0.8855000138282776,\n",
       " 0.8912500143051147,\n",
       " 0.8985000252723694,\n",
       " 0.8911666870117188,\n",
       " 0.8914999961853027,\n",
       " 0.8934166431427002,\n",
       " 0.890999972820282]"
      ]
     },
     "execution_count": 35,
     "metadata": {},
     "output_type": "execute_result"
    }
   ],
   "source": [
    "val_acc"
   ]
  },
  {
   "cell_type": "code",
   "execution_count": 36,
   "id": "5c0964fd",
   "metadata": {},
   "outputs": [
    {
     "data": {
      "text/plain": [
       "[0.39889079332351685,\n",
       " 0.35684239864349365,\n",
       " 0.34053245186805725,\n",
       " 0.3426623046398163,\n",
       " 0.3430025577545166,\n",
       " 0.3200274109840393,\n",
       " 0.33122119307518005,\n",
       " 0.3146451711654663,\n",
       " 0.3141431212425232,\n",
       " 0.3267621695995331,\n",
       " 0.34942367672920227,\n",
       " 0.3096587359905243,\n",
       " 0.3283497393131256,\n",
       " 0.33713293075561523,\n",
       " 0.325051486492157,\n",
       " 0.3320142924785614,\n",
       " 0.3480415940284729,\n",
       " 0.3492014706134796,\n",
       " 0.339386910200119,\n",
       " 0.37611857056617737,\n",
       " 0.3942514657974243,\n",
       " 0.3820769190788269,\n",
       " 0.3709757626056671,\n",
       " 0.3760470747947693,\n",
       " 0.41626712679862976,\n",
       " 0.3608217239379883,\n",
       " 0.42052286863327026,\n",
       " 0.4109242260456085,\n",
       " 0.3983616232872009,\n",
       " 0.45257821679115295,\n",
       " 0.42558902502059937,\n",
       " 0.4041326940059662,\n",
       " 0.4110991954803467,\n",
       " 0.4266507029533386,\n",
       " 0.4060135781764984,\n",
       " 0.4727703332901001,\n",
       " 0.4732142388820648,\n",
       " 0.4554688334465027,\n",
       " 0.4842629134654999,\n",
       " 0.5155125856399536,\n",
       " 0.4879268407821655,\n",
       " 0.4673539102077484,\n",
       " 0.44789811968803406,\n",
       " 0.49842342734336853,\n",
       " 0.5419256687164307,\n",
       " 0.47825244069099426,\n",
       " 0.5480782389640808,\n",
       " 0.5204490423202515,\n",
       " 0.5114346742630005,\n",
       " 0.554967999458313]"
      ]
     },
     "execution_count": 36,
     "metadata": {},
     "output_type": "execute_result"
    }
   ],
   "source": [
    "val_loss"
   ]
  },
  {
   "cell_type": "code",
   "execution_count": 37,
   "id": "a007ff40",
   "metadata": {},
   "outputs": [
    {
     "data": {
      "text/plain": [
       "[0.49029844999313354,\n",
       " 0.3677425682544708,\n",
       " 0.3300666809082031,\n",
       " 0.3031657338142395,\n",
       " 0.2859671711921692,\n",
       " 0.2693937122821808,\n",
       " 0.25742170214653015,\n",
       " 0.2444440722465515,\n",
       " 0.2344147115945816,\n",
       " 0.2239285111427307,\n",
       " 0.21433955430984497,\n",
       " 0.20668596029281616,\n",
       " 0.1994834542274475,\n",
       " 0.18992847204208374,\n",
       " 0.1856784224510193,\n",
       " 0.17748472094535828,\n",
       " 0.17106610536575317,\n",
       " 0.16693145036697388,\n",
       " 0.1592044085264206,\n",
       " 0.15407682955265045,\n",
       " 0.15084734559059143,\n",
       " 0.14730839431285858,\n",
       " 0.1407671570777893,\n",
       " 0.13644427061080933,\n",
       " 0.1334553062915802,\n",
       " 0.1306653469800949,\n",
       " 0.12603887915611267,\n",
       " 0.12443297356367111,\n",
       " 0.12007183581590652,\n",
       " 0.11520889401435852,\n",
       " 0.11311700195074081,\n",
       " 0.10948406159877777,\n",
       " 0.10781314224004745,\n",
       " 0.1053139716386795,\n",
       " 0.10159645229578018,\n",
       " 0.0992843359708786,\n",
       " 0.10118331015110016,\n",
       " 0.09313101321458817,\n",
       " 0.09190646559000015,\n",
       " 0.09320449829101562,\n",
       " 0.08842766284942627,\n",
       " 0.08681462705135345,\n",
       " 0.08647329360246658,\n",
       " 0.08104054629802704,\n",
       " 0.08792676776647568,\n",
       " 0.0782824456691742,\n",
       " 0.0766003429889679,\n",
       " 0.07732842862606049,\n",
       " 0.07532552629709244,\n",
       " 0.07252327352762222]"
      ]
     },
     "execution_count": 37,
     "metadata": {},
     "output_type": "execute_result"
    }
   ],
   "source": [
    "loss"
   ]
  },
  {
   "cell_type": "code",
   "execution_count": 38,
   "id": "879aac52",
   "metadata": {},
   "outputs": [
    {
     "data": {
      "image/png": "[encoded data removed]",
      "text/plain": [
       "<Figure size 576x288 with 2 Axes>"
      ]
     },
     "metadata": {
      "needs_background": "light"
     },
     "output_type": "display_data"
    }
   ],
   "source": [
    "plt.figure(figsize=(8, 4))\n",
    "plt.subplot(1, 2, 1)\n",
    "plt.plot(epochs_range, acc, label='Training Accuracy')\n",
    "plt.plot(epochs_range, val_acc, label='Validation Accuracy')\n",
    "plt.legend(loc=0)\n",
    "plt.title('Training and Validation Accuracy')\n",
    "\n",
    "plt.subplot(1, 2, 2)\n",
    "plt.plot(epochs_range, loss, label='Training Loss')\n",
    "plt.plot(epochs_range, val_loss, label='Validation Loss')\n",
    "plt.legend(loc=0)\n",
    "plt.title('Training and Validation Loss')\n",
    "plt.show()"
   ]
  },
  {
   "cell_type": "code",
   "execution_count": 39,
   "id": "8dacdfc0",
   "metadata": {},
   "outputs": [],
   "source": [
    "# Early Stopping"
   ]
  },
  {
   "cell_type": "code",
   "execution_count": 40,
   "id": "7a099c37",
   "metadata": {},
   "outputs": [],
   "source": [
    "model_new = keras.Sequential([\n",
    "    keras.layers.Flatten(input_shape=(28, 28)),\n",
    "    keras.layers.Dense(512, activation='relu'),\n",
    "    keras.layers.Dense(10,'softmax')\n",
    "])"
   ]
  },
  {
   "cell_type": "code",
   "execution_count": 41,
   "id": "4d989f2d",
   "metadata": {},
   "outputs": [
    {
     "name": "stdout",
     "output_type": "stream",
     "text": [
      "Model: \"sequential_1\"\n",
      "_________________________________________________________________\n",
      "Layer (type)                 Output Shape              Param #   \n",
      "=================================================================\n",
      "flatten_1 (Flatten)          (None, 784)               0         \n",
      "_________________________________________________________________\n",
      "dense_2 (Dense)              (None, 512)               401920    \n",
      "_________________________________________________________________\n",
      "dense_3 (Dense)              (None, 10)                5130      \n",
      "=================================================================\n",
      "Total params: 407,050\n",
      "Trainable params: 407,050\n",
      "Non-trainable params: 0\n",
      "_________________________________________________________________\n"
     ]
    }
   ],
   "source": [
    "model_new.summary()"
   ]
  },
  {
   "cell_type": "code",
   "execution_count": 42,
   "id": "f4d61d1b",
   "metadata": {},
   "outputs": [],
   "source": [
    "model_new.compile(optimizer='adam',\n",
    "              loss=\"sparse_categorical_crossentropy\",\n",
    "              metrics=['accuracy'])"
   ]
  },
  {
   "cell_type": "code",
   "execution_count": 43,
   "id": "ff008e99",
   "metadata": {},
   "outputs": [],
   "source": [
    "callback = keras.callbacks.EarlyStopping(monitor='val_loss',patience=10)"
   ]
  },
  {
   "cell_type": "code",
   "execution_count": 44,
   "id": "7b0b7853",
   "metadata": {},
   "outputs": [
    {
     "name": "stdout",
     "output_type": "stream",
     "text": [
      "Epoch 1/50\n",
      "1500/1500 [==============================] - 5s 3ms/step - loss: 0.4906 - accuracy: 0.8264 - val_loss: 0.4108 - val_accuracy: 0.8512\n",
      "Epoch 2/50\n",
      "1500/1500 [==============================] - 5s 4ms/step - loss: 0.3694 - accuracy: 0.8644 - val_loss: 0.3737 - val_accuracy: 0.8661\n",
      "Epoch 3/50\n",
      "1500/1500 [==============================] - 5s 3ms/step - loss: 0.3325 - accuracy: 0.8764 - val_loss: 0.3301 - val_accuracy: 0.8804\n",
      "Epoch 4/50\n",
      "1500/1500 [==============================] - 5s 3ms/step - loss: 0.3056 - accuracy: 0.8873 - val_loss: 0.3356 - val_accuracy: 0.8792\n",
      "Epoch 5/50\n",
      "1500/1500 [==============================] - 5s 4ms/step - loss: 0.2848 - accuracy: 0.8950 - val_loss: 0.3226 - val_accuracy: 0.8820\n",
      "Epoch 6/50\n",
      "1500/1500 [==============================] - 5s 3ms/step - loss: 0.2702 - accuracy: 0.9001 - val_loss: 0.3171 - val_accuracy: 0.8893\n",
      "Epoch 7/50\n",
      "1500/1500 [==============================] - 5s 3ms/step - loss: 0.2551 - accuracy: 0.9035 - val_loss: 0.3163 - val_accuracy: 0.8876\n",
      "Epoch 8/50\n",
      "1500/1500 [==============================] - 5s 3ms/step - loss: 0.2432 - accuracy: 0.9101 - val_loss: 0.3284 - val_accuracy: 0.8832\n",
      "Epoch 9/50\n",
      "1500/1500 [==============================] - 5s 3ms/step - loss: 0.2353 - accuracy: 0.9117 - val_loss: 0.3564 - val_accuracy: 0.8785\n",
      "Epoch 10/50\n",
      "1500/1500 [==============================] - 5s 3ms/step - loss: 0.2256 - accuracy: 0.9154 - val_loss: 0.3064 - val_accuracy: 0.8932\n",
      "Epoch 11/50\n",
      "1500/1500 [==============================] - 5s 4ms/step - loss: 0.2145 - accuracy: 0.9183 - val_loss: 0.3148 - val_accuracy: 0.8889\n",
      "Epoch 12/50\n",
      "1500/1500 [==============================] - 5s 3ms/step - loss: 0.2085 - accuracy: 0.9224 - val_loss: 0.3236 - val_accuracy: 0.8911\n",
      "Epoch 13/50\n",
      "1500/1500 [==============================] - 5s 3ms/step - loss: 0.2013 - accuracy: 0.9248 - val_loss: 0.3108 - val_accuracy: 0.8945\n",
      "Epoch 14/50\n",
      "1500/1500 [==============================] - 5s 4ms/step - loss: 0.1925 - accuracy: 0.9288 - val_loss: 0.3187 - val_accuracy: 0.8958\n",
      "Epoch 15/50\n",
      "1500/1500 [==============================] - 5s 4ms/step - loss: 0.1866 - accuracy: 0.9307 - val_loss: 0.3583 - val_accuracy: 0.8867\n",
      "Epoch 16/50\n",
      "1500/1500 [==============================] - 5s 3ms/step - loss: 0.1764 - accuracy: 0.9332 - val_loss: 0.3501 - val_accuracy: 0.8890\n",
      "Epoch 17/50\n",
      "1500/1500 [==============================] - 5s 3ms/step - loss: 0.1723 - accuracy: 0.9364 - val_loss: 0.3466 - val_accuracy: 0.8908\n",
      "Epoch 18/50\n",
      "1500/1500 [==============================] - 5s 4ms/step - loss: 0.1669 - accuracy: 0.9381 - val_loss: 0.3296 - val_accuracy: 0.8965\n",
      "Epoch 19/50\n",
      "1500/1500 [==============================] - 5s 3ms/step - loss: 0.1609 - accuracy: 0.9393 - val_loss: 0.3407 - val_accuracy: 0.8932\n",
      "Epoch 20/50\n",
      "1500/1500 [==============================] - 5s 3ms/step - loss: 0.1548 - accuracy: 0.9416 - val_loss: 0.3476 - val_accuracy: 0.8910\n"
     ]
    }
   ],
   "source": [
    "history = model_new.fit(train_images, train_labels, epochs=50, validation_split=0.2,callbacks=callback)"
   ]
  },
  {
   "cell_type": "code",
   "execution_count": 46,
   "id": "3f36ab78",
   "metadata": {},
   "outputs": [
    {
     "data": {
      "image/png": "[encoded data removed]",
      "text/plain": [
       "<Figure size 576x288 with 2 Axes>"
      ]
     },
     "metadata": {
      "needs_background": "light"
     },
     "output_type": "display_data"
    }
   ],
   "source": [
    "epochs = 20\n",
    "acc = history.history['accuracy']\n",
    "val_acc = history.history['val_accuracy']\n",
    "\n",
    "loss = history.history['loss']\n",
    "val_loss = history.history['val_loss']\n",
    "\n",
    "epochs_range = range(epochs)\n",
    "\n",
    "plt.figure(figsize=(8, 4))\n",
    "plt.subplot(1, 2, 1)\n",
    "plt.plot(epochs_range, acc, label='Training Accuracy')\n",
    "plt.plot(epochs_range, val_acc, label='Validation Accuracy')\n",
    "plt.legend(loc=0)\n",
    "plt.title('Training and Validation Accuracy')\n",
    "\n",
    "plt.subplot(1, 2, 2)\n",
    "plt.plot(epochs_range, loss, label='Training Loss')\n",
    "plt.plot(epochs_range, val_loss, label='Validation Loss')\n",
    "plt.legend(loc=0)\n",
    "plt.title('Training and Validation Loss')\n",
    "plt.show()"
   ]
  },
  {
   "cell_type": "code",
   "execution_count": null,
   "id": "047bb9cf",
   "metadata": {},
   "outputs": [],
   "source": []
  }
 ],
 "metadata": {
  "kernelspec": {
   "display_name": "Python 3",
   "language": "python",
   "name": "python3"
  },
  "language_info": {
   "codemirror_mode": {
    "name": "ipython",
    "version": 3
   },
   "file_extension": ".py",
   "mimetype": "text/x-python",
   "name": "python",
   "nbconvert_exporter": "python",
   "pygments_lexer": "ipython3",
   "version": "3.6.13"
  }
 },
 "nbformat": 4,
 "nbformat_minor": 5
}
