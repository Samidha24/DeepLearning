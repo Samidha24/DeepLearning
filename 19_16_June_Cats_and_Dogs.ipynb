{
 "cells": [
  {
   "cell_type": "code",
   "execution_count": 1,
   "id": "9348e8ff",
   "metadata": {},
   "outputs": [],
   "source": [
    "# only for cuda enabled laptop and desktop"
   ]
  },
  {
   "cell_type": "code",
   "execution_count": null,
   "id": "5f3b8301",
   "metadata": {},
   "outputs": [],
   "source": [
    "import tensorflow as tf\n",
    "physical_devices = tf.config.experimental.list_physical_devices('GPU')\n",
    "print(physical_devices)\n",
    "if physical_devices:\n",
    "  tf.config.experimental.set_memory_growth(physical_devices[0], True)"
   ]
  },
  {
   "cell_type": "code",
   "execution_count": null,
   "id": "c0353fb9",
   "metadata": {},
   "outputs": [],
   "source": [
    "import tensorflow as tf\n",
    "tf.keras.utils.get_file('cats_and_dogs_filtered.zip',\"https://storage.googleapis.com/mledu-datasets/cats_and_dogs_filtered.zip\")"
   ]
  },
  {
   "cell_type": "code",
   "execution_count": null,
   "id": "bb1bc7a7",
   "metadata": {},
   "outputs": [],
   "source": [
    "import os\n",
    "import zipfile #to handle zip file"
   ]
  },
  {
   "cell_type": "code",
   "execution_count": null,
   "id": "42b3eef7",
   "metadata": {},
   "outputs": [],
   "source": [
    "local_zip = 'C:\\\\Users\\\\HP\\\\.keras\\\\datasets\\\\cats_and_dogs_filtered.zip'\n",
    "zip_ref = zipfile.ZipFile(local_zip, 'r')\n",
    "zip_ref.extractall()\n",
    "zip_ref.close()"
   ]
  },
  {
   "cell_type": "code",
   "execution_count": null,
   "id": "a36d8293",
   "metadata": {},
   "outputs": [],
   "source": [
    "os.listdir('cats_and_dogs_filtered')"
   ]
  },
  {
   "cell_type": "code",
   "execution_count": null,
   "id": "7c1decc2",
   "metadata": {},
   "outputs": [],
   "source": [
    "os.listdir('cats_and_dogs_filtered/train/')"
   ]
  },
  {
   "cell_type": "code",
   "execution_count": null,
   "id": "f2dda028",
   "metadata": {},
   "outputs": [],
   "source": [
    "os.listdir('cats_and_dogs_filtered/validation/')"
   ]
  },
  {
   "cell_type": "code",
   "execution_count": null,
   "id": "57e8ef80",
   "metadata": {},
   "outputs": [],
   "source": [
    "os.listdir('cats_and_dogs_filtered/train/cats/')"
   ]
  },
  {
   "cell_type": "code",
   "execution_count": null,
   "id": "ef8b7dc6",
   "metadata": {},
   "outputs": [],
   "source": [
    "len(os.listdir('cats_and_dogs_filtered/train/cats/'))"
   ]
  },
  {
   "cell_type": "code",
   "execution_count": null,
   "id": "a5ec1fcc",
   "metadata": {},
   "outputs": [],
   "source": [
    "os.listdir('cats_and_dogs_filtered/train/dogs/')"
   ]
  },
  {
   "cell_type": "code",
   "execution_count": null,
   "id": "d9e80224",
   "metadata": {},
   "outputs": [],
   "source": [
    "len(os.listdir('cats_and_dogs_filtered/train/dogs/'))"
   ]
  },
  {
   "cell_type": "code",
   "execution_count": null,
   "id": "ec9721a5",
   "metadata": {},
   "outputs": [],
   "source": [
    "len(os.listdir('cats_and_dogs_filtered/validation/cats/'))"
   ]
  },
  {
   "cell_type": "code",
   "execution_count": null,
   "id": "818de221",
   "metadata": {},
   "outputs": [],
   "source": [
    "len(os.listdir('cats_and_dogs_filtered/validation/dogs/'))"
   ]
  },
  {
   "cell_type": "code",
   "execution_count": null,
   "id": "b9294b5d",
   "metadata": {},
   "outputs": [],
   "source": [
    "from keras.preprocessing.image import load_img, array_to_img, img_to_array"
   ]
  },
  {
   "cell_type": "code",
   "execution_count": null,
   "id": "d4f2afcf",
   "metadata": {},
   "outputs": [],
   "source": [
    "test1 = load_img('cats_and_dogs_filtered/train/cats/cat.131.jpg')"
   ]
  },
  {
   "cell_type": "code",
   "execution_count": null,
   "id": "ae1bf8dc",
   "metadata": {},
   "outputs": [],
   "source": [
    "test1"
   ]
  },
  {
   "cell_type": "code",
   "execution_count": null,
   "id": "881fb016",
   "metadata": {},
   "outputs": [],
   "source": [
    "test2 = load_img('cats_and_dogs_filtered/train/dogs/dog.112.jpg')"
   ]
  },
  {
   "cell_type": "code",
   "execution_count": null,
   "id": "f2e64539",
   "metadata": {},
   "outputs": [],
   "source": [
    "test2"
   ]
  },
  {
   "cell_type": "code",
   "execution_count": null,
   "id": "64eab2e5",
   "metadata": {},
   "outputs": [],
   "source": [
    "test3 = load_img('cats_and_dogs_filtered/validation/dogs/dog.2007.jpg')"
   ]
  },
  {
   "cell_type": "code",
   "execution_count": null,
   "id": "d468a0bc",
   "metadata": {},
   "outputs": [],
   "source": [
    "test3"
   ]
  },
  {
   "cell_type": "code",
   "execution_count": null,
   "id": "b0f35ded",
   "metadata": {},
   "outputs": [],
   "source": [
    "from tensorflow.keras.models import Sequential\n",
    "from tensorflow.keras.layers import Dense,Conv2D,Flatten,Dropout,MaxPooling2D\n",
    "from tensorflow.keras.preprocessing.image import ImageDataGenerator\n",
    "import numpy as np\n",
    "import matplotlib.pyplot as plt"
   ]
  },
  {
   "cell_type": "code",
   "execution_count": null,
   "id": "46b65f70",
   "metadata": {},
   "outputs": [],
   "source": [
    "parent_path = os.path.join('cats_and_dogs_filtered')"
   ]
  },
  {
   "cell_type": "code",
   "execution_count": null,
   "id": "4a8a2bf9",
   "metadata": {},
   "outputs": [],
   "source": [
    "parent_path"
   ]
  },
  {
   "cell_type": "code",
   "execution_count": null,
   "id": "25c5ad00",
   "metadata": {},
   "outputs": [],
   "source": [
    "train_dir = os.path.join(parent_path,'train')"
   ]
  },
  {
   "cell_type": "code",
   "execution_count": null,
   "id": "e4df9635",
   "metadata": {},
   "outputs": [],
   "source": [
    "train_dir"
   ]
  },
  {
   "cell_type": "code",
   "execution_count": null,
   "id": "f1c21b7f",
   "metadata": {},
   "outputs": [],
   "source": [
    "validation_dir = os.path.join(parent_path,'validation')"
   ]
  },
  {
   "cell_type": "code",
   "execution_count": null,
   "id": "675b1f8a",
   "metadata": {},
   "outputs": [],
   "source": [
    "validation_dir"
   ]
  },
  {
   "cell_type": "code",
   "execution_count": null,
   "id": "d8dd14dc",
   "metadata": {},
   "outputs": [],
   "source": [
    "os.listdir(train_dir)"
   ]
  },
  {
   "cell_type": "code",
   "execution_count": null,
   "id": "c806bac2",
   "metadata": {},
   "outputs": [],
   "source": [
    "train_cats_dir = os.path.join(train_dir,'cats')\n",
    "train_dogs_dir = os.path.join(train_dir,'dogs')"
   ]
  },
  {
   "cell_type": "code",
   "execution_count": null,
   "id": "29080627",
   "metadata": {},
   "outputs": [],
   "source": [
    "train_cats_dir"
   ]
  },
  {
   "cell_type": "code",
   "execution_count": null,
   "id": "889505d7",
   "metadata": {},
   "outputs": [],
   "source": [
    "train_dogs_dir"
   ]
  },
  {
   "cell_type": "code",
   "execution_count": null,
   "id": "edd3e267",
   "metadata": {},
   "outputs": [],
   "source": [
    "validation_cats_dir = os.path.join(validation_dir,'cats')\n",
    "validation_dogs_dir = os.path.join(validation_dir,'dogs')"
   ]
  },
  {
   "cell_type": "code",
   "execution_count": null,
   "id": "203c57ca",
   "metadata": {},
   "outputs": [],
   "source": [
    "validation_cats_dir"
   ]
  },
  {
   "cell_type": "code",
   "execution_count": null,
   "id": "2ab0f27a",
   "metadata": {},
   "outputs": [],
   "source": [
    "validation_dogs_dir"
   ]
  },
  {
   "cell_type": "code",
   "execution_count": null,
   "id": "a527111f",
   "metadata": {},
   "outputs": [],
   "source": [
    "os.listdir(train_dogs_dir)"
   ]
  },
  {
   "cell_type": "code",
   "execution_count": null,
   "id": "4ca7541c",
   "metadata": {},
   "outputs": [],
   "source": [
    "os.listdir('cats_and_dogs_filtered/train/dogs/')"
   ]
  },
  {
   "cell_type": "code",
   "execution_count": null,
   "id": "97d056b6",
   "metadata": {},
   "outputs": [],
   "source": [
    "num_cats_tr = len(os.listdir(train_cats_dir))\n",
    "num_dogs_tr = len(os.listdir(train_dogs_dir))\n",
    "num_cats_val = len(os.listdir(validation_cats_dir))\n",
    "num_dogs_val = len(os.listdir(validation_dogs_dir))\n",
    "print('Cat training data ',num_cats_tr)\n",
    "print('Dog training Data ',num_dogs_tr)\n",
    "print('Cat Valid data ',num_cats_val)\n",
    "print('Dog valid data ',num_dogs_val)"
   ]
  },
  {
   "cell_type": "code",
   "execution_count": null,
   "id": "1516c495",
   "metadata": {},
   "outputs": [],
   "source": [
    "len(os.listdir(train_cats_dir))"
   ]
  },
  {
   "cell_type": "code",
   "execution_count": null,
   "id": "f88722db",
   "metadata": {},
   "outputs": [],
   "source": [
    "total_train=num_cats_tr+num_dogs_tr\n",
    "total_val=num_cats_val+num_dogs_val\n",
    "print('Total Training images = ',total_train)\n",
    "print('Total validation images = ',total_val)"
   ]
  },
  {
   "cell_type": "code",
   "execution_count": null,
   "id": "f9884c06",
   "metadata": {},
   "outputs": [],
   "source": [
    "batch_size = 200\n",
    "epochs = 25\n",
    "IMG_HIEGHT = 150\n",
    "IMG_WIDHT = 150"
   ]
  },
  {
   "cell_type": "code",
   "execution_count": null,
   "id": "f6e323a5",
   "metadata": {},
   "outputs": [],
   "source": [
    "train_image_generator = ImageDataGenerator(rescale=1./255)\n",
    "validation_image_generator = ImageDataGenerator(rescale=1./255)"
   ]
  },
  {
   "cell_type": "code",
   "execution_count": null,
   "id": "d9ae70bf",
   "metadata": {},
   "outputs": [],
   "source": [
    "train_data_gen = train_image_generator.flow_from_directory(batch_size=batch_size,\n",
    "                                                           directory=train_dir,\n",
    "                                                           shuffle=True,\n",
    "                                                           target_size=(IMG_HIEGHT,IMG_WIDHT),\n",
    "                                                           class_mode='binary')"
   ]
  },
  {
   "cell_type": "code",
   "execution_count": null,
   "id": "c3d11415",
   "metadata": {},
   "outputs": [],
   "source": [
    "val_data_gen = validation_image_generator.flow_from_directory(batch_size=batch_size,\n",
    "                                                              directory=validation_dir,\n",
    "                                                              target_size=(IMG_HIEGHT,IMG_WIDHT),\n",
    "                                                              class_mode='binary')"
   ]
  },
  {
   "cell_type": "code",
   "execution_count": null,
   "id": "09fa4f01",
   "metadata": {},
   "outputs": [],
   "source": [
    "train_data_gen.class_indices"
   ]
  },
  {
   "cell_type": "code",
   "execution_count": null,
   "id": "7d5fcd15",
   "metadata": {},
   "outputs": [],
   "source": []
  }
 ],
 "metadata": {
  "kernelspec": {
   "display_name": "Python 3",
   "language": "python",
   "name": "python3"
  },
  "language_info": {
   "codemirror_mode": {
    "name": "ipython",
    "version": 3
   },
   "file_extension": ".py",
   "mimetype": "text/x-python",
   "name": "python",
   "nbconvert_exporter": "python",
   "pygments_lexer": "ipython3",
   "version": "3.6.13"
  }
 },
 "nbformat": 4,
 "nbformat_minor": 5
}
